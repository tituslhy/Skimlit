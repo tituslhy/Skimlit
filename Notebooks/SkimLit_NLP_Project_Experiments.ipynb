{
  "nbformat": 4,
  "nbformat_minor": 0,
  "metadata": {
    "colab": {
      "provenance": []
    },
    "kernelspec": {
      "name": "python3",
      "display_name": "Python 3"
    },
    "language_info": {
      "name": "python"
    },
    "accelerator": "GPU",
    "gpuClass": "standard"
  },
  "cells": [
    {
      "cell_type": "markdown",
      "source": [
        "Let's build an NLP model to make reading medical abstracts easier by classifying sentences which appear in sequential order. The paper we are replicating (including the source of the dataset) is available here: https://arxiv.org/abs/1710.06071"
      ],
      "metadata": {
        "id": "hmhDE0Dbr1YY"
      }
    },
    {
      "cell_type": "markdown",
      "source": [
        "\n",
        "The model architecture that the author used to achieve the best results is available here: https://arxiv.org/pdf/1612.05251.pdf"
      ],
      "metadata": {
        "id": "B4Tz3KUi0C3w"
      }
    },
    {
      "cell_type": "markdown",
      "source": [
        "## Confirm access to a GPU"
      ],
      "metadata": {
        "id": "r_KgXxUSkEyT"
      }
    },
    {
      "cell_type": "code",
      "source": [
        "!nvidia-smi -L"
      ],
      "metadata": {
        "id": "rx3RA-vJycm6",
        "colab": {
          "base_uri": "https://localhost:8080/"
        },
        "outputId": "bf53110c-41b0-4304-9362-7d02576680cd"
      },
      "execution_count": 1,
      "outputs": [
        {
          "output_type": "stream",
          "name": "stdout",
          "text": [
            "GPU 0: Tesla T4 (UUID: GPU-ee0bd87b-a960-e76e-6cf8-2c9a0940a6ef)\n"
          ]
        }
      ]
    },
    {
      "cell_type": "markdown",
      "source": [
        "## Get data\n",
        "Download the PubMed 200k RCT dataset. The authors of the paper have made the data used for the research publicly available and for free on their github page. \n",
        "\n",
        "Let's copy them to our local directory."
      ],
      "metadata": {
        "id": "7YR9sXvwyeR5"
      }
    },
    {
      "cell_type": "code",
      "source": [
        "!git clone https://github.com/Franck-Dernoncourt/pubmed-rct.git\n",
        "!ls pubmed-rct"
      ],
      "metadata": {
        "id": "ANsdQlctyvaL",
        "colab": {
          "base_uri": "https://localhost:8080/"
        },
        "outputId": "399f60a5-d9f0-4217-f2b8-c86045f544b9"
      },
      "execution_count": 2,
      "outputs": [
        {
          "output_type": "stream",
          "name": "stdout",
          "text": [
            "Cloning into 'pubmed-rct'...\n",
            "remote: Enumerating objects: 33, done.\u001b[K\n",
            "remote: Counting objects: 100% (8/8), done.\u001b[K\n",
            "remote: Compressing objects: 100% (3/3), done.\u001b[K\n",
            "remote: Total 33 (delta 5), reused 5 (delta 5), pack-reused 25\u001b[K\n",
            "Unpacking objects: 100% (33/33), 177.08 MiB | 10.87 MiB/s, done.\n",
            "Updating files: 100% (13/13), done.\n",
            "PubMed_200k_RCT\n",
            "PubMed_200k_RCT_numbers_replaced_with_at_sign\n",
            "PubMed_20k_RCT\n",
            "PubMed_20k_RCT_numbers_replaced_with_at_sign\n",
            "README.md\n"
          ]
        }
      ]
    },
    {
      "cell_type": "markdown",
      "source": [
        "According to the README file from the GitHub page, \n",
        "\n",
        "* PubMed 20k is a subset of PubMed 200k. I.e., any abstract present in PubMed 20k is also present in PubMed 200k.\n",
        "* PubMed_200k_RCT is the same as PubMed_200k_RCT_numbers_replaced_with_at_sign, except that in the latter all numbers had been replaced by @. (same for PubMed_20k_RCT vs. PubMed_20k_RCT_numbers_replaced_with_at_sign).\n",
        "* Since Github file size limit is 100 MiB, we had to compress PubMed_200k_RCT\\train.7z and PubMed_200k_RCT_numbers_replaced_with_at_sign\\train.zip. To uncompress train.7z, you may use 7-Zip on Windows, Keka on Mac OS X, or p7zip on Linux.\n",
        "\n"
      ],
      "metadata": {
        "id": "S6ZjshqtzGpe"
      }
    },
    {
      "cell_type": "markdown",
      "source": [
        "## We will be starting our experiments on a the PubMed20k subset so that we can quickly prototype what works and what doesn't work."
      ],
      "metadata": {
        "id": "vAlSc3dCy9Jx"
      }
    },
    {
      "cell_type": "code",
      "source": [
        "!ls pubmed-rct/PubMed_20k_RCT_numbers_replaced_with_at_sign"
      ],
      "metadata": {
        "id": "M95tj3iWyw4o",
        "colab": {
          "base_uri": "https://localhost:8080/"
        },
        "outputId": "349c08e7-be28-434b-e66a-e180003ebd69"
      },
      "execution_count": 3,
      "outputs": [
        {
          "output_type": "stream",
          "name": "stdout",
          "text": [
            "dev.txt  test.txt  train.txt\n"
          ]
        }
      ]
    },
    {
      "cell_type": "code",
      "source": [
        "data_dir = './pubmed-rct/PubMed_20k_RCT_numbers_replaced_with_at_sign'"
      ],
      "metadata": {
        "id": "T5CDNiTTzeNV"
      },
      "execution_count": 4,
      "outputs": []
    },
    {
      "cell_type": "code",
      "source": [
        "import os\n",
        "\n",
        "filenames = [data_dir + filename for filename in os.listdir(data_dir)]\n",
        "filenames"
      ],
      "metadata": {
        "id": "9aLTnqjvzpPs",
        "colab": {
          "base_uri": "https://localhost:8080/"
        },
        "outputId": "5da6607a-e7e7-4d82-e913-41f51f0822f1"
      },
      "execution_count": 5,
      "outputs": [
        {
          "output_type": "execute_result",
          "data": {
            "text/plain": [
              "['./pubmed-rct/PubMed_20k_RCT_numbers_replaced_with_at_signtest.txt',\n",
              " './pubmed-rct/PubMed_20k_RCT_numbers_replaced_with_at_signtrain.txt',\n",
              " './pubmed-rct/PubMed_20k_RCT_numbers_replaced_with_at_signdev.txt']"
            ]
          },
          "metadata": {},
          "execution_count": 5
        }
      ]
    },
    {
      "cell_type": "markdown",
      "source": [
        "## Exploratory data analysis and data preprocessing\n",
        "\n",
        " \n",
        "> We will also need to convert the data into tensors for model training."
      ],
      "metadata": {
        "id": "CNZWE5Xizvmv"
      }
    },
    {
      "cell_type": "code",
      "source": [
        "# Create function to read lines of document\n",
        "\n",
        "def get_lines(filename):\n",
        "  \"\"\"Reads file name and returns lines of text as a list.\n",
        "  \n",
        "  args:\n",
        "    Filename (str): Filename containing target filepath\n",
        "  \n",
        "  returns:\n",
        "    A list of strings with one string per line from target filename.\n",
        "  \"\"\"\n",
        "  with open(filename, 'r') as f:\n",
        "    return f.readlines()"
      ],
      "metadata": {
        "id": "A2MIw_-4zzzP"
      },
      "execution_count": 6,
      "outputs": []
    },
    {
      "cell_type": "code",
      "source": [
        "# Read in training lines\n",
        "train_lines = get_lines(data_dir + '/train.txt')\n",
        "train_lines[:20]"
      ],
      "metadata": {
        "id": "A7HApNAi1Cu7",
        "colab": {
          "base_uri": "https://localhost:8080/"
        },
        "outputId": "1376e9ed-1034-4bed-bc8b-b53314b1f212"
      },
      "execution_count": 7,
      "outputs": [
        {
          "output_type": "execute_result",
          "data": {
            "text/plain": [
              "['###24293578\\n',\n",
              " 'OBJECTIVE\\tTo investigate the efficacy of @ weeks of daily low-dose oral prednisolone in improving pain , mobility , and systemic low-grade inflammation in the short term and whether the effect would be sustained at @ weeks in older adults with moderate to severe knee osteoarthritis ( OA ) .\\n',\n",
              " 'METHODS\\tA total of @ patients with primary knee OA were randomized @:@ ; @ received @ mg/day of prednisolone and @ received placebo for @ weeks .\\n',\n",
              " 'METHODS\\tOutcome measures included pain reduction and improvement in function scores and systemic inflammation markers .\\n',\n",
              " 'METHODS\\tPain was assessed using the visual analog pain scale ( @-@ mm ) .\\n',\n",
              " 'METHODS\\tSecondary outcome measures included the Western Ontario and McMaster Universities Osteoarthritis Index scores , patient global assessment ( PGA ) of the severity of knee OA , and @-min walk distance ( @MWD ) .\\n',\n",
              " 'METHODS\\tSerum levels of interleukin @ ( IL-@ ) , IL-@ , tumor necrosis factor ( TNF ) - , and high-sensitivity C-reactive protein ( hsCRP ) were measured .\\n',\n",
              " 'RESULTS\\tThere was a clinically relevant reduction in the intervention group compared to the placebo group for knee pain , physical function , PGA , and @MWD at @ weeks .\\n',\n",
              " 'RESULTS\\tThe mean difference between treatment arms ( @ % CI ) was @ ( @-@ @ ) , p < @ ; @ ( @-@ @ ) , p < @ ; @ ( @-@ @ ) , p < @ ; and @ ( @-@ @ ) , p < @ , respectively .\\n',\n",
              " 'RESULTS\\tFurther , there was a clinically relevant reduction in the serum levels of IL-@ , IL-@ , TNF - , and hsCRP at @ weeks in the intervention group when compared to the placebo group .\\n',\n",
              " 'RESULTS\\tThese differences remained significant at @ weeks .\\n',\n",
              " 'RESULTS\\tThe Outcome Measures in Rheumatology Clinical Trials-Osteoarthritis Research Society International responder rate was @ % in the intervention group and @ % in the placebo group ( p < @ ) .\\n',\n",
              " 'CONCLUSIONS\\tLow-dose oral prednisolone had both a short-term and a longer sustained effect resulting in less knee pain , better physical function , and attenuation of systemic inflammation in older patients with knee OA ( ClinicalTrials.gov identifier NCT@ ) .\\n',\n",
              " '\\n',\n",
              " '###24854809\\n',\n",
              " 'BACKGROUND\\tEmotional eating is associated with overeating and the development of obesity .\\n',\n",
              " 'BACKGROUND\\tYet , empirical evidence for individual ( trait ) differences in emotional eating and cognitive mechanisms that contribute to eating during sad mood remain equivocal .\\n',\n",
              " 'OBJECTIVE\\tThe aim of this study was to test if attention bias for food moderates the effect of self-reported emotional eating during sad mood ( vs neutral mood ) on actual food intake .\\n',\n",
              " 'OBJECTIVE\\tIt was expected that emotional eating is predictive of elevated attention for food and higher food intake after an experimentally induced sad mood and that attentional maintenance on food predicts food intake during a sad versus a neutral mood .\\n',\n",
              " 'METHODS\\tParticipants ( N = @ ) were randomly assigned to one of the two experimental mood induction conditions ( sad/neutral ) .\\n']"
            ]
          },
          "metadata": {},
          "execution_count": 7
        }
      ]
    },
    {
      "cell_type": "code",
      "source": [
        "len(train_lines)"
      ],
      "metadata": {
        "id": "rASNDZNI1caP",
        "colab": {
          "base_uri": "https://localhost:8080/"
        },
        "outputId": "b9abcaec-7304-468f-ad6d-3e7fd216c6db"
      },
      "execution_count": 8,
      "outputs": [
        {
          "output_type": "execute_result",
          "data": {
            "text/plain": [
              "210040"
            ]
          },
          "metadata": {},
          "execution_count": 8
        }
      ]
    },
    {
      "cell_type": "markdown",
      "source": [
        "Each abstract starts with a numerical ID prefaced by '###'. This can be used for separation between abstracts. Though there are >200k lines, not all of these lines are important - some are just numerical IDs of abstracts. It's also important to notice that the lines are also sequential.\n",
        "\n",
        "Also, each sentence of the abstract has a label at the start and is tab separated from the label.\n",
        "\n",
        "Text files do not have any structure, making deep learning difficult. A good data structure to organize our data is a list of dictionaries:\n",
        "\n",
        "```\n",
        "[{'line_number': 0,\n",
        "    'target': 'BACKGROUND',\n",
        "    'text': 'Emotional eating is associated with overeating and the development of obesity.\\n',\n",
        "    'total_lines': 11},\n",
        "  ...]\n",
        "  ```"
      ],
      "metadata": {
        "id": "QnR-i-191Nw5"
      }
    },
    {
      "cell_type": "code",
      "source": [
        "def preprocess_text(filename):\n",
        "  \"\"\"\n",
        "  Returns a list of dictionaries of line data from the abstract string.\n",
        "\n",
        "  The function takes in filename, reads its contents and sorts through\n",
        "  each line, extracting things like the target label, the text of sentence,\n",
        "  how many sentences are in the current abstract, and what sentence the target\n",
        "  line is at.\n",
        "  \"\"\"\n",
        "  input_lines = get_lines(filename)\n",
        "  abstract_lines, abstract_samples = \"\", []\n",
        "\n",
        "  #Loop through list of lines and inspect each line in list.\n",
        "  for line in input_lines:\n",
        "\n",
        "    if line.startswith(\"###\"): \n",
        "      abstract_id = line\n",
        "      abstract_lines = \"\" #reset to empty strings if line is an ID line\n",
        "\n",
        "    #We save abstract lines into a single string. The space denotes the end\n",
        "    #of the line. So we can split the string when we see a space.\n",
        "    elif line.isspace(): \n",
        "      abstract_line_split = abstract_lines.splitlines()\n",
        "\n",
        "      #Iterate through each line in a single abstract and count them\n",
        "      for abstract_line_number, abstract_line in enumerate(abstract_line_split):\n",
        "        line_data = {} #Create an empty dictionary for each line\n",
        "        target_text_split = abstract_line.split('\\t') #split target label from text\n",
        "        line_data['line_number'] = abstract_line_number\n",
        "        line_data['target'] = target_text_split[0]\n",
        "        line_data['text'] = target_text_split[1].lower()        \n",
        "        line_data['total_lines'] = len(abstract_line_split) - 1\n",
        "        abstract_samples.append(line_data)\n",
        "    \n",
        "    else: #the line contains a labelled sentence\n",
        "      abstract_lines += line\n",
        "  \n",
        "  return abstract_samples"
      ],
      "metadata": {
        "id": "4fLQXtwH1bkZ"
      },
      "execution_count": 9,
      "outputs": []
    },
    {
      "cell_type": "code",
      "source": [
        "# Get data from file and preprocess it\n",
        "%%time\n",
        "train_samples = preprocess_text(data_dir+'/train.txt')\n",
        "val_samples = preprocess_text(data_dir+'/dev.txt')\n",
        "test_samples = preprocess_text(data_dir+'/test.txt')\n",
        "print(len(train_samples),len(val_samples),len(test_samples))"
      ],
      "metadata": {
        "colab": {
          "base_uri": "https://localhost:8080/"
        },
        "id": "8LKYHg5jWQZG",
        "outputId": "4f729dbd-9e95-4e15-a8ad-538b96646acf"
      },
      "execution_count": 10,
      "outputs": [
        {
          "output_type": "stream",
          "name": "stdout",
          "text": [
            "180040 30212 30135\n",
            "CPU times: user 700 ms, sys: 111 ms, total: 811 ms\n",
            "Wall time: 1.51 s\n"
          ]
        }
      ]
    },
    {
      "cell_type": "code",
      "source": [
        "#Check the first abstract of training data\n",
        "train_samples[:20]"
      ],
      "metadata": {
        "colab": {
          "base_uri": "https://localhost:8080/"
        },
        "id": "5UHkE1XLZQus",
        "outputId": "ab2663e3-e039-4601-ddd5-c89cdcf46867"
      },
      "execution_count": 11,
      "outputs": [
        {
          "output_type": "execute_result",
          "data": {
            "text/plain": [
              "[{'line_number': 0,\n",
              "  'target': 'OBJECTIVE',\n",
              "  'text': 'to investigate the efficacy of @ weeks of daily low-dose oral prednisolone in improving pain , mobility , and systemic low-grade inflammation in the short term and whether the effect would be sustained at @ weeks in older adults with moderate to severe knee osteoarthritis ( oa ) .',\n",
              "  'total_lines': 11},\n",
              " {'line_number': 1,\n",
              "  'target': 'METHODS',\n",
              "  'text': 'a total of @ patients with primary knee oa were randomized @:@ ; @ received @ mg/day of prednisolone and @ received placebo for @ weeks .',\n",
              "  'total_lines': 11},\n",
              " {'line_number': 2,\n",
              "  'target': 'METHODS',\n",
              "  'text': 'outcome measures included pain reduction and improvement in function scores and systemic inflammation markers .',\n",
              "  'total_lines': 11},\n",
              " {'line_number': 3,\n",
              "  'target': 'METHODS',\n",
              "  'text': 'pain was assessed using the visual analog pain scale ( @-@ mm ) .',\n",
              "  'total_lines': 11},\n",
              " {'line_number': 4,\n",
              "  'target': 'METHODS',\n",
              "  'text': 'secondary outcome measures included the western ontario and mcmaster universities osteoarthritis index scores , patient global assessment ( pga ) of the severity of knee oa , and @-min walk distance ( @mwd ) .',\n",
              "  'total_lines': 11},\n",
              " {'line_number': 5,\n",
              "  'target': 'METHODS',\n",
              "  'text': 'serum levels of interleukin @ ( il-@ ) , il-@ , tumor necrosis factor ( tnf ) - , and high-sensitivity c-reactive protein ( hscrp ) were measured .',\n",
              "  'total_lines': 11},\n",
              " {'line_number': 6,\n",
              "  'target': 'RESULTS',\n",
              "  'text': 'there was a clinically relevant reduction in the intervention group compared to the placebo group for knee pain , physical function , pga , and @mwd at @ weeks .',\n",
              "  'total_lines': 11},\n",
              " {'line_number': 7,\n",
              "  'target': 'RESULTS',\n",
              "  'text': 'the mean difference between treatment arms ( @ % ci ) was @ ( @-@ @ ) , p < @ ; @ ( @-@ @ ) , p < @ ; @ ( @-@ @ ) , p < @ ; and @ ( @-@ @ ) , p < @ , respectively .',\n",
              "  'total_lines': 11},\n",
              " {'line_number': 8,\n",
              "  'target': 'RESULTS',\n",
              "  'text': 'further , there was a clinically relevant reduction in the serum levels of il-@ , il-@ , tnf - , and hscrp at @ weeks in the intervention group when compared to the placebo group .',\n",
              "  'total_lines': 11},\n",
              " {'line_number': 9,\n",
              "  'target': 'RESULTS',\n",
              "  'text': 'these differences remained significant at @ weeks .',\n",
              "  'total_lines': 11},\n",
              " {'line_number': 10,\n",
              "  'target': 'RESULTS',\n",
              "  'text': 'the outcome measures in rheumatology clinical trials-osteoarthritis research society international responder rate was @ % in the intervention group and @ % in the placebo group ( p < @ ) .',\n",
              "  'total_lines': 11},\n",
              " {'line_number': 11,\n",
              "  'target': 'CONCLUSIONS',\n",
              "  'text': 'low-dose oral prednisolone had both a short-term and a longer sustained effect resulting in less knee pain , better physical function , and attenuation of systemic inflammation in older patients with knee oa ( clinicaltrials.gov identifier nct@ ) .',\n",
              "  'total_lines': 11},\n",
              " {'line_number': 0,\n",
              "  'target': 'BACKGROUND',\n",
              "  'text': 'emotional eating is associated with overeating and the development of obesity .',\n",
              "  'total_lines': 10},\n",
              " {'line_number': 1,\n",
              "  'target': 'BACKGROUND',\n",
              "  'text': 'yet , empirical evidence for individual ( trait ) differences in emotional eating and cognitive mechanisms that contribute to eating during sad mood remain equivocal .',\n",
              "  'total_lines': 10},\n",
              " {'line_number': 2,\n",
              "  'target': 'OBJECTIVE',\n",
              "  'text': 'the aim of this study was to test if attention bias for food moderates the effect of self-reported emotional eating during sad mood ( vs neutral mood ) on actual food intake .',\n",
              "  'total_lines': 10},\n",
              " {'line_number': 3,\n",
              "  'target': 'OBJECTIVE',\n",
              "  'text': 'it was expected that emotional eating is predictive of elevated attention for food and higher food intake after an experimentally induced sad mood and that attentional maintenance on food predicts food intake during a sad versus a neutral mood .',\n",
              "  'total_lines': 10},\n",
              " {'line_number': 4,\n",
              "  'target': 'METHODS',\n",
              "  'text': 'participants ( n = @ ) were randomly assigned to one of the two experimental mood induction conditions ( sad/neutral ) .',\n",
              "  'total_lines': 10},\n",
              " {'line_number': 5,\n",
              "  'target': 'METHODS',\n",
              "  'text': 'attentional biases for high caloric foods were measured by eye tracking during a visual probe task with pictorial food and neutral stimuli .',\n",
              "  'total_lines': 10},\n",
              " {'line_number': 6,\n",
              "  'target': 'METHODS',\n",
              "  'text': 'self-reported emotional eating was assessed with the dutch eating behavior questionnaire ( debq ) and ad libitum food intake was tested by a disguised food offer .',\n",
              "  'total_lines': 10},\n",
              " {'line_number': 7,\n",
              "  'target': 'RESULTS',\n",
              "  'text': 'hierarchical multivariate regression modeling showed that self-reported emotional eating did not account for changes in attention allocation for food or food intake in either condition .',\n",
              "  'total_lines': 10}]"
            ]
          },
          "metadata": {},
          "execution_count": 11
        }
      ]
    },
    {
      "cell_type": "markdown",
      "source": [
        "Transform data from a list of dictionaries to a dataframe"
      ],
      "metadata": {
        "id": "bCUmqCwWZvAa"
      }
    },
    {
      "cell_type": "code",
      "source": [
        "import pandas as pd\n",
        "\n",
        "train_df = pd.DataFrame(train_samples)\n",
        "val_df = pd.DataFrame(val_samples)\n",
        "test_df = pd.DataFrame(test_samples)\n",
        "\n",
        "train_df.head()"
      ],
      "metadata": {
        "colab": {
          "base_uri": "https://localhost:8080/",
          "height": 206
        },
        "id": "fHzRM5bGZWZH",
        "outputId": "26ce2711-44f9-41cf-ff55-0f16abc50628"
      },
      "execution_count": 12,
      "outputs": [
        {
          "output_type": "execute_result",
          "data": {
            "text/plain": [
              "   line_number     target                                               text  \\\n",
              "0            0  OBJECTIVE  to investigate the efficacy of @ weeks of dail...   \n",
              "1            1    METHODS  a total of @ patients with primary knee oa wer...   \n",
              "2            2    METHODS  outcome measures included pain reduction and i...   \n",
              "3            3    METHODS  pain was assessed using the visual analog pain...   \n",
              "4            4    METHODS  secondary outcome measures included the wester...   \n",
              "\n",
              "   total_lines  \n",
              "0           11  \n",
              "1           11  \n",
              "2           11  \n",
              "3           11  \n",
              "4           11  "
            ],
            "text/html": [
              "\n",
              "  <div id=\"df-91aa4ec5-4f45-4f65-bb8b-ecad86254b3d\">\n",
              "    <div class=\"colab-df-container\">\n",
              "      <div>\n",
              "<style scoped>\n",
              "    .dataframe tbody tr th:only-of-type {\n",
              "        vertical-align: middle;\n",
              "    }\n",
              "\n",
              "    .dataframe tbody tr th {\n",
              "        vertical-align: top;\n",
              "    }\n",
              "\n",
              "    .dataframe thead th {\n",
              "        text-align: right;\n",
              "    }\n",
              "</style>\n",
              "<table border=\"1\" class=\"dataframe\">\n",
              "  <thead>\n",
              "    <tr style=\"text-align: right;\">\n",
              "      <th></th>\n",
              "      <th>line_number</th>\n",
              "      <th>target</th>\n",
              "      <th>text</th>\n",
              "      <th>total_lines</th>\n",
              "    </tr>\n",
              "  </thead>\n",
              "  <tbody>\n",
              "    <tr>\n",
              "      <th>0</th>\n",
              "      <td>0</td>\n",
              "      <td>OBJECTIVE</td>\n",
              "      <td>to investigate the efficacy of @ weeks of dail...</td>\n",
              "      <td>11</td>\n",
              "    </tr>\n",
              "    <tr>\n",
              "      <th>1</th>\n",
              "      <td>1</td>\n",
              "      <td>METHODS</td>\n",
              "      <td>a total of @ patients with primary knee oa wer...</td>\n",
              "      <td>11</td>\n",
              "    </tr>\n",
              "    <tr>\n",
              "      <th>2</th>\n",
              "      <td>2</td>\n",
              "      <td>METHODS</td>\n",
              "      <td>outcome measures included pain reduction and i...</td>\n",
              "      <td>11</td>\n",
              "    </tr>\n",
              "    <tr>\n",
              "      <th>3</th>\n",
              "      <td>3</td>\n",
              "      <td>METHODS</td>\n",
              "      <td>pain was assessed using the visual analog pain...</td>\n",
              "      <td>11</td>\n",
              "    </tr>\n",
              "    <tr>\n",
              "      <th>4</th>\n",
              "      <td>4</td>\n",
              "      <td>METHODS</td>\n",
              "      <td>secondary outcome measures included the wester...</td>\n",
              "      <td>11</td>\n",
              "    </tr>\n",
              "  </tbody>\n",
              "</table>\n",
              "</div>\n",
              "      <button class=\"colab-df-convert\" onclick=\"convertToInteractive('df-91aa4ec5-4f45-4f65-bb8b-ecad86254b3d')\"\n",
              "              title=\"Convert this dataframe to an interactive table.\"\n",
              "              style=\"display:none;\">\n",
              "        \n",
              "  <svg xmlns=\"http://www.w3.org/2000/svg\" height=\"24px\"viewBox=\"0 0 24 24\"\n",
              "       width=\"24px\">\n",
              "    <path d=\"M0 0h24v24H0V0z\" fill=\"none\"/>\n",
              "    <path d=\"M18.56 5.44l.94 2.06.94-2.06 2.06-.94-2.06-.94-.94-2.06-.94 2.06-2.06.94zm-11 1L8.5 8.5l.94-2.06 2.06-.94-2.06-.94L8.5 2.5l-.94 2.06-2.06.94zm10 10l.94 2.06.94-2.06 2.06-.94-2.06-.94-.94-2.06-.94 2.06-2.06.94z\"/><path d=\"M17.41 7.96l-1.37-1.37c-.4-.4-.92-.59-1.43-.59-.52 0-1.04.2-1.43.59L10.3 9.45l-7.72 7.72c-.78.78-.78 2.05 0 2.83L4 21.41c.39.39.9.59 1.41.59.51 0 1.02-.2 1.41-.59l7.78-7.78 2.81-2.81c.8-.78.8-2.07 0-2.86zM5.41 20L4 18.59l7.72-7.72 1.47 1.35L5.41 20z\"/>\n",
              "  </svg>\n",
              "      </button>\n",
              "      \n",
              "  <style>\n",
              "    .colab-df-container {\n",
              "      display:flex;\n",
              "      flex-wrap:wrap;\n",
              "      gap: 12px;\n",
              "    }\n",
              "\n",
              "    .colab-df-convert {\n",
              "      background-color: #E8F0FE;\n",
              "      border: none;\n",
              "      border-radius: 50%;\n",
              "      cursor: pointer;\n",
              "      display: none;\n",
              "      fill: #1967D2;\n",
              "      height: 32px;\n",
              "      padding: 0 0 0 0;\n",
              "      width: 32px;\n",
              "    }\n",
              "\n",
              "    .colab-df-convert:hover {\n",
              "      background-color: #E2EBFA;\n",
              "      box-shadow: 0px 1px 2px rgba(60, 64, 67, 0.3), 0px 1px 3px 1px rgba(60, 64, 67, 0.15);\n",
              "      fill: #174EA6;\n",
              "    }\n",
              "\n",
              "    [theme=dark] .colab-df-convert {\n",
              "      background-color: #3B4455;\n",
              "      fill: #D2E3FC;\n",
              "    }\n",
              "\n",
              "    [theme=dark] .colab-df-convert:hover {\n",
              "      background-color: #434B5C;\n",
              "      box-shadow: 0px 1px 3px 1px rgba(0, 0, 0, 0.15);\n",
              "      filter: drop-shadow(0px 1px 2px rgba(0, 0, 0, 0.3));\n",
              "      fill: #FFFFFF;\n",
              "    }\n",
              "  </style>\n",
              "\n",
              "      <script>\n",
              "        const buttonEl =\n",
              "          document.querySelector('#df-91aa4ec5-4f45-4f65-bb8b-ecad86254b3d button.colab-df-convert');\n",
              "        buttonEl.style.display =\n",
              "          google.colab.kernel.accessAllowed ? 'block' : 'none';\n",
              "\n",
              "        async function convertToInteractive(key) {\n",
              "          const element = document.querySelector('#df-91aa4ec5-4f45-4f65-bb8b-ecad86254b3d');\n",
              "          const dataTable =\n",
              "            await google.colab.kernel.invokeFunction('convertToInteractive',\n",
              "                                                     [key], {});\n",
              "          if (!dataTable) return;\n",
              "\n",
              "          const docLinkHtml = 'Like what you see? Visit the ' +\n",
              "            '<a target=\"_blank\" href=https://colab.research.google.com/notebooks/data_table.ipynb>data table notebook</a>'\n",
              "            + ' to learn more about interactive tables.';\n",
              "          element.innerHTML = '';\n",
              "          dataTable['output_type'] = 'display_data';\n",
              "          await google.colab.output.renderOutput(dataTable, element);\n",
              "          const docLink = document.createElement('div');\n",
              "          docLink.innerHTML = docLinkHtml;\n",
              "          element.appendChild(docLink);\n",
              "        }\n",
              "      </script>\n",
              "    </div>\n",
              "  </div>\n",
              "  "
            ]
          },
          "metadata": {},
          "execution_count": 12
        }
      ]
    },
    {
      "cell_type": "code",
      "source": [
        "# Check distibrution of labels\n",
        "train_df.target.value_counts()"
      ],
      "metadata": {
        "colab": {
          "base_uri": "https://localhost:8080/"
        },
        "id": "he6bDb3XZupH",
        "outputId": "b4346eed-7c89-40db-d26e-de94ad24682c"
      },
      "execution_count": 13,
      "outputs": [
        {
          "output_type": "execute_result",
          "data": {
            "text/plain": [
              "METHODS        59353\n",
              "RESULTS        57953\n",
              "CONCLUSIONS    27168\n",
              "BACKGROUND     21727\n",
              "OBJECTIVE      13839\n",
              "Name: target, dtype: int64"
            ]
          },
          "metadata": {},
          "execution_count": 13
        }
      ]
    },
    {
      "cell_type": "markdown",
      "source": [
        "There's some class imbalance but this is still ok 😶"
      ],
      "metadata": {
        "id": "I64w4-nEaKAi"
      }
    },
    {
      "cell_type": "code",
      "source": [
        "train_df.total_lines.plot.hist();"
      ],
      "metadata": {
        "colab": {
          "base_uri": "https://localhost:8080/",
          "height": 267
        },
        "id": "_IyQJvNzaIwx",
        "outputId": "d06a07de-9e61-441c-f6b3-4f5caf32e6c6"
      },
      "execution_count": 14,
      "outputs": [
        {
          "output_type": "display_data",
          "data": {
            "text/plain": [
              "<Figure size 432x288 with 1 Axes>"
            ],
            "image/png": "[encoded data removed]"
          },
          "metadata": {
            "needs_background": "light"
          }
        }
      ]
    },
    {
      "cell_type": "markdown",
      "source": [
        "Quick check: Most abstracts are not very long"
      ],
      "metadata": {
        "id": "dWDpiBrUaT40"
      }
    },
    {
      "cell_type": "markdown",
      "source": [
        "Extracting just the texts"
      ],
      "metadata": {
        "id": "6UO567syaju6"
      }
    },
    {
      "cell_type": "code",
      "source": [
        "# Convert abstract text lines into list\n",
        "train_sentences = train_df['text'].tolist()\n",
        "val_sentences = val_df['text'].tolist()\n",
        "test_sentences = test_df['text'].tolist()"
      ],
      "metadata": {
        "id": "xNEsNsEnaRz-"
      },
      "execution_count": 15,
      "outputs": []
    },
    {
      "cell_type": "code",
      "source": [
        "train_sentences[:10]"
      ],
      "metadata": {
        "colab": {
          "base_uri": "https://localhost:8080/"
        },
        "id": "3ilUVuITagBt",
        "outputId": "c3942e7b-8720-414e-edfa-f6f395a41ea6"
      },
      "execution_count": 16,
      "outputs": [
        {
          "output_type": "execute_result",
          "data": {
            "text/plain": [
              "['to investigate the efficacy of @ weeks of daily low-dose oral prednisolone in improving pain , mobility , and systemic low-grade inflammation in the short term and whether the effect would be sustained at @ weeks in older adults with moderate to severe knee osteoarthritis ( oa ) .',\n",
              " 'a total of @ patients with primary knee oa were randomized @:@ ; @ received @ mg/day of prednisolone and @ received placebo for @ weeks .',\n",
              " 'outcome measures included pain reduction and improvement in function scores and systemic inflammation markers .',\n",
              " 'pain was assessed using the visual analog pain scale ( @-@ mm ) .',\n",
              " 'secondary outcome measures included the western ontario and mcmaster universities osteoarthritis index scores , patient global assessment ( pga ) of the severity of knee oa , and @-min walk distance ( @mwd ) .',\n",
              " 'serum levels of interleukin @ ( il-@ ) , il-@ , tumor necrosis factor ( tnf ) - , and high-sensitivity c-reactive protein ( hscrp ) were measured .',\n",
              " 'there was a clinically relevant reduction in the intervention group compared to the placebo group for knee pain , physical function , pga , and @mwd at @ weeks .',\n",
              " 'the mean difference between treatment arms ( @ % ci ) was @ ( @-@ @ ) , p < @ ; @ ( @-@ @ ) , p < @ ; @ ( @-@ @ ) , p < @ ; and @ ( @-@ @ ) , p < @ , respectively .',\n",
              " 'further , there was a clinically relevant reduction in the serum levels of il-@ , il-@ , tnf - , and hscrp at @ weeks in the intervention group when compared to the placebo group .',\n",
              " 'these differences remained significant at @ weeks .']"
            ]
          },
          "metadata": {},
          "execution_count": 16
        }
      ]
    },
    {
      "cell_type": "markdown",
      "source": [
        "Make numeric labels - because ML models require numeric labels"
      ],
      "metadata": {
        "id": "CCgqYM1zbGIq"
      }
    },
    {
      "cell_type": "code",
      "source": [
        "from sklearn.preprocessing import OneHotEncoder\n",
        "\n",
        "one_hot_encoder = OneHotEncoder(\n",
        "    sparse = False\n",
        "    ) #Tensorflow is incompatible with sparse matrices\n",
        "\n",
        "train_labels_one_hot = one_hot_encoder.fit_transform(\n",
        "    train_df['target'].to_numpy().reshape(-1,1) #transform to 2D array\n",
        "    )\n",
        "\n",
        "train_labels_one_hot"
      ],
      "metadata": {
        "colab": {
          "base_uri": "https://localhost:8080/"
        },
        "id": "cvpLvcNSahyl",
        "outputId": "32b05685-8c55-4bf7-c397-3fa886dbc8f6"
      },
      "execution_count": 17,
      "outputs": [
        {
          "output_type": "stream",
          "name": "stderr",
          "text": [
            "/usr/local/lib/python3.8/dist-packages/sklearn/preprocessing/_encoders.py:828: FutureWarning: `sparse` was renamed to `sparse_output` in version 1.2 and will be removed in 1.4. `sparse_output` is ignored unless you leave `sparse` to its default value.\n",
            "  warnings.warn(\n"
          ]
        },
        {
          "output_type": "execute_result",
          "data": {
            "text/plain": [
              "array([[0., 0., 0., 1., 0.],\n",
              "       [0., 0., 1., 0., 0.],\n",
              "       [0., 0., 1., 0., 0.],\n",
              "       ...,\n",
              "       [0., 0., 0., 0., 1.],\n",
              "       [0., 1., 0., 0., 0.],\n",
              "       [0., 1., 0., 0., 0.]])"
            ]
          },
          "metadata": {},
          "execution_count": 17
        }
      ]
    },
    {
      "cell_type": "code",
      "source": [
        "val_labels_one_hot = one_hot_encoder.transform(\n",
        "    val_df['target'].to_numpy().reshape(-1,1)\n",
        "    )\n",
        "test_labels_one_hot = one_hot_encoder.transform(\n",
        "    test_df['target'].to_numpy().reshape(-1,1)\n",
        ")"
      ],
      "metadata": {
        "id": "_3KJjqd3b5DO"
      },
      "execution_count": 18,
      "outputs": []
    },
    {
      "cell_type": "code",
      "source": [
        "# Extract labels and encode them into integers\n",
        "from sklearn.preprocessing import LabelEncoder\n",
        "\n",
        "label_encoder = LabelEncoder()\n",
        "train_labels_encoded = label_encoder.fit_transform(\n",
        "    train_df['target'].to_numpy()\n",
        ")\n",
        "val_labels_encoded = label_encoder.transform(\n",
        "    val_df['target'].to_numpy()\n",
        ")\n",
        "test_labels_encoded = label_encoder.transform(\n",
        "    test_df['target'].to_numpy()\n",
        ")\n",
        "train_labels_encoded"
      ],
      "metadata": {
        "colab": {
          "base_uri": "https://localhost:8080/"
        },
        "id": "XGut3tmLbVsT",
        "outputId": "a89138d2-800d-4ee3-d93f-7ba25f1d1481"
      },
      "execution_count": 19,
      "outputs": [
        {
          "output_type": "execute_result",
          "data": {
            "text/plain": [
              "array([3, 2, 2, ..., 4, 1, 1])"
            ]
          },
          "metadata": {},
          "execution_count": 19
        }
      ]
    },
    {
      "cell_type": "code",
      "source": [
        "# Get class names and number of classes from LabelEncoder instance\n",
        "num_classes = len(label_encoder.classes_)\n",
        "class_names = label_encoder.classes_\n",
        "num_classes, class_names"
      ],
      "metadata": {
        "colab": {
          "base_uri": "https://localhost:8080/"
        },
        "id": "AwCsmwgybu61",
        "outputId": "2eab47e0-a3c7-400b-f128-62a76c1ebb2e"
      },
      "execution_count": 20,
      "outputs": [
        {
          "output_type": "execute_result",
          "data": {
            "text/plain": [
              "(5, array(['BACKGROUND', 'CONCLUSIONS', 'METHODS', 'OBJECTIVE', 'RESULTS'],\n",
              "       dtype=object))"
            ]
          },
          "metadata": {},
          "execution_count": 20
        }
      ]
    },
    {
      "cell_type": "markdown",
      "source": [
        "# Modelling experiments"
      ],
      "metadata": {
        "id": "azHiV4YXdLb6"
      }
    },
    {
      "cell_type": "markdown",
      "source": [
        "## Model 0 (baseline model) - Naive-Bayes TF-IDF classifier"
      ],
      "metadata": {
        "id": "3QBXoJI0cuWN"
      }
    },
    {
      "cell_type": "code",
      "source": [
        "from sklearn.feature_extraction.text import TfidfVectorizer\n",
        "from sklearn.naive_bayes import MultinomialNB\n",
        "from sklearn.pipeline import Pipeline\n",
        "\n",
        "model0 = Pipeline([\n",
        "    ('tf-idf', TfidfVectorizer()),\n",
        "    ('clf', MultinomialNB())\n",
        "])\n",
        "\n",
        "model0.fit(X=train_sentences, y=train_labels_encoded)"
      ],
      "metadata": {
        "colab": {
          "base_uri": "https://localhost:8080/",
          "height": 126
        },
        "id": "fzXIvS_ic2hw",
        "outputId": "ec90ba7c-0baf-490c-b45a-69086144ae23"
      },
      "execution_count": 21,
      "outputs": [
        {
          "output_type": "execute_result",
          "data": {
            "text/plain": [
              "Pipeline(steps=[('tf-idf', TfidfVectorizer()), ('clf', MultinomialNB())])"
            ],
            "text/html": [
              "<style>#sk-container-id-1 {color: black;background-color: white;}#sk-container-id-1 pre{padding: 0;}#sk-container-id-1 div.sk-toggleable {background-color: white;}#sk-container-id-1 label.sk-toggleable__label {cursor: pointer;display: block;width: 100%;margin-bottom: 0;padding: 0.3em;box-sizing: border-box;text-align: center;}#sk-container-id-1 label.sk-toggleable__label-arrow:before {content: \"▸\";float: left;margin-right: 0.25em;color: #696969;}#sk-container-id-1 label.sk-toggleable__label-arrow:hover:before {color: black;}#sk-container-id-1 div.sk-estimator:hover label.sk-toggleable__label-arrow:before {color: black;}#sk-container-id-1 div.sk-toggleable__content {max-height: 0;max-width: 0;overflow: hidden;text-align: left;background-color: #f0f8ff;}#sk-container-id-1 div.sk-toggleable__content pre {margin: 0.2em;color: black;border-radius: 0.25em;background-color: #f0f8ff;}#sk-container-id-1 input.sk-toggleable__control:checked~div.sk-toggleable__content {max-height: 200px;max-width: 100%;overflow: auto;}#sk-container-id-1 input.sk-toggleable__control:checked~label.sk-toggleable__label-arrow:before {content: \"▾\";}#sk-container-id-1 div.sk-estimator input.sk-toggleable__control:checked~label.sk-toggleable__label {background-color: #d4ebff;}#sk-container-id-1 div.sk-label input.sk-toggleable__control:checked~label.sk-toggleable__label {background-color: #d4ebff;}#sk-container-id-1 input.sk-hidden--visually {border: 0;clip: rect(1px 1px 1px 1px);clip: rect(1px, 1px, 1px, 1px);height: 1px;margin: -1px;overflow: hidden;padding: 0;position: absolute;width: 1px;}#sk-container-id-1 div.sk-estimator {font-family: monospace;background-color: #f0f8ff;border: 1px dotted black;border-radius: 0.25em;box-sizing: border-box;margin-bottom: 0.5em;}#sk-container-id-1 div.sk-estimator:hover {background-color: #d4ebff;}#sk-container-id-1 div.sk-parallel-item::after {content: \"\";width: 100%;border-bottom: 1px solid gray;flex-grow: 1;}#sk-container-id-1 div.sk-label:hover label.sk-toggleable__label {background-color: #d4ebff;}#sk-container-id-1 div.sk-serial::before {content: \"\";position: absolute;border-left: 1px solid gray;box-sizing: border-box;top: 0;bottom: 0;left: 50%;z-index: 0;}#sk-container-id-1 div.sk-serial {display: flex;flex-direction: column;align-items: center;background-color: white;padding-right: 0.2em;padding-left: 0.2em;position: relative;}#sk-container-id-1 div.sk-item {position: relative;z-index: 1;}#sk-container-id-1 div.sk-parallel {display: flex;align-items: stretch;justify-content: center;background-color: white;position: relative;}#sk-container-id-1 div.sk-item::before, #sk-container-id-1 div.sk-parallel-item::before {content: \"\";position: absolute;border-left: 1px solid gray;box-sizing: border-box;top: 0;bottom: 0;left: 50%;z-index: -1;}#sk-container-id-1 div.sk-parallel-item {display: flex;flex-direction: column;z-index: 1;position: relative;background-color: white;}#sk-container-id-1 div.sk-parallel-item:first-child::after {align-self: flex-end;width: 50%;}#sk-container-id-1 div.sk-parallel-item:last-child::after {align-self: flex-start;width: 50%;}#sk-container-id-1 div.sk-parallel-item:only-child::after {width: 0;}#sk-container-id-1 div.sk-dashed-wrapped {border: 1px dashed gray;margin: 0 0.4em 0.5em 0.4em;box-sizing: border-box;padding-bottom: 0.4em;background-color: white;}#sk-container-id-1 div.sk-label label {font-family: monospace;font-weight: bold;display: inline-block;line-height: 1.2em;}#sk-container-id-1 div.sk-label-container {text-align: center;}#sk-container-id-1 div.sk-container {/* jupyter's `normalize.less` sets `[hidden] { display: none; }` but bootstrap.min.css set `[hidden] { display: none !important; }` so we also need the `!important` here to be able to override the default hidden behavior on the sphinx rendered scikit-learn.org. See: https://github.com/scikit-learn/scikit-learn/issues/21755 */display: inline-block !important;position: relative;}#sk-container-id-1 div.sk-text-repr-fallback {display: none;}</style><div id=\"sk-container-id-1\" class=\"sk-top-container\"><div class=\"sk-text-repr-fallback\"><pre>Pipeline(steps=[(&#x27;tf-idf&#x27;, TfidfVectorizer()), (&#x27;clf&#x27;, MultinomialNB())])</pre><b>In a Jupyter environment, please rerun this cell to show the HTML representation or trust the notebook. <br />On GitHub, the HTML representation is unable to render, please try loading this page with nbviewer.org.</b></div><div class=\"sk-container\" hidden><div class=\"sk-item sk-dashed-wrapped\"><div class=\"sk-label-container\"><div class=\"sk-label sk-toggleable\"><input class=\"sk-toggleable__control sk-hidden--visually\" id=\"sk-estimator-id-1\" type=\"checkbox\" ><label for=\"sk-estimator-id-1\" class=\"sk-toggleable__label sk-toggleable__label-arrow\">Pipeline</label><div class=\"sk-toggleable__content\"><pre>Pipeline(steps=[(&#x27;tf-idf&#x27;, TfidfVectorizer()), (&#x27;clf&#x27;, MultinomialNB())])</pre></div></div></div><div class=\"sk-serial\"><div class=\"sk-item\"><div class=\"sk-estimator sk-toggleable\"><input class=\"sk-toggleable__control sk-hidden--visually\" id=\"sk-estimator-id-2\" type=\"checkbox\" ><label for=\"sk-estimator-id-2\" class=\"sk-toggleable__label sk-toggleable__label-arrow\">TfidfVectorizer</label><div class=\"sk-toggleable__content\"><pre>TfidfVectorizer()</pre></div></div></div><div class=\"sk-item\"><div class=\"sk-estimator sk-toggleable\"><input class=\"sk-toggleable__control sk-hidden--visually\" id=\"sk-estimator-id-3\" type=\"checkbox\" ><label for=\"sk-estimator-id-3\" class=\"sk-toggleable__label sk-toggleable__label-arrow\">MultinomialNB</label><div class=\"sk-toggleable__content\"><pre>MultinomialNB()</pre></div></div></div></div></div></div></div>"
            ]
          },
          "metadata": {},
          "execution_count": 21
        }
      ]
    },
    {
      "cell_type": "code",
      "source": [
        "# Evaluate baseline model on validation dataset\n",
        "model0.score(X=val_sentences,\n",
        "             y=val_labels_encoded)"
      ],
      "metadata": {
        "colab": {
          "base_uri": "https://localhost:8080/"
        },
        "id": "b8CPDu33dv2A",
        "outputId": "2165462d-39b4-4279-9c48-dea2439035d4"
      },
      "execution_count": 22,
      "outputs": [
        {
          "output_type": "execute_result",
          "data": {
            "text/plain": [
              "0.7218323844829869"
            ]
          },
          "metadata": {},
          "execution_count": 22
        }
      ]
    },
    {
      "cell_type": "markdown",
      "source": [
        "The baseline model has a 72.8% accuracy"
      ],
      "metadata": {
        "id": "D3_dOkjid5VX"
      }
    },
    {
      "cell_type": "code",
      "source": [
        "baseline_preds = model0.predict(val_sentences)\n",
        "baseline_preds"
      ],
      "metadata": {
        "colab": {
          "base_uri": "https://localhost:8080/"
        },
        "id": "aCgWM0zTd3t_",
        "outputId": "370ea57f-d83a-4d93-c176-3e477a6297c0"
      },
      "execution_count": 23,
      "outputs": [
        {
          "output_type": "execute_result",
          "data": {
            "text/plain": [
              "array([4, 1, 3, ..., 4, 4, 1])"
            ]
          },
          "metadata": {},
          "execution_count": 23
        }
      ]
    },
    {
      "cell_type": "code",
      "source": [
        "!wget https://raw.githubusercontent.com/mrdbourke/tensorflow-deep-learning/main/extras/helper_functions.py"
      ],
      "metadata": {
        "colab": {
          "base_uri": "https://localhost:8080/"
        },
        "id": "BMv_iDABd_U2",
        "outputId": "92b379f3-c0fc-4e03-b8c1-c08976fd2985"
      },
      "execution_count": 24,
      "outputs": [
        {
          "output_type": "stream",
          "name": "stdout",
          "text": [
            "--2023-03-05 02:49:53--  https://raw.githubusercontent.com/mrdbourke/tensorflow-deep-learning/main/extras/helper_functions.py\n",
            "Resolving raw.githubusercontent.com (raw.githubusercontent.com)... 185.199.108.133, 185.199.109.133, 185.199.110.133, ...\n",
            "Connecting to raw.githubusercontent.com (raw.githubusercontent.com)|185.199.108.133|:443... connected.\n",
            "HTTP request sent, awaiting response... 200 OK\n",
            "Length: 10246 (10K) [text/plain]\n",
            "Saving to: ‘helper_functions.py’\n",
            "\n",
            "\rhelper_functions.py   0%[                    ]       0  --.-KB/s               \rhelper_functions.py 100%[===================>]  10.01K  --.-KB/s    in 0s      \n",
            "\n",
            "2023-03-05 02:49:53 (100 MB/s) - ‘helper_functions.py’ saved [10246/10246]\n",
            "\n"
          ]
        }
      ]
    },
    {
      "cell_type": "code",
      "source": [
        "from helper_functions import *"
      ],
      "metadata": {
        "id": "OtaMmH3iTdZU"
      },
      "execution_count": 25,
      "outputs": []
    },
    {
      "cell_type": "code",
      "source": [
        "#Calculate baseline results\n",
        "baseline_results = calculate_results(y_true=val_labels_encoded,\n",
        "                                     y_pred=baseline_preds)\n",
        "baseline_results"
      ],
      "metadata": {
        "colab": {
          "base_uri": "https://localhost:8080/"
        },
        "id": "3G-kDstfeGQw",
        "outputId": "b5be0a47-92e5-439e-e129-0b158f1ef68a"
      },
      "execution_count": 26,
      "outputs": [
        {
          "output_type": "execute_result",
          "data": {
            "text/plain": [
              "{'accuracy': 72.1832384482987,\n",
              " 'precision': 0.7186466952323352,\n",
              " 'recall': 0.7218323844829869,\n",
              " 'f1': 0.6989250353450294}"
            ]
          },
          "metadata": {},
          "execution_count": 26
        }
      ]
    },
    {
      "cell_type": "markdown",
      "source": [
        "These are the baseline results that we have to beat!"
      ],
      "metadata": {
        "id": "7j9zgl2OfJQx"
      }
    },
    {
      "cell_type": "markdown",
      "source": [
        "## Model 1: 1D Convolution model with token embeddings\n",
        "> Before building deeper models, we have to create the vectorization and embedding layers first."
      ],
      "metadata": {
        "id": "64KgvqwOfOaN"
      }
    },
    {
      "cell_type": "code",
      "source": [
        "import numpy as np\n",
        "import tensorflow as tf\n",
        "from tensorflow.keras import layers, mixed_precision, Sequential\n",
        "from tensorflow.keras.layers import TextVectorization\n",
        "from tensorflow.keras.utils import plot_model\n",
        "\n",
        "# How long is each sentence on average?\n",
        "sent_lens = [len(sentence.split()) for sentence in train_sentences]\n",
        "avg_sent_len = np.mean(sent_lens)\n",
        "avg_sent_len"
      ],
      "metadata": {
        "colab": {
          "base_uri": "https://localhost:8080/"
        },
        "id": "Fg0FiNX1fXiN",
        "outputId": "be2ee430-5bf5-4e69-8192-63bf07f156de"
      },
      "execution_count": 27,
      "outputs": [
        {
          "output_type": "execute_result",
          "data": {
            "text/plain": [
              "26.338269273494777"
            ]
          },
          "metadata": {},
          "execution_count": 27
        }
      ]
    },
    {
      "cell_type": "markdown",
      "source": [
        "This is important when we decide on the size of tensors - because tensorflow prefers for all tensors to be in the same shape."
      ],
      "metadata": {
        "id": "47Soc_alf6rl"
      }
    },
    {
      "cell_type": "code",
      "source": [
        "# Check distribution plot\n",
        "import matplotlib.pyplot as plt\n",
        "plt.hist(sent_lens, bins = 20);"
      ],
      "metadata": {
        "colab": {
          "base_uri": "https://localhost:8080/",
          "height": 265
        },
        "id": "IWboWwcgf4C6",
        "outputId": "40818066-9f28-4429-f515-de95587d4067"
      },
      "execution_count": 28,
      "outputs": [
        {
          "output_type": "display_data",
          "data": {
            "text/plain": [
              "<Figure size 432x288 with 1 Axes>"
            ],
            "image/png": "[encoded data removed]"
          },
          "metadata": {
            "needs_background": "light"
          }
        }
      ]
    },
    {
      "cell_type": "code",
      "source": [
        "output_seq_len = int(np.percentile(sent_lens, 95))\n",
        "output_seq_len"
      ],
      "metadata": {
        "colab": {
          "base_uri": "https://localhost:8080/"
        },
        "id": "Mk1So_mAgG2u",
        "outputId": "b31eb02f-85f8-4b71-e3a5-4bddb75c27b5"
      },
      "execution_count": 29,
      "outputs": [
        {
          "output_type": "execute_result",
          "data": {
            "text/plain": [
              "55"
            ]
          },
          "metadata": {},
          "execution_count": 29
        }
      ]
    },
    {
      "cell_type": "code",
      "source": [
        "max(sent_lens)"
      ],
      "metadata": {
        "colab": {
          "base_uri": "https://localhost:8080/"
        },
        "id": "_fgPQaCfgi6_",
        "outputId": "e17e6957-0a47-47d1-d04e-1a8355f66405"
      },
      "execution_count": 30,
      "outputs": [
        {
          "output_type": "execute_result",
          "data": {
            "text/plain": [
              "296"
            ]
          },
          "metadata": {},
          "execution_count": 30
        }
      ]
    },
    {
      "cell_type": "markdown",
      "source": [
        "If we set the tensor dimension to 55 words, we will be able to 95% of the sentences. The maximum number of words in a sentence is 296 - insane."
      ],
      "metadata": {
        "id": "eD5lWHVugLvd"
      }
    },
    {
      "cell_type": "code",
      "source": [
        "# Vectorize text to prepare for deep sequence models\n",
        "# Note that there are 20k words in our dataset. According to the paper, \n",
        "# the max vocab size in this instance is 68k. When dealing with the 200k\n",
        "# words instance, the max vocab size is 331k\n",
        "\n",
        "max_tokens = 68000\n",
        "text_vectorizer = TextVectorization(\n",
        "    max_tokens = max_tokens,\n",
        "    output_sequence_length = output_seq_len\n",
        ")"
      ],
      "metadata": {
        "id": "Lcq6Hy7wgxnq"
      },
      "execution_count": 31,
      "outputs": []
    },
    {
      "cell_type": "code",
      "source": [
        "text_vectorizer.adapt(train_sentences)"
      ],
      "metadata": {
        "id": "svTsOcDSuI3_"
      },
      "execution_count": 32,
      "outputs": []
    },
    {
      "cell_type": "code",
      "source": [
        "# Test text vectorizer on random sentences\n",
        "\n",
        "import random\n",
        "target_sentence = random.choice(train_sentences)\n",
        "print(f'Text:\\n{target_sentence}')\n",
        "print(f'\\nLength of text: {len(target_sentence.split())}')\n",
        "print(f'\\nVectorized text: {text_vectorizer([target_sentence])}')"
      ],
      "metadata": {
        "colab": {
          "base_uri": "https://localhost:8080/"
        },
        "id": "JoEY4TXQuiT2",
        "outputId": "69d5cfee-4855-4fec-eb27-93a69f4bf09d"
      },
      "execution_count": 33,
      "outputs": [
        {
          "output_type": "stream",
          "name": "stdout",
          "text": [
            "Text:\n",
            "endoanchors were implanted in @ patients ( @ % ) at the time of an initial evar procedure ( primary arm ) and in @ patients with an existing endograft and proximal aortic neck complications ( revision arm ) .\n",
            "\n",
            "Length of text: 40\n",
            "\n",
            "Vectorized text: [[18831     9  3283     5    12    15     2    63     4    26   473  5844\n",
            "    407    56   207     3     5    12     7    26  2113 23240     3  1844\n",
            "   1085   932   296  4626   207     0     0     0     0     0     0     0\n",
            "      0     0     0     0     0     0     0     0     0     0     0     0\n",
            "      0     0     0     0     0     0     0]]\n"
          ]
        }
      ]
    },
    {
      "cell_type": "code",
      "source": [
        "# How many words are there in the training volcabulary\n",
        "\n",
        "rct_20k_text_vocab = text_vectorizer.get_vocabulary()\n",
        "print(f'Number of words in vocab: {len(rct_20k_text_vocab)}')\n",
        "print(f'Most common words in vocab: {rct_20k_text_vocab[:5]}')\n",
        "print(f'Least common words in vocab: {rct_20k_text_vocab[-5:]}')"
      ],
      "metadata": {
        "colab": {
          "base_uri": "https://localhost:8080/"
        },
        "id": "fPcuChlyu3fe",
        "outputId": "688c27ce-3fca-4135-f5eb-4de0ebbdcbc7"
      },
      "execution_count": 34,
      "outputs": [
        {
          "output_type": "stream",
          "name": "stdout",
          "text": [
            "Number of words in vocab: 64841\n",
            "Most common words in vocab: ['', '[UNK]', 'the', 'and', 'of']\n",
            "Least common words in vocab: ['aainduced', 'aaigroup', 'aachener', 'aachen', 'aaacp']\n"
          ]
        }
      ]
    },
    {
      "cell_type": "markdown",
      "source": [
        "The least common words look like typos"
      ],
      "metadata": {
        "id": "5MSvxAizvYZ-"
      }
    },
    {
      "cell_type": "code",
      "source": [
        "text_vectorizer.get_config()"
      ],
      "metadata": {
        "colab": {
          "base_uri": "https://localhost:8080/"
        },
        "id": "Cd7WQGw7vUo6",
        "outputId": "6890d519-646c-444e-b68f-713bcab5694a"
      },
      "execution_count": 35,
      "outputs": [
        {
          "output_type": "execute_result",
          "data": {
            "text/plain": [
              "{'name': 'text_vectorization',\n",
              " 'trainable': True,\n",
              " 'dtype': 'string',\n",
              " 'batch_input_shape': (None,),\n",
              " 'max_tokens': 68000,\n",
              " 'standardize': 'lower_and_strip_punctuation',\n",
              " 'split': 'whitespace',\n",
              " 'ngrams': None,\n",
              " 'output_mode': 'int',\n",
              " 'output_sequence_length': 55,\n",
              " 'pad_to_max_tokens': False,\n",
              " 'sparse': False,\n",
              " 'ragged': False,\n",
              " 'vocabulary': None,\n",
              " 'idf_weights': None,\n",
              " 'encoding': 'utf-8'}"
            ]
          },
          "metadata": {},
          "execution_count": 35
        }
      ]
    },
    {
      "cell_type": "code",
      "source": [
        "#Create custom text embedding\n",
        "token_embed = layers.Embedding(\n",
        "    input_dim = len(rct_20k_text_vocab),\n",
        "    output_dim = 128,\n",
        "    mask_zero = True, #use masking to handle variable sequence lengths\n",
        "    name = 'token_embedding'\n",
        ")"
      ],
      "metadata": {
        "id": "iDXafoh8vdNv"
      },
      "execution_count": 36,
      "outputs": []
    },
    {
      "cell_type": "code",
      "source": [
        "# Show example embedding\n",
        "print(f'Sentence before vectorization:\\n {target_sentence}\\n')\n",
        "vectorized_sentence = text_vectorizer([target_sentence])\n",
        "print(f'Sentence after vectorization (before embedding):\\n{vectorized_sentence}\\n')\n",
        "embedded_sentence = token_embed(vectorized_sentence)\n",
        "print(f'Sentence after embedding:\\n{embedded_sentence}\\n')\n",
        "print(f'Embedded sentence shape: {embedded_sentence.shape}')"
      ],
      "metadata": {
        "colab": {
          "base_uri": "https://localhost:8080/"
        },
        "id": "vUO0YdRNwTca",
        "outputId": "ad35d069-cceb-4e62-c79f-a1d6c21c65d5"
      },
      "execution_count": 37,
      "outputs": [
        {
          "output_type": "stream",
          "name": "stdout",
          "text": [
            "Sentence before vectorization:\n",
            " endoanchors were implanted in @ patients ( @ % ) at the time of an initial evar procedure ( primary arm ) and in @ patients with an existing endograft and proximal aortic neck complications ( revision arm ) .\n",
            "\n",
            "Sentence after vectorization (before embedding):\n",
            "[[18831     9  3283     5    12    15     2    63     4    26   473  5844\n",
            "    407    56   207     3     5    12     7    26  2113 23240     3  1844\n",
            "   1085   932   296  4626   207     0     0     0     0     0     0     0\n",
            "      0     0     0     0     0     0     0     0     0     0     0     0\n",
            "      0     0     0     0     0     0     0]]\n",
            "\n",
            "Sentence after embedding:\n",
            "[[[-0.01998963 -0.00103444 -0.0271432  ...  0.00553035 -0.0168883\n",
            "   -0.002477  ]\n",
            "  [ 0.04325826  0.02633612  0.01518153 ... -0.04220957  0.01714362\n",
            "   -0.00309465]\n",
            "  [ 0.0174812  -0.03019207 -0.04970237 ...  0.03930148  0.0076776\n",
            "   -0.02895091]\n",
            "  ...\n",
            "  [-0.00850794 -0.04879714  0.03172788 ... -0.01541727 -0.02367991\n",
            "   -0.01871039]\n",
            "  [-0.00850794 -0.04879714  0.03172788 ... -0.01541727 -0.02367991\n",
            "   -0.01871039]\n",
            "  [-0.00850794 -0.04879714  0.03172788 ... -0.01541727 -0.02367991\n",
            "   -0.01871039]]]\n",
            "\n",
            "Embedded sentence shape: (1, 55, 128)\n"
          ]
        }
      ]
    },
    {
      "cell_type": "markdown",
      "source": [
        "Each word is embedded in a 128 dimension long feature vector. Each sentence has a max length of 55 words, padded by 0s if the sentence is too short."
      ],
      "metadata": {
        "id": "lkbchcFjwvJg"
      }
    },
    {
      "cell_type": "markdown",
      "source": [
        "### Creating a tensorflow dataset to expedite tensorflow processing using tf.data API.\n",
        "* https://www.tensorflow.org/guide/data_performance\n"
      ],
      "metadata": {
        "id": "xwKQHg6Twpqm"
      }
    },
    {
      "cell_type": "code",
      "source": [
        "train_dataset = tf.data.Dataset.from_tensor_slices(\n",
        "    (train_sentences, train_labels_one_hot)\n",
        ")\n",
        "val_dataset = tf.data.Dataset.from_tensor_slices(\n",
        "    (val_sentences, val_labels_one_hot)\n",
        ")\n",
        "test_dataset = tf.data.Dataset.from_tensor_slices(\n",
        "    (test_sentences, test_labels_one_hot)\n",
        ")\n",
        "train_dataset"
      ],
      "metadata": {
        "colab": {
          "base_uri": "https://localhost:8080/"
        },
        "id": "FHRei06yxQ6_",
        "outputId": "ee470ab9-6f01-4c13-c3ab-7aa53a23e574"
      },
      "execution_count": 38,
      "outputs": [
        {
          "output_type": "execute_result",
          "data": {
            "text/plain": [
              "<TensorSliceDataset element_spec=(TensorSpec(shape=(), dtype=tf.string, name=None), TensorSpec(shape=(5,), dtype=tf.float64, name=None))>"
            ]
          },
          "metadata": {},
          "execution_count": 38
        }
      ]
    },
    {
      "cell_type": "code",
      "source": [
        "#Turn tensordatasets into pre-fetched datasets\n",
        "\n",
        "#The order of the dataset is important, so we do not use shuffle here\n",
        "train_dataset = train_dataset.batch(32).prefetch(tf.data.AUTOTUNE)\n",
        "val_dataset = val_dataset.batch(32).prefetch(tf.data.AUTOTUNE)\n",
        "test_dataset = test_dataset.batch(32).prefetch(tf.data.AUTOTUNE)\n",
        "\n",
        "train_dataset"
      ],
      "metadata": {
        "colab": {
          "base_uri": "https://localhost:8080/"
        },
        "id": "hQrpkGlYxuYq",
        "outputId": "6f22ed03-d59f-4b26-b085-cc3473127b75"
      },
      "execution_count": 39,
      "outputs": [
        {
          "output_type": "execute_result",
          "data": {
            "text/plain": [
              "<PrefetchDataset element_spec=(TensorSpec(shape=(None,), dtype=tf.string, name=None), TensorSpec(shape=(None, 5), dtype=tf.float64, name=None))>"
            ]
          },
          "metadata": {},
          "execution_count": 39
        }
      ]
    },
    {
      "cell_type": "code",
      "source": [
        "#Build model\n",
        "\n",
        "inputs = layers.Input(shape=(1,), dtype = tf.string)\n",
        "x = text_vectorizer(inputs)\n",
        "x = token_embed(x)\n",
        "x = layers.Conv1D(filters = 32,\n",
        "                  kernel_size = 5, #n-gram of 5 words at a time\n",
        "                  activation = 'relu')(x)\n",
        "x = layers.GlobalMaxPooling1D()(x)\n",
        "outputs = layers.Dense(num_classes,\n",
        "                       activation = 'softmax')(x)\n",
        "\n",
        "model1 = tf.keras.Model(inputs, outputs)\n",
        "\n",
        "#Compile\n",
        "model1.compile(loss = 'categorical_crossentropy',\n",
        "               optimizer = tf.keras.optimizers.Adam(),\n",
        "               metrics = ['accuracy'])\n",
        "\n",
        "model1.summary()"
      ],
      "metadata": {
        "colab": {
          "base_uri": "https://localhost:8080/"
        },
        "id": "DH7vLyU8yXv9",
        "outputId": "27e83385-8008-42ba-af34-533450f2d324"
      },
      "execution_count": 40,
      "outputs": [
        {
          "output_type": "stream",
          "name": "stdout",
          "text": [
            "Model: \"model\"\n",
            "_________________________________________________________________\n",
            " Layer (type)                Output Shape              Param #   \n",
            "=================================================================\n",
            " input_1 (InputLayer)        [(None, 1)]               0         \n",
            "                                                                 \n",
            " text_vectorization (TextVec  (None, 55)               0         \n",
            " torization)                                                     \n",
            "                                                                 \n",
            " token_embedding (Embedding)  (None, 55, 128)          8299648   \n",
            "                                                                 \n",
            " conv1d (Conv1D)             (None, 51, 32)            20512     \n",
            "                                                                 \n",
            " global_max_pooling1d (Globa  (None, 32)               0         \n",
            " lMaxPooling1D)                                                  \n",
            "                                                                 \n",
            " dense (Dense)               (None, 5)                 165       \n",
            "                                                                 \n",
            "=================================================================\n",
            "Total params: 8,320,325\n",
            "Trainable params: 8,320,325\n",
            "Non-trainable params: 0\n",
            "_________________________________________________________________\n"
          ]
        }
      ]
    },
    {
      "cell_type": "code",
      "source": [
        "#Fit model\n",
        "#There are 180k training datasets which might take awhile. We reduce the steps_per_epoch\n",
        "#because this is the experiment phase - we want to know what doesn't work\n",
        "history_model1 = model1.fit(train_dataset,\n",
        "                            steps_per_epoch = int(0.1*len(train_dataset)), #speed up training by looking at only 10% of every epoch\n",
        "                            epochs = 3,\n",
        "                            validation_data = val_dataset,\n",
        "                            validation_steps = int(0.1*len(val_dataset)))"
      ],
      "metadata": {
        "colab": {
          "base_uri": "https://localhost:8080/"
        },
        "id": "vvXWyeS8zj8C",
        "outputId": "2b24ca3d-9b3e-40cd-c04f-37153dbe33df"
      },
      "execution_count": 41,
      "outputs": [
        {
          "output_type": "stream",
          "name": "stdout",
          "text": [
            "Epoch 1/3\n",
            "562/562 [==============================] - 37s 48ms/step - loss: 0.8990 - accuracy: 0.6626 - val_loss: 0.6242 - val_accuracy: 0.7756\n",
            "Epoch 2/3\n",
            "562/562 [==============================] - 8s 14ms/step - loss: 0.6012 - accuracy: 0.7797 - val_loss: 0.5584 - val_accuracy: 0.7852\n",
            "Epoch 3/3\n",
            "562/562 [==============================] - 8s 14ms/step - loss: 0.5655 - accuracy: 0.7911 - val_loss: 0.5429 - val_accuracy: 0.7936\n"
          ]
        }
      ]
    },
    {
      "cell_type": "code",
      "source": [
        "#Evaluate model on whole validation dataset\n",
        "model1.evaluate(val_dataset)"
      ],
      "metadata": {
        "colab": {
          "base_uri": "https://localhost:8080/"
        },
        "id": "V9HXq5rP0Ptg",
        "outputId": "87d5ec29-0453-44ab-cd7f-39c3a25c3550"
      },
      "execution_count": 42,
      "outputs": [
        {
          "output_type": "stream",
          "name": "stdout",
          "text": [
            "945/945 [==============================] - 4s 4ms/step - loss: 0.5420 - accuracy: 0.7971\n"
          ]
        },
        {
          "output_type": "execute_result",
          "data": {
            "text/plain": [
              "[0.5420020818710327, 0.7971004843711853]"
            ]
          },
          "metadata": {},
          "execution_count": 42
        }
      ]
    },
    {
      "cell_type": "code",
      "source": [
        "#Make predictions \n",
        "model1_pred_probs = model1.predict(val_dataset)\n",
        "model1_pred_probs, model1_pred_probs.shape"
      ],
      "metadata": {
        "colab": {
          "base_uri": "https://localhost:8080/"
        },
        "id": "aQYS8LKi0kuC",
        "outputId": "002b5ed4-27eb-49e5-9cb3-d822279c3293"
      },
      "execution_count": 43,
      "outputs": [
        {
          "output_type": "stream",
          "name": "stdout",
          "text": [
            "945/945 [==============================] - 3s 3ms/step\n"
          ]
        },
        {
          "output_type": "execute_result",
          "data": {
            "text/plain": [
              "(array([[5.38435578e-01, 1.47545427e-01, 5.38138626e-03, 3.05529177e-01,\n",
              "         3.10843578e-03],\n",
              "        [3.25504929e-01, 5.58551788e-01, 7.51638261e-04, 1.12883516e-01,\n",
              "         2.30815099e-03],\n",
              "        [1.75569266e-01, 2.01506726e-02, 1.04352655e-02, 7.92103589e-01,\n",
              "         1.74124481e-03],\n",
              "        ...,\n",
              "        [1.91246872e-04, 1.91157626e-03, 1.09351464e-02, 1.40446340e-04,\n",
              "         9.86821592e-01],\n",
              "        [2.13513356e-02, 3.46301019e-01, 7.09048659e-02, 8.97805393e-03,\n",
              "         5.52464724e-01],\n",
              "        [2.23743021e-02, 9.57566261e-01, 7.28507107e-03, 4.95674275e-03,\n",
              "         7.81761948e-03]], dtype=float32), (30212, 5))"
            ]
          },
          "metadata": {},
          "execution_count": 43
        }
      ]
    },
    {
      "cell_type": "code",
      "source": [
        "#Convert pred probs to classes\n",
        "model1_preds = tf.argmax(model1_pred_probs, axis = 1)\n",
        "model1_preds"
      ],
      "metadata": {
        "colab": {
          "base_uri": "https://localhost:8080/"
        },
        "id": "UtWazriU0t4v",
        "outputId": "7e1a2522-5300-4812-d809-b202dee731bd"
      },
      "execution_count": 44,
      "outputs": [
        {
          "output_type": "execute_result",
          "data": {
            "text/plain": [
              "<tf.Tensor: shape=(30212,), dtype=int64, numpy=array([0, 1, 3, ..., 4, 4, 1])>"
            ]
          },
          "metadata": {},
          "execution_count": 44
        }
      ]
    },
    {
      "cell_type": "code",
      "source": [
        "model1_results = calculate_results(y_true = val_labels_encoded,\n",
        "                                   y_pred = model1_preds)\n",
        "model1_results"
      ],
      "metadata": {
        "colab": {
          "base_uri": "https://localhost:8080/"
        },
        "id": "0fOwR4di05Hm",
        "outputId": "f1382ebf-58d4-4306-b705-882142266201"
      },
      "execution_count": 45,
      "outputs": [
        {
          "output_type": "execute_result",
          "data": {
            "text/plain": [
              "{'accuracy': 79.71004898715742,\n",
              " 'precision': 0.7945835363861964,\n",
              " 'recall': 0.7971004898715742,\n",
              " 'f1': 0.7948695191151351}"
            ]
          },
          "metadata": {},
          "execution_count": 45
        }
      ]
    },
    {
      "cell_type": "markdown",
      "source": [
        "Our conv1D model is doing bettter than our baseline. That's great news!"
      ],
      "metadata": {
        "id": "Si4Rxd0007cK"
      }
    },
    {
      "cell_type": "markdown",
      "source": [
        "## Model 2: Using a pretrained model"
      ],
      "metadata": {
        "id": "xqc8i1RJ1JAb"
      }
    },
    {
      "cell_type": "code",
      "source": [
        "import tensorflow_hub as hub\n",
        "\n",
        "#Prepare pre-trained embedding layer\n",
        "#The paper uses GLoVE embeddings which is not as recent as tensorflow's\n",
        "#universal sentence encoder available on tensorflow hub\n",
        "\n",
        "embed = hub.load(\"https://tfhub.dev/google/universal-sentence-encoder/4\")"
      ],
      "metadata": {
        "id": "A7tnOfAN1Qqg"
      },
      "execution_count": 46,
      "outputs": []
    },
    {
      "cell_type": "code",
      "source": [
        "sentence_encoder_layer = hub.KerasLayer(\n",
        "    'https://tfhub.dev/google/universal-sentence-encoder/4',\n",
        "    input_shape = [], #Must be an empty list\n",
        "    dtype = tf.string,\n",
        "    trainable = False, #We're just using this as a feature extractor\n",
        "    name = 'USE'\n",
        ")"
      ],
      "metadata": {
        "id": "_hcRS3Nf2DAv",
        "colab": {
          "base_uri": "https://localhost:8080/"
        },
        "outputId": "c0f6541b-b488-48a2-d5cd-63e211991596"
      },
      "execution_count": 47,
      "outputs": [
        {
          "output_type": "stream",
          "name": "stderr",
          "text": [
            "WARNING:tensorflow:Please fix your imports. Module tensorflow.python.training.tracking.data_structures has been moved to tensorflow.python.trackable.data_structures. The old module will be deleted in version 2.11.\n"
          ]
        }
      ]
    },
    {
      "cell_type": "code",
      "source": [
        "model2 = Sequential([\n",
        "    sentence_encoder_layer,\n",
        "    layers.Dense(128, activation = 'relu'),\n",
        "    layers.Dense(num_classes, activation = 'softmax')\n",
        "], name = 'model2_USE')\n",
        "\n",
        "model2.compile(loss='categorical_crossentropy',\n",
        "                optimizer=tf.keras.optimizers.Adam(),\n",
        "                metrics=['accuracy'])\n",
        "\n",
        "model2.summary()"
      ],
      "metadata": {
        "colab": {
          "base_uri": "https://localhost:8080/"
        },
        "id": "tBAFzc_22TqF",
        "outputId": "6d79357e-9cb7-47ad-e293-1d3069afded0"
      },
      "execution_count": 48,
      "outputs": [
        {
          "output_type": "stream",
          "name": "stderr",
          "text": [
            "WARNING:tensorflow:From /usr/local/lib/python3.8/dist-packages/tensorflow/python/autograph/pyct/static_analysis/liveness.py:83: Analyzer.lamba_check (from tensorflow.python.autograph.pyct.static_analysis.liveness) is deprecated and will be removed after 2023-09-23.\n",
            "Instructions for updating:\n",
            "Lambda fuctions will be no more assumed to be used in the statement where they are used, or at least in the same block. https://github.com/tensorflow/tensorflow/issues/56089\n"
          ]
        },
        {
          "output_type": "stream",
          "name": "stdout",
          "text": [
            "Model: \"model2_USE\"\n",
            "_________________________________________________________________\n",
            " Layer (type)                Output Shape              Param #   \n",
            "=================================================================\n",
            " USE (KerasLayer)            (None, 512)               256797824 \n",
            "                                                                 \n",
            " dense_1 (Dense)             (None, 128)               65664     \n",
            "                                                                 \n",
            " dense_2 (Dense)             (None, 5)                 645       \n",
            "                                                                 \n",
            "=================================================================\n",
            "Total params: 256,864,133\n",
            "Trainable params: 66,309\n",
            "Non-trainable params: 256,797,824\n",
            "_________________________________________________________________\n"
          ]
        }
      ]
    },
    {
      "cell_type": "code",
      "source": [
        "history_model2 = model2.fit(train_dataset,\n",
        "                            steps_per_epoch = int(0.1*len(train_dataset)), #speed up training by looking at only 10% of every epoch\n",
        "                            epochs = 3,\n",
        "                            validation_data = val_dataset,\n",
        "                            validation_steps = int(0.1*len(val_dataset)))"
      ],
      "metadata": {
        "colab": {
          "base_uri": "https://localhost:8080/"
        },
        "id": "9rfZ29Fa3MYu",
        "outputId": "a921a9ce-3cec-4339-e9d6-c2098700ff2b"
      },
      "execution_count": 49,
      "outputs": [
        {
          "output_type": "stream",
          "name": "stdout",
          "text": [
            "Epoch 1/3\n",
            "562/562 [==============================] - 13s 16ms/step - loss: 0.9173 - accuracy: 0.6514 - val_loss: 0.7966 - val_accuracy: 0.6908\n",
            "Epoch 2/3\n",
            "562/562 [==============================] - 7s 13ms/step - loss: 0.7700 - accuracy: 0.7011 - val_loss: 0.7559 - val_accuracy: 0.7045\n",
            "Epoch 3/3\n",
            "562/562 [==============================] - 9s 17ms/step - loss: 0.7556 - accuracy: 0.7101 - val_loss: 0.7416 - val_accuracy: 0.7148\n"
          ]
        }
      ]
    },
    {
      "cell_type": "code",
      "source": [
        "model2_pred_probs = model2.predict(val_dataset)\n",
        "model2_preds = tf.argmax(model2_pred_probs, axis = 1)\n",
        "model2_results = calculate_results(y_true = val_labels_encoded,\n",
        "                                   y_pred = model2_preds)\n",
        "model2_results"
      ],
      "metadata": {
        "colab": {
          "base_uri": "https://localhost:8080/"
        },
        "id": "3PkkUje73zwf",
        "outputId": "fc9a6123-6a0c-4dd8-b5fc-df4c769fe4de"
      },
      "execution_count": 50,
      "outputs": [
        {
          "output_type": "stream",
          "name": "stdout",
          "text": [
            "945/945 [==============================] - 11s 11ms/step\n"
          ]
        },
        {
          "output_type": "execute_result",
          "data": {
            "text/plain": [
              "{'accuracy': 71.25645438898451,\n",
              " 'precision': 0.7131498287804312,\n",
              " 'recall': 0.7125645438898451,\n",
              " 'f1': 0.7096894026429431}"
            ]
          },
          "metadata": {},
          "execution_count": 50
        }
      ]
    },
    {
      "cell_type": "markdown",
      "source": [
        "This is to be expected because the pretrained model has fewer parameters and is therefore unable to capture as many variations as model 1."
      ],
      "metadata": {
        "id": "Tyl7uB_D4afQ"
      }
    },
    {
      "cell_type": "markdown",
      "source": [
        "## Model 3 - Conv1D character embeddings\n",
        "The order of characters can be taken into account instead of just the order of words. We are essentially developing a feature vector for each character. We first vectorize our sequences (after they've been split into characters) using the TextVectorization class, and pass those sequences into an embedding layer."
      ],
      "metadata": {
        "id": "4HZri-Vh4LNM"
      }
    },
    {
      "cell_type": "code",
      "source": [
        "def split_to_chars(text):\n",
        "  return \" \".join(list(text))"
      ],
      "metadata": {
        "id": "K9HCp-iW5DsJ"
      },
      "execution_count": 51,
      "outputs": []
    },
    {
      "cell_type": "code",
      "source": [
        "split_to_chars(target_sentence)"
      ],
      "metadata": {
        "colab": {
          "base_uri": "https://localhost:8080/",
          "height": 71
        },
        "id": "UezA1r76KfTb",
        "outputId": "e56e56a3-1dd4-43bb-a428-6f2f88f9e2dd"
      },
      "execution_count": 52,
      "outputs": [
        {
          "output_type": "execute_result",
          "data": {
            "text/plain": [
              "'e n d o a n c h o r s   w e r e   i m p l a n t e d   i n   @   p a t i e n t s   (   @   %   )   a t   t h e   t i m e   o f   a n   i n i t i a l   e v a r   p r o c e d u r e   (   p r i m a r y   a r m   )   a n d   i n   @   p a t i e n t s   w i t h   a n   e x i s t i n g   e n d o g r a f t   a n d   p r o x i m a l   a o r t i c   n e c k   c o m p l i c a t i o n s   (   r e v i s i o n   a r m   )   .'"
            ],
            "application/vnd.google.colaboratory.intrinsic+json": {
              "type": "string"
            }
          },
          "metadata": {},
          "execution_count": 52
        }
      ]
    },
    {
      "cell_type": "code",
      "source": [
        "train_chars = [split_to_chars(sentence) for sentence in train_sentences]\n",
        "val_chars = [split_to_chars(sentence) for sentence in val_sentences]\n",
        "test_chars = [split_to_chars(sentence) for sentence in test_sentences]\n",
        "train_chars[:5]"
      ],
      "metadata": {
        "colab": {
          "base_uri": "https://localhost:8080/"
        },
        "id": "u-ST9ssdLQYL",
        "outputId": "20a2bca6-c6ab-4b39-d56c-f0619bb540f1"
      },
      "execution_count": 53,
      "outputs": [
        {
          "output_type": "execute_result",
          "data": {
            "text/plain": [
              "['t o   i n v e s t i g a t e   t h e   e f f i c a c y   o f   @   w e e k s   o f   d a i l y   l o w - d o s e   o r a l   p r e d n i s o l o n e   i n   i m p r o v i n g   p a i n   ,   m o b i l i t y   ,   a n d   s y s t e m i c   l o w - g r a d e   i n f l a m m a t i o n   i n   t h e   s h o r t   t e r m   a n d   w h e t h e r   t h e   e f f e c t   w o u l d   b e   s u s t a i n e d   a t   @   w e e k s   i n   o l d e r   a d u l t s   w i t h   m o d e r a t e   t o   s e v e r e   k n e e   o s t e o a r t h r i t i s   (   o a   )   .',\n",
              " 'a   t o t a l   o f   @   p a t i e n t s   w i t h   p r i m a r y   k n e e   o a   w e r e   r a n d o m i z e d   @ : @   ;   @   r e c e i v e d   @   m g / d a y   o f   p r e d n i s o l o n e   a n d   @   r e c e i v e d   p l a c e b o   f o r   @   w e e k s   .',\n",
              " 'o u t c o m e   m e a s u r e s   i n c l u d e d   p a i n   r e d u c t i o n   a n d   i m p r o v e m e n t   i n   f u n c t i o n   s c o r e s   a n d   s y s t e m i c   i n f l a m m a t i o n   m a r k e r s   .',\n",
              " 'p a i n   w a s   a s s e s s e d   u s i n g   t h e   v i s u a l   a n a l o g   p a i n   s c a l e   (   @ - @   m m   )   .',\n",
              " 's e c o n d a r y   o u t c o m e   m e a s u r e s   i n c l u d e d   t h e   w e s t e r n   o n t a r i o   a n d   m c m a s t e r   u n i v e r s i t i e s   o s t e o a r t h r i t i s   i n d e x   s c o r e s   ,   p a t i e n t   g l o b a l   a s s e s s m e n t   (   p g a   )   o f   t h e   s e v e r i t y   o f   k n e e   o a   ,   a n d   @ - m i n   w a l k   d i s t a n c e   (   @ m w d   )   .']"
            ]
          },
          "metadata": {},
          "execution_count": 53
        }
      ]
    },
    {
      "cell_type": "code",
      "source": [
        "#What's the average character length?\n",
        "char_lens = [len(sentence) for sentence in train_sentences]\n",
        "print(f'Mean character length in sentences is {np.mean(char_lens)} characters')"
      ],
      "metadata": {
        "colab": {
          "base_uri": "https://localhost:8080/"
        },
        "id": "BgCttky6LfXQ",
        "outputId": "659bcbdf-151a-46b0-d129-c0d1e7a67e08"
      },
      "execution_count": 54,
      "outputs": [
        {
          "output_type": "stream",
          "name": "stdout",
          "text": [
            "Mean character length in sentences is 149.3662574983337 characters\n"
          ]
        }
      ]
    },
    {
      "cell_type": "code",
      "source": [
        "plt.hist(char_lens, bins = 7);"
      ],
      "metadata": {
        "colab": {
          "base_uri": "https://localhost:8080/",
          "height": 265
        },
        "id": "i8mzg_l3L0t1",
        "outputId": "31a066bd-6aeb-4ce6-f7a0-97a132bd0d7f"
      },
      "execution_count": 55,
      "outputs": [
        {
          "output_type": "display_data",
          "data": {
            "text/plain": [
              "<Figure size 432x288 with 1 Axes>"
            ],
            "image/png": "[encoded data removed]"
          },
          "metadata": {
            "needs_background": "light"
          }
        }
      ]
    },
    {
      "cell_type": "code",
      "source": [
        "# Finding the 95th percentile\n",
        "output_seq_char_len = int(np.percentile(char_lens, 95))\n",
        "output_seq_char_len"
      ],
      "metadata": {
        "colab": {
          "base_uri": "https://localhost:8080/"
        },
        "id": "_dbBgwXuL6dE",
        "outputId": "4ca466d2-4dfd-4263-e987-2cc17c3dd09f"
      },
      "execution_count": 56,
      "outputs": [
        {
          "output_type": "execute_result",
          "data": {
            "text/plain": [
              "290"
            ]
          },
          "metadata": {},
          "execution_count": 56
        }
      ]
    },
    {
      "cell_type": "markdown",
      "source": [
        "### Setup text vectorization layer\n",
        "We need to set up the maximum character level tokens as our vocab. The vectorization layer maps characters to integers"
      ],
      "metadata": {
        "id": "VjXfr_LcMF9X"
      }
    },
    {
      "cell_type": "code",
      "source": [
        "# Shorcut to get all keyboard characters\n",
        "import string\n",
        "alphabet = string.ascii_lowercase + string.digits + string.punctuation\n",
        "NUM_CHAR_TOKENS = len(alphabet) +2 #Include space and OOV(out of vocab) token\n",
        "alphabet, NUM_CHAR_TOKENS"
      ],
      "metadata": {
        "colab": {
          "base_uri": "https://localhost:8080/"
        },
        "id": "tHsT_AYoMLlH",
        "outputId": "ee6d921e-9b39-4b70-9ae8-6f84facaba82"
      },
      "execution_count": 57,
      "outputs": [
        {
          "output_type": "execute_result",
          "data": {
            "text/plain": [
              "('abcdefghijklmnopqrstuvwxyz0123456789!\"#$%&\\'()*+,-./:;<=>?@[\\\\]^_`{|}~', 70)"
            ]
          },
          "metadata": {},
          "execution_count": 57
        }
      ]
    },
    {
      "cell_type": "code",
      "source": [
        "char_vectorizer = TextVectorization(\n",
        "    max_tokens = NUM_CHAR_TOKENS,\n",
        "    output_sequence_length = output_seq_char_len,\n",
        "    standardize='lower_and_strip_punctuation',\n",
        "    name = \"char_vectorizer\"\n",
        ")"
      ],
      "metadata": {
        "id": "5wv4OFdsMgo7"
      },
      "execution_count": 58,
      "outputs": []
    },
    {
      "cell_type": "code",
      "source": [
        "#Adapt character vectorizer to training characters\n",
        "char_vectorizer.adapt(train_chars)"
      ],
      "metadata": {
        "id": "nOyAiCsCM7pT"
      },
      "execution_count": 59,
      "outputs": []
    },
    {
      "cell_type": "code",
      "source": [
        "#Check character vocab stats\n",
        "char_vocab = char_vectorizer.get_vocabulary()\n",
        "print(f'Number of different characters in character vocab: {len(char_vocab)}')\n",
        "print(f'5 most common chars: {char_vocab[:5]}')\n",
        "print(f'5 least common chars: {char_vocab[-5:]}')"
      ],
      "metadata": {
        "colab": {
          "base_uri": "https://localhost:8080/"
        },
        "id": "YUssE7tbNLEx",
        "outputId": "3fbe6655-d258-45b3-fd01-a45960cfdc86"
      },
      "execution_count": 60,
      "outputs": [
        {
          "output_type": "stream",
          "name": "stdout",
          "text": [
            "Number of different characters in character vocab: 28\n",
            "5 most common chars: ['', '[UNK]', 'e', 't', 'i']\n",
            "5 least common chars: ['k', 'x', 'z', 'q', 'j']\n"
          ]
        }
      ]
    },
    {
      "cell_type": "markdown",
      "source": [
        "There are only 28 characters because the TextVectorization layer has a standardization argument that removes punctuation by default. We can set the standardization to None if we want to leave punctuation characters in."
      ],
      "metadata": {
        "id": "MjuTMp8kNayq"
      }
    },
    {
      "cell_type": "code",
      "source": [
        "# Test out character vectorizer\n",
        "random_train_chars = random.choice(train_chars)\n",
        "print(f\"Charified text:\\n{random_train_chars}\")\n",
        "print(f\"\\nLength of chars: {len(random_train_chars.split())}\")\n",
        "vectorized_chars = char_vectorizer([random_train_chars])\n",
        "print(f\"\\nVectorized chars:\\n{vectorized_chars}\")\n",
        "print(f\"\\nLength of vectorized chars: {len(vectorized_chars[0])}\")"
      ],
      "metadata": {
        "colab": {
          "base_uri": "https://localhost:8080/"
        },
        "id": "R4IQbEPiNYOC",
        "outputId": "76dbfa5c-3fc9-4727-a746-74ae911ffdc4"
      },
      "execution_count": 61,
      "outputs": [
        {
          "output_type": "stream",
          "name": "stdout",
          "text": [
            "Charified text:\n",
            "p r e m e n o p a u s a l   o r   p e r i m e n o p a u s a l   w o m e n   a l s o   r e c e i v e d   g o s e r e l i n   .\n",
            "\n",
            "Length of chars: 56\n",
            "\n",
            "Vectorized chars:\n",
            "[[14  8  2 15  2  6  7 14  5 16  9  5 12  7  8 14  2  8  4 15  2  6  7 14\n",
            "   5 16  9  5 12 20  7 15  2  6  5 12  9  7  8  2 11  2  4 21  2 10 18  7\n",
            "   9  2  8  2 12  4  6  0  0  0  0  0  0  0  0  0  0  0  0  0  0  0  0  0\n",
            "   0  0  0  0  0  0  0  0  0  0  0  0  0  0  0  0  0  0  0  0  0  0  0  0\n",
            "   0  0  0  0  0  0  0  0  0  0  0  0  0  0  0  0  0  0  0  0  0  0  0  0\n",
            "   0  0  0  0  0  0  0  0  0  0  0  0  0  0  0  0  0  0  0  0  0  0  0  0\n",
            "   0  0  0  0  0  0  0  0  0  0  0  0  0  0  0  0  0  0  0  0  0  0  0  0\n",
            "   0  0  0  0  0  0  0  0  0  0  0  0  0  0  0  0  0  0  0  0  0  0  0  0\n",
            "   0  0  0  0  0  0  0  0  0  0  0  0  0  0  0  0  0  0  0  0  0  0  0  0\n",
            "   0  0  0  0  0  0  0  0  0  0  0  0  0  0  0  0  0  0  0  0  0  0  0  0\n",
            "   0  0  0  0  0  0  0  0  0  0  0  0  0  0  0  0  0  0  0  0  0  0  0  0\n",
            "   0  0  0  0  0  0  0  0  0  0  0  0  0  0  0  0  0  0  0  0  0  0  0  0\n",
            "   0  0]]\n",
            "\n",
            "Length of vectorized chars: 290\n"
          ]
        }
      ]
    },
    {
      "cell_type": "markdown",
      "source": [
        "### Creating character level embedding"
      ],
      "metadata": {
        "id": "D4a1sO48OLAI"
      }
    },
    {
      "cell_type": "code",
      "source": [
        "#Create custom text embedding\n",
        "char_embed = layers.Embedding(\n",
        "    input_dim = NUM_CHAR_TOKENS,\n",
        "    output_dim = len(char_vocab),\n",
        "    mask_zero = False,# don't use masks (this messes up model5 if set to True)\n",
        "    name = 'char_embed'\n",
        ")"
      ],
      "metadata": {
        "id": "LmcpQUL-OTQQ"
      },
      "execution_count": 62,
      "outputs": []
    },
    {
      "cell_type": "code",
      "source": [
        "# Test out character embedding layer\n",
        "print(f\"Charified text (before vectorization and embedding):\\n{random_train_chars}\\n\")\n",
        "char_embed_example = char_embed(char_vectorizer([random_train_chars]))\n",
        "print(f\"Embedded chars (after vectorization and embedding):\\n{char_embed_example}\\n\")\n",
        "print(f\"Character embedding shape: {char_embed_example.shape}\")"
      ],
      "metadata": {
        "colab": {
          "base_uri": "https://localhost:8080/"
        },
        "id": "NgOZyIZSOmY9",
        "outputId": "74633e15-c5ed-4744-957a-cddeb3e31a6e"
      },
      "execution_count": 63,
      "outputs": [
        {
          "output_type": "stream",
          "name": "stdout",
          "text": [
            "Charified text (before vectorization and embedding):\n",
            "p r e m e n o p a u s a l   o r   p e r i m e n o p a u s a l   w o m e n   a l s o   r e c e i v e d   g o s e r e l i n   .\n",
            "\n",
            "Embedded chars (after vectorization and embedding):\n",
            "[[[-0.04263892  0.0293391  -0.0377255  ... -0.04589968 -0.02296937\n",
            "    0.00536485]\n",
            "  [ 0.02853756 -0.04140062 -0.02940319 ... -0.03792388 -0.01689826\n",
            "   -0.04436386]\n",
            "  [-0.04821926  0.04953914  0.02988252 ... -0.02735244  0.034736\n",
            "   -0.02776841]\n",
            "  ...\n",
            "  [-0.0425186  -0.01677253  0.00102396 ...  0.00126503  0.02793512\n",
            "   -0.040652  ]\n",
            "  [-0.0425186  -0.01677253  0.00102396 ...  0.00126503  0.02793512\n",
            "   -0.040652  ]\n",
            "  [-0.0425186  -0.01677253  0.00102396 ...  0.00126503  0.02793512\n",
            "   -0.040652  ]]]\n",
            "\n",
            "Character embedding shape: (1, 290, 28)\n"
          ]
        }
      ]
    },
    {
      "cell_type": "code",
      "source": [
        "#Build model\n",
        "\n",
        "inputs = layers.Input(shape=(1,), dtype = tf.string)\n",
        "char_vectors = char_vectorizer(inputs)\n",
        "char_embeddings = char_embed(char_vectors)\n",
        "x = layers.Conv1D(filters = 64,\n",
        "                  kernel_size = 5, #n-gram of 5 words at a time\n",
        "                  padding = \"same\",\n",
        "                  activation = 'relu')(char_embeddings)\n",
        "x = layers.GlobalMaxPooling1D()(x)\n",
        "outputs = layers.Dense(num_classes,\n",
        "                       activation = 'softmax')(x)\n",
        "\n",
        "model3 = tf.keras.Model(inputs, \n",
        "                        outputs,\n",
        "                        name='model3_conv1d_char_embeddings')\n",
        "\n",
        "#Compile\n",
        "model3.compile(loss = 'categorical_crossentropy',\n",
        "               optimizer = tf.keras.optimizers.Adam(),\n",
        "               metrics = ['accuracy'])\n",
        "\n",
        "model3.summary()"
      ],
      "metadata": {
        "colab": {
          "base_uri": "https://localhost:8080/"
        },
        "id": "9xqeVSJ0OtXD",
        "outputId": "804817bf-1bb4-4a4a-a65a-7cfd692f4d20"
      },
      "execution_count": 64,
      "outputs": [
        {
          "output_type": "stream",
          "name": "stdout",
          "text": [
            "Model: \"model3_conv1d_char_embeddings\"\n",
            "_________________________________________________________________\n",
            " Layer (type)                Output Shape              Param #   \n",
            "=================================================================\n",
            " input_2 (InputLayer)        [(None, 1)]               0         \n",
            "                                                                 \n",
            " char_vectorizer (TextVector  (None, 290)              0         \n",
            " ization)                                                        \n",
            "                                                                 \n",
            " char_embed (Embedding)      (None, 290, 28)           1960      \n",
            "                                                                 \n",
            " conv1d_1 (Conv1D)           (None, 290, 64)           9024      \n",
            "                                                                 \n",
            " global_max_pooling1d_1 (Glo  (None, 64)               0         \n",
            " balMaxPooling1D)                                                \n",
            "                                                                 \n",
            " dense_3 (Dense)             (None, 5)                 325       \n",
            "                                                                 \n",
            "=================================================================\n",
            "Total params: 11,309\n",
            "Trainable params: 11,309\n",
            "Non-trainable params: 0\n",
            "_________________________________________________________________\n"
          ]
        }
      ]
    },
    {
      "cell_type": "code",
      "source": [
        "#Create char level datasets\n",
        "train_char_dataset = tf.data.Dataset.from_tensor_slices(\n",
        "    (train_chars, train_labels_one_hot)).batch(32).prefetch(tf.data.AUTOTUNE)\n",
        "val_char_dataset = tf.data.Dataset.from_tensor_slices(\n",
        "    (val_chars, val_labels_one_hot)).batch(32).prefetch(tf.data.AUTOTUNE)\n",
        "\n",
        "train_char_dataset"
      ],
      "metadata": {
        "id": "Mi4ZfRnMRbia",
        "colab": {
          "base_uri": "https://localhost:8080/"
        },
        "outputId": "c51d8f2b-cf9b-4fcb-cc46-b89b00b2c1f1"
      },
      "execution_count": 65,
      "outputs": [
        {
          "output_type": "execute_result",
          "data": {
            "text/plain": [
              "<PrefetchDataset element_spec=(TensorSpec(shape=(None,), dtype=tf.string, name=None), TensorSpec(shape=(None, 5), dtype=tf.float64, name=None))>"
            ]
          },
          "metadata": {},
          "execution_count": 65
        }
      ]
    },
    {
      "cell_type": "code",
      "source": [
        "history3 = model3.fit(train_char_dataset,\n",
        "                      steps_per_epoch=int(0.1*len(train_char_dataset)),\n",
        "                      epochs = 3,\n",
        "                      validation_data = val_char_dataset,\n",
        "                      validation_steps = int(0.1*len(val_char_dataset)))"
      ],
      "metadata": {
        "id": "GDfPC_8ySSqh",
        "colab": {
          "base_uri": "https://localhost:8080/"
        },
        "outputId": "c6106ad4-4118-405e-9700-e6de544855bf"
      },
      "execution_count": 66,
      "outputs": [
        {
          "output_type": "stream",
          "name": "stdout",
          "text": [
            "Epoch 1/3\n",
            "562/562 [==============================] - 5s 7ms/step - loss: 1.2538 - accuracy: 0.4952 - val_loss: 1.0458 - val_accuracy: 0.5791\n",
            "Epoch 2/3\n",
            "562/562 [==============================] - 4s 8ms/step - loss: 1.0030 - accuracy: 0.5998 - val_loss: 0.9420 - val_accuracy: 0.6213\n",
            "Epoch 3/3\n",
            "562/562 [==============================] - 3s 6ms/step - loss: 0.9301 - accuracy: 0.6333 - val_loss: 0.8771 - val_accuracy: 0.6589\n"
          ]
        }
      ]
    },
    {
      "cell_type": "code",
      "source": [
        "model3_pred_probs = model3.predict(val_char_dataset)\n",
        "model3_preds = tf.argmax(model3_pred_probs, axis = 1)\n",
        "model3_results = calculate_results(y_true = val_labels_encoded,\n",
        "                                   y_pred = model3_preds)\n",
        "model3_results"
      ],
      "metadata": {
        "id": "QBn6C-EpSbD_",
        "colab": {
          "base_uri": "https://localhost:8080/"
        },
        "outputId": "01ad0695-315f-4f09-b695-dd42529d9172"
      },
      "execution_count": 67,
      "outputs": [
        {
          "output_type": "stream",
          "name": "stdout",
          "text": [
            "945/945 [==============================] - 3s 3ms/step\n"
          ]
        },
        {
          "output_type": "execute_result",
          "data": {
            "text/plain": [
              "{'accuracy': 65.17277902820071,\n",
              " 'precision': 0.6417086583575667,\n",
              " 'recall': 0.6517277902820071,\n",
              " 'f1': 0.642013564833251}"
            ]
          },
          "metadata": {},
          "execution_count": 67
        }
      ]
    },
    {
      "cell_type": "markdown",
      "source": [
        "The results are unexpectedly poorer than the other experiments ran earlier. Oh well - some experiments just don't pan out."
      ],
      "metadata": {
        "id": "a3UXDn-brdSj"
      }
    },
    {
      "cell_type": "markdown",
      "source": [
        "## Model 4: Combining pretrained token embeddings and character embeddings.\n",
        "1. Create a token-embedding model (similar to model1).\n",
        "2. Create a character level model (similar to `model3` with a slight modification\n",
        "3. Combine #1 & #2 with a concatenate (`layers.concatenate`)\n",
        "4. Build a series of output layers on top of #3\n",
        "5. Construct a model which takes token and character-level sequences as input and produces sequence labels as probabilities as output.\n",
        "6. Developing `tf.data` datasets for model 4\n",
        "7. Fit model 4.\n",
        "8. Evaluate model 4"
      ],
      "metadata": {
        "id": "g989Gt2nbGnJ"
      }
    },
    {
      "cell_type": "code",
      "source": [
        "# 4.1. Setup token inputs/model\n",
        "\n",
        "token_inputs = layers.Input(shape = [], #Expected by tf.hub\n",
        "                            dtype = tf.string,\n",
        "                            name = 'token_input')\n",
        "\n",
        "sentence_embedding_layer = hub.KerasLayer(\n",
        "    'https://tfhub.dev/google/universal-sentence-encoder/4',\n",
        "    trainable = False,\n",
        "    name = 'universal_sentence_encoder'\n",
        ")\n",
        "\n",
        "token_embeddings = sentence_embedding_layer(token_inputs)\n",
        "\n",
        "token_outputs = layers.Dense(\n",
        "    128,\n",
        "    activation = 'relu')(token_embeddings)\n",
        "\n",
        "token_model = tf.keras.Model(\n",
        "    inputs = token_inputs,\n",
        "    outputs = token_outputs\n",
        ")"
      ],
      "metadata": {
        "id": "VMwTavI6Sg3x"
      },
      "execution_count": 68,
      "outputs": []
    },
    {
      "cell_type": "code",
      "source": [
        "# 4.2 Setup char inputs/model\n",
        "char_inputs = layers.Input(shape = (1,),\n",
        "                           dtype = tf.string,\n",
        "                           name = 'char_input')\n",
        "\n",
        "char_vectors = char_vectorizer(char_inputs)\n",
        "\n",
        "char_embeddings = char_embed(char_vectors)\n",
        "\n",
        "#Bi-LSTM layers\n",
        "char_bi_lstm = layers.Bidirectional(\n",
        "    layers.LSTM(32)\n",
        ")(char_embeddings) \n",
        "\n",
        "char_model = tf.keras.Model(\n",
        "    inputs = char_inputs,\n",
        "    outputs = char_bi_lstm\n",
        "    )"
      ],
      "metadata": {
        "id": "EIVhkCo7c6Pp"
      },
      "execution_count": 69,
      "outputs": []
    },
    {
      "cell_type": "code",
      "source": [
        "# 4.3 Combine 4.1 and 4.2 using concatenate\n",
        "sentence_char_concat = layers.Concatenate(name = 'token_char_hybrid')(\n",
        "    [token_model.output, char_model.output])"
      ],
      "metadata": {
        "id": "l6KPO4_ieB2Y"
      },
      "execution_count": 70,
      "outputs": []
    },
    {
      "cell_type": "code",
      "source": [
        "# 4.4 Create output layers - adding in Dropout\n",
        "\n",
        "combined_dropout = layers.Dropout(0.5)(sentence_char_concat)\n",
        "combined_dense = layers.Dense(128, activation='relu')(combined_dropout)\n",
        "final_dropout = layers.Dropout(0.5)(combined_dense)\n",
        "output_layer = layers.Dense(num_classes,\n",
        "                            activation='softmax')(final_dropout)"
      ],
      "metadata": {
        "id": "32Pu4P0jel8T"
      },
      "execution_count": 71,
      "outputs": []
    },
    {
      "cell_type": "code",
      "source": [
        "#4.5 Construct combined model\n",
        "model4 = tf.keras.Model(\n",
        "    inputs = [token_model.input, char_model.input],\n",
        "    outputs = output_layer,\n",
        "    name = 'model4_sentence_and_char_embeddings'\n",
        ")\n",
        "\n",
        "model4.summary()"
      ],
      "metadata": {
        "colab": {
          "base_uri": "https://localhost:8080/"
        },
        "id": "3GgmQdehfK9m",
        "outputId": "021606e2-c547-4861-d98d-e091a1223cfd"
      },
      "execution_count": 72,
      "outputs": [
        {
          "output_type": "stream",
          "name": "stdout",
          "text": [
            "Model: \"model4_sentence_and_char_embeddings\"\n",
            "__________________________________________________________________________________________________\n",
            " Layer (type)                   Output Shape         Param #     Connected to                     \n",
            "==================================================================================================\n",
            " char_input (InputLayer)        [(None, 1)]          0           []                               \n",
            "                                                                                                  \n",
            " token_input (InputLayer)       [(None,)]            0           []                               \n",
            "                                                                                                  \n",
            " char_vectorizer (TextVectoriza  (None, 290)         0           ['char_input[0][0]']             \n",
            " tion)                                                                                            \n",
            "                                                                                                  \n",
            " universal_sentence_encoder (Ke  (None, 512)         256797824   ['token_input[0][0]']            \n",
            " rasLayer)                                                                                        \n",
            "                                                                                                  \n",
            " char_embed (Embedding)         (None, 290, 28)      1960        ['char_vectorizer[1][0]']        \n",
            "                                                                                                  \n",
            " dense_4 (Dense)                (None, 128)          65664       ['universal_sentence_encoder[0][0\n",
            "                                                                 ]']                              \n",
            "                                                                                                  \n",
            " bidirectional (Bidirectional)  (None, 64)           15616       ['char_embed[1][0]']             \n",
            "                                                                                                  \n",
            " token_char_hybrid (Concatenate  (None, 192)         0           ['dense_4[0][0]',                \n",
            " )                                                                'bidirectional[0][0]']          \n",
            "                                                                                                  \n",
            " dropout (Dropout)              (None, 192)          0           ['token_char_hybrid[0][0]']      \n",
            "                                                                                                  \n",
            " dense_5 (Dense)                (None, 128)          24704       ['dropout[0][0]']                \n",
            "                                                                                                  \n",
            " dropout_1 (Dropout)            (None, 128)          0           ['dense_5[0][0]']                \n",
            "                                                                                                  \n",
            " dense_6 (Dense)                (None, 5)            645         ['dropout_1[0][0]']              \n",
            "                                                                                                  \n",
            "==================================================================================================\n",
            "Total params: 256,906,413\n",
            "Trainable params: 108,589\n",
            "Non-trainable params: 256,797,824\n",
            "__________________________________________________________________________________________________\n"
          ]
        }
      ]
    },
    {
      "cell_type": "code",
      "source": [
        "from keras.utils import plot_model\n",
        "plot_model(model4, show_shapes = True)"
      ],
      "metadata": {
        "colab": {
          "base_uri": "https://localhost:8080/",
          "height": 976
        },
        "id": "t0FZKjNXf1cx",
        "outputId": "da4f9b9f-809e-4521-a7e1-91705e7d71d9"
      },
      "execution_count": 73,
      "outputs": [
        {
          "output_type": "execute_result",
          "data": {
            "image/png": "[encoded data removed]",
            "text/plain": [
              "<IPython.core.display.Image object>"
            ]
          },
          "metadata": {},
          "execution_count": 73
        }
      ]
    },
    {
      "cell_type": "code",
      "source": [
        "model4.compile(loss = 'categorical_crossentropy',\n",
        "               optimizer = tf.keras.optimizers.Adam(),\n",
        "               metrics = ['accuracy'])"
      ],
      "metadata": {
        "id": "As12exR6gpPj"
      },
      "execution_count": 74,
      "outputs": []
    },
    {
      "cell_type": "code",
      "source": [
        "# Develop training dataset for model 4\n",
        "\n",
        "#Train dataset\n",
        "train_sentence_char_dataset = tf.data.Dataset.from_tensor_slices(\n",
        "    (train_sentences, train_chars))\n",
        "train_sentence_char_labels = tf.data.Dataset.from_tensor_slices(\n",
        "    train_labels_one_hot\n",
        ")\n",
        "train_char_token_dataset = tf.data.Dataset.zip((\n",
        "    train_sentence_char_dataset,\n",
        "    train_sentence_char_labels\n",
        ")).batch(32).prefetch(tf.data.AUTOTUNE)\n",
        "\n",
        "#Validation dataset\n",
        "val_sentence_char_dataset = tf.data.Dataset.from_tensor_slices(\n",
        "    (val_sentences, val_chars))\n",
        "val_sentence_char_labels = tf.data.Dataset.from_tensor_slices(\n",
        "    val_labels_one_hot\n",
        ")\n",
        "val_char_token_dataset = tf.data.Dataset.zip((\n",
        "    val_sentence_char_dataset,\n",
        "    val_sentence_char_labels\n",
        ")).batch(32).prefetch(tf.data.AUTOTUNE)"
      ],
      "metadata": {
        "id": "3TtfBg1Ifdej"
      },
      "execution_count": 75,
      "outputs": []
    },
    {
      "cell_type": "code",
      "source": [
        "# Check out training char and token embedding dataset\n",
        "train_char_token_dataset, val_char_token_dataset"
      ],
      "metadata": {
        "colab": {
          "base_uri": "https://localhost:8080/"
        },
        "id": "2vKzPbJJiMxh",
        "outputId": "0c26a471-683c-4992-f5b0-3220871d440c"
      },
      "execution_count": 76,
      "outputs": [
        {
          "output_type": "execute_result",
          "data": {
            "text/plain": [
              "(<PrefetchDataset element_spec=((TensorSpec(shape=(None,), dtype=tf.string, name=None), TensorSpec(shape=(None,), dtype=tf.string, name=None)), TensorSpec(shape=(None, 5), dtype=tf.float64, name=None))>,\n",
              " <PrefetchDataset element_spec=((TensorSpec(shape=(None,), dtype=tf.string, name=None), TensorSpec(shape=(None,), dtype=tf.string, name=None)), TensorSpec(shape=(None, 5), dtype=tf.float64, name=None))>)"
            ]
          },
          "metadata": {},
          "execution_count": 76
        }
      ]
    },
    {
      "cell_type": "code",
      "source": [
        "# 4.7 Fit model to dataset\n",
        "history4 = model4.fit(\n",
        "    train_char_token_dataset,\n",
        "    steps_per_epoch=int(0.1*len(train_char_token_dataset)),\n",
        "    epochs=3,\n",
        "    validation_data = val_char_token_dataset,\n",
        "    validation_steps = int(0.1*len(val_char_token_dataset))\n",
        ")"
      ],
      "metadata": {
        "colab": {
          "base_uri": "https://localhost:8080/"
        },
        "id": "2lSIGExbiSK-",
        "outputId": "2b5d10cc-2956-451c-f5d1-8125aa7ea97f"
      },
      "execution_count": 77,
      "outputs": [
        {
          "output_type": "stream",
          "name": "stdout",
          "text": [
            "Epoch 1/3\n",
            "562/562 [==============================] - 29s 35ms/step - loss: 0.9865 - accuracy: 0.6054 - val_loss: 0.7947 - val_accuracy: 0.6932\n",
            "Epoch 2/3\n",
            "562/562 [==============================] - 19s 35ms/step - loss: 0.8077 - accuracy: 0.6878 - val_loss: 0.7193 - val_accuracy: 0.7330\n",
            "Epoch 3/3\n",
            "562/562 [==============================] - 17s 31ms/step - loss: 0.7769 - accuracy: 0.7055 - val_loss: 0.7037 - val_accuracy: 0.7377\n"
          ]
        }
      ]
    },
    {
      "cell_type": "code",
      "source": [
        "# 4.8 Model evaluation\n",
        "model4_pred_probs = model4.predict(val_char_token_dataset)\n",
        "model4_preds = tf.argmax(model4_pred_probs, axis = 1)\n",
        "model4_results = calculate_results(y_true = val_labels_encoded,\n",
        "                                   y_pred = model4_preds)\n",
        "model4_results"
      ],
      "metadata": {
        "colab": {
          "base_uri": "https://localhost:8080/"
        },
        "id": "cfSfvOGOixUo",
        "outputId": "2a7f186a-25bb-496c-a256-63139fbb321b"
      },
      "execution_count": 78,
      "outputs": [
        {
          "output_type": "stream",
          "name": "stdout",
          "text": [
            "945/945 [==============================] - 18s 17ms/step\n"
          ]
        },
        {
          "output_type": "execute_result",
          "data": {
            "text/plain": [
              "{'accuracy': 73.11333245068184,\n",
              " 'precision': 0.7334886234574849,\n",
              " 'recall': 0.7311333245068184,\n",
              " 'f1': 0.7293988848535262}"
            ]
          },
          "metadata": {},
          "execution_count": 78
        }
      ]
    },
    {
      "cell_type": "markdown",
      "source": [
        "Model 4 still doesn't perform very well. It is likely that the model's accuracy is negatively impacted by the character learning portion of the model. Model 1 is still the best performing model"
      ],
      "metadata": {
        "id": "N2xyATCOjRqn"
      }
    },
    {
      "cell_type": "markdown",
      "source": [
        "## Model 5: Adding positional embeddings to model 4\n",
        "The paper also experimented with a label sequence optimization layer. The authors found that the order of sequence of how sentences appear also matters - i.e. the first sentence of the summary is most likely going to belong to the **objective** segment of the paper. Let's try this out! "
      ],
      "metadata": {
        "id": "5XQsXMXzj2nY"
      }
    },
    {
      "cell_type": "markdown",
      "source": [
        "This means we have more preprocessing to do. Broadly, the steps are:\n",
        "1. Create a position embedding model for `line_number` and `total_lines` features. Remember we added the line number when we created the dictionary of sentences - we can use this to develop position embeddings.\n",
        "2. Combine #1 with the sentence embedding and character embedding models in 4.1 and 4.2 using `layers.concatenate`\n",
        "3. Build a series of output layers on top of #2\n",
        "4. Construct a model which takes token and character-level sequences as input and produces sequence labels as probabilities as output.\n",
        "5. Developing `tf.data` datasets for model 5\n",
        "6. Fit model 5\n",
        "7. Evaluate model 5"
      ],
      "metadata": {
        "id": "mL0MDMxAkRgG"
      }
    },
    {
      "cell_type": "markdown",
      "source": [
        "### 5.1 Creating a position embedding model"
      ],
      "metadata": {
        "id": "EBDccx8Lb2gy"
      }
    },
    {
      "cell_type": "code",
      "source": [
        "train_df['line_number'].value_counts()"
      ],
      "metadata": {
        "colab": {
          "base_uri": "https://localhost:8080/"
        },
        "id": "oqC_63P2YveQ",
        "outputId": "02b68d3f-a131-44af-dbfb-ae9585921580"
      },
      "execution_count": 79,
      "outputs": [
        {
          "output_type": "execute_result",
          "data": {
            "text/plain": [
              "0     15000\n",
              "1     15000\n",
              "2     15000\n",
              "3     15000\n",
              "4     14992\n",
              "5     14949\n",
              "6     14758\n",
              "7     14279\n",
              "8     13346\n",
              "9     11981\n",
              "10    10041\n",
              "11     7892\n",
              "12     5853\n",
              "13     4152\n",
              "14     2835\n",
              "15     1861\n",
              "16     1188\n",
              "17      751\n",
              "18      462\n",
              "19      286\n",
              "20      162\n",
              "21      101\n",
              "22       66\n",
              "23       33\n",
              "24       22\n",
              "25       14\n",
              "26        7\n",
              "27        4\n",
              "28        3\n",
              "29        1\n",
              "30        1\n",
              "Name: line_number, dtype: int64"
            ]
          },
          "metadata": {},
          "execution_count": 79
        }
      ]
    },
    {
      "cell_type": "code",
      "source": [
        "train_df.line_number.plot.hist()"
      ],
      "metadata": {
        "colab": {
          "base_uri": "https://localhost:8080/",
          "height": 283
        },
        "id": "QvvS-nJmaNqk",
        "outputId": "6ff5ac82-c4c7-444a-a005-696b1d0f137f"
      },
      "execution_count": 80,
      "outputs": [
        {
          "output_type": "execute_result",
          "data": {
            "text/plain": [
              "<AxesSubplot:ylabel='Frequency'>"
            ]
          },
          "metadata": {},
          "execution_count": 80
        },
        {
          "output_type": "display_data",
          "data": {
            "text/plain": [
              "<Figure size 432x288 with 1 Axes>"
            ],
            "image/png": "[encoded data removed]"
          },
          "metadata": {
            "needs_background": "light"
          }
        }
      ]
    },
    {
      "cell_type": "markdown",
      "source": [
        "We're going to one-hot encode the line number column, but it's not necessary to one-hot encode the entire value set because there are very few samples with a summary reaching 30 lines. Restricting the one-hot encode to a line value of 15 is sufficient."
      ],
      "metadata": {
        "id": "NT3zHt3waGlO"
      }
    },
    {
      "cell_type": "markdown",
      "source": [
        "We'll use Tensorflow's one-hot encoding tool this time"
      ],
      "metadata": {
        "id": "m9ZjOe9TaryF"
      }
    },
    {
      "cell_type": "code",
      "source": [
        "train_line_numbers_one_hot = tf.one_hot(train_df['line_number'].to_numpy(),\n",
        "                                        depth = 15)\n",
        "val_line_numbers_one_hot = tf.one_hot(val_df['line_number'].to_numpy(),\n",
        "                                      depth = 15)\n",
        "test_line_numbers_one_hot = tf.one_hot(test_df['line_number'].to_numpy(),\n",
        "                                       depth = 15)\n",
        "\n",
        "train_line_numbers_one_hot[:10], train_line_numbers_one_hot.shape"
      ],
      "metadata": {
        "colab": {
          "base_uri": "https://localhost:8080/"
        },
        "id": "Hh0QzGmLZJUX",
        "outputId": "cb304189-47a2-4617-fe19-748e2434ce26"
      },
      "execution_count": 81,
      "outputs": [
        {
          "output_type": "execute_result",
          "data": {
            "text/plain": [
              "(<tf.Tensor: shape=(10, 15), dtype=float32, numpy=\n",
              " array([[1., 0., 0., 0., 0., 0., 0., 0., 0., 0., 0., 0., 0., 0., 0.],\n",
              "        [0., 1., 0., 0., 0., 0., 0., 0., 0., 0., 0., 0., 0., 0., 0.],\n",
              "        [0., 0., 1., 0., 0., 0., 0., 0., 0., 0., 0., 0., 0., 0., 0.],\n",
              "        [0., 0., 0., 1., 0., 0., 0., 0., 0., 0., 0., 0., 0., 0., 0.],\n",
              "        [0., 0., 0., 0., 1., 0., 0., 0., 0., 0., 0., 0., 0., 0., 0.],\n",
              "        [0., 0., 0., 0., 0., 1., 0., 0., 0., 0., 0., 0., 0., 0., 0.],\n",
              "        [0., 0., 0., 0., 0., 0., 1., 0., 0., 0., 0., 0., 0., 0., 0.],\n",
              "        [0., 0., 0., 0., 0., 0., 0., 1., 0., 0., 0., 0., 0., 0., 0.],\n",
              "        [0., 0., 0., 0., 0., 0., 0., 0., 1., 0., 0., 0., 0., 0., 0.],\n",
              "        [0., 0., 0., 0., 0., 0., 0., 0., 0., 1., 0., 0., 0., 0., 0.]],\n",
              "       dtype=float32)>, TensorShape([180040, 15]))"
            ]
          },
          "metadata": {},
          "execution_count": 81
        }
      ]
    },
    {
      "cell_type": "markdown",
      "source": [
        "We'll need to do the same thing for 'total lines'."
      ],
      "metadata": {
        "id": "M9krERlWbDlh"
      }
    },
    {
      "cell_type": "code",
      "source": [
        "train_df['total_lines'].value_counts()"
      ],
      "metadata": {
        "colab": {
          "base_uri": "https://localhost:8080/"
        },
        "id": "70W3xkyoaluH",
        "outputId": "98731025-b05a-4d4b-8777-96f4e77d8f12"
      },
      "execution_count": 82,
      "outputs": [
        {
          "output_type": "execute_result",
          "data": {
            "text/plain": [
              "11    24468\n",
              "10    23639\n",
              "12    22113\n",
              "9     19400\n",
              "13    18438\n",
              "14    14610\n",
              "8     12285\n",
              "15    10768\n",
              "7      7464\n",
              "16     7429\n",
              "17     5202\n",
              "6      3353\n",
              "18     3344\n",
              "19     2480\n",
              "20     1281\n",
              "5      1146\n",
              "21      770\n",
              "22      759\n",
              "23      264\n",
              "4       215\n",
              "24      200\n",
              "25      182\n",
              "26       81\n",
              "28       58\n",
              "3        32\n",
              "30       31\n",
              "27       28\n",
              "Name: total_lines, dtype: int64"
            ]
          },
          "metadata": {},
          "execution_count": 82
        }
      ]
    },
    {
      "cell_type": "code",
      "source": [
        "train_df.total_lines.plot.hist()"
      ],
      "metadata": {
        "colab": {
          "base_uri": "https://localhost:8080/",
          "height": 285
        },
        "id": "bMin_qlHbHOn",
        "outputId": "cb81a3fe-ce05-4daf-fdea-53e8f53b59a2"
      },
      "execution_count": 83,
      "outputs": [
        {
          "output_type": "execute_result",
          "data": {
            "text/plain": [
              "<AxesSubplot:ylabel='Frequency'>"
            ]
          },
          "metadata": {},
          "execution_count": 83
        },
        {
          "output_type": "display_data",
          "data": {
            "text/plain": [
              "<Figure size 432x288 with 1 Axes>"
            ],
            "image/png": "[encoded data removed]"
          },
          "metadata": {
            "needs_background": "light"
          }
        }
      ]
    },
    {
      "cell_type": "code",
      "source": [
        "#Check 95th percentile\n",
        "np.percentile(train_df.total_lines, 95)"
      ],
      "metadata": {
        "colab": {
          "base_uri": "https://localhost:8080/"
        },
        "id": "OLPU0Xdzbnqt",
        "outputId": "3b8f9d6b-3460-42d0-a429-2bbeb81a3e42"
      },
      "execution_count": 84,
      "outputs": [
        {
          "output_type": "execute_result",
          "data": {
            "text/plain": [
              "18.0"
            ]
          },
          "metadata": {},
          "execution_count": 84
        }
      ]
    },
    {
      "cell_type": "markdown",
      "source": [
        "20 is a good cutoff"
      ],
      "metadata": {
        "id": "9oeKZX0VbZxA"
      }
    },
    {
      "cell_type": "code",
      "source": [
        "train_total_lines_one_hot = tf.one_hot(train_df['total_lines'].to_numpy(),\n",
        "                                        depth = 20)\n",
        "val_total_lines_one_hot = tf.one_hot(val_df['total_lines'].to_numpy(),\n",
        "                                     depth = 20)\n",
        "test_total_lines_one_hot = tf.one_hot(test_df['total_lines'].to_numpy(),\n",
        "                                      depth = 20)\n",
        "\n",
        "train_total_lines_one_hot[:10], train_total_lines_one_hot.shape"
      ],
      "metadata": {
        "colab": {
          "base_uri": "https://localhost:8080/"
        },
        "id": "rjzXHDQJbKIE",
        "outputId": "791ef63c-605e-44d5-81a4-7f9f177d17b4"
      },
      "execution_count": 85,
      "outputs": [
        {
          "output_type": "execute_result",
          "data": {
            "text/plain": [
              "(<tf.Tensor: shape=(10, 20), dtype=float32, numpy=\n",
              " array([[0., 0., 0., 0., 0., 0., 0., 0., 0., 0., 0., 1., 0., 0., 0., 0.,\n",
              "         0., 0., 0., 0.],\n",
              "        [0., 0., 0., 0., 0., 0., 0., 0., 0., 0., 0., 1., 0., 0., 0., 0.,\n",
              "         0., 0., 0., 0.],\n",
              "        [0., 0., 0., 0., 0., 0., 0., 0., 0., 0., 0., 1., 0., 0., 0., 0.,\n",
              "         0., 0., 0., 0.],\n",
              "        [0., 0., 0., 0., 0., 0., 0., 0., 0., 0., 0., 1., 0., 0., 0., 0.,\n",
              "         0., 0., 0., 0.],\n",
              "        [0., 0., 0., 0., 0., 0., 0., 0., 0., 0., 0., 1., 0., 0., 0., 0.,\n",
              "         0., 0., 0., 0.],\n",
              "        [0., 0., 0., 0., 0., 0., 0., 0., 0., 0., 0., 1., 0., 0., 0., 0.,\n",
              "         0., 0., 0., 0.],\n",
              "        [0., 0., 0., 0., 0., 0., 0., 0., 0., 0., 0., 1., 0., 0., 0., 0.,\n",
              "         0., 0., 0., 0.],\n",
              "        [0., 0., 0., 0., 0., 0., 0., 0., 0., 0., 0., 1., 0., 0., 0., 0.,\n",
              "         0., 0., 0., 0.],\n",
              "        [0., 0., 0., 0., 0., 0., 0., 0., 0., 0., 0., 1., 0., 0., 0., 0.,\n",
              "         0., 0., 0., 0.],\n",
              "        [0., 0., 0., 0., 0., 0., 0., 0., 0., 0., 0., 1., 0., 0., 0., 0.,\n",
              "         0., 0., 0., 0.]], dtype=float32)>, TensorShape([180040, 20]))"
            ]
          },
          "metadata": {},
          "execution_count": 85
        }
      ]
    },
    {
      "cell_type": "code",
      "source": [
        "# Token model\n",
        "token_inputs = layers.Input(shape=[],\n",
        "                            dtype=\"string\",\n",
        "                            name=\"token_inputs\")\n",
        "token_embeddings = sentence_embedding_layer(token_inputs)\n",
        "token_outputs = layers.Dense(128, activation='relu')(token_embeddings)\n",
        "token_model = tf.keras.Model(inputs=token_inputs,\n",
        "                           outputs=token_outputs)\n",
        "\n",
        "# Char model\n",
        "char_inputs = layers.Input(shape=(1,),\n",
        "                           dtype=\"string\",\n",
        "                           name=\"char_inputs\")\n",
        "char_vectors = char_vectorizer(char_inputs)\n",
        "char_embeddings = char_embed(char_vectors)\n",
        "char_bi_lstm = layers.Bidirectional(\n",
        "    layers.LSTM(32)\n",
        ")(char_embeddings)\n",
        "char_model = tf.keras.Model(inputs = char_inputs,\n",
        "                            outputs = char_bi_lstm)\n",
        "\n",
        "# line_numbers position encoding model\n",
        "line_number_inputs = layers.Input(\n",
        "    shape = (15,), #matches the depth\n",
        "    dtype = tf.int32,\n",
        "    name = 'line_number_input'\n",
        ")\n",
        "x = layers.Dense(32, activation='relu')(line_number_inputs)\n",
        "line_number_model = tf.keras.Model(inputs = line_number_inputs,\n",
        "                                   outputs = x)\n",
        "\n",
        "# total_line_numbers position enocding model\n",
        "total_line_inputs = layers.Input(\n",
        "    shape = (20,),\n",
        "    dtype = tf.int32,\n",
        "    name = 'total_line_inputs'\n",
        ")\n",
        "y = layers.Dense(32, activation='relu')(total_line_inputs)\n",
        "total_line_model = tf.keras.Model(inputs = total_line_inputs,\n",
        "                                  outputs = y)"
      ],
      "metadata": {
        "id": "K9-YQ927bzir"
      },
      "execution_count": 86,
      "outputs": []
    },
    {
      "cell_type": "markdown",
      "source": [
        "### 5.2 - 5.4"
      ],
      "metadata": {
        "id": "1YXAlShWgqkf"
      }
    },
    {
      "cell_type": "code",
      "source": [
        "combined_embeddings = layers.Concatenate(\n",
        "    name=\"token_char_hybrid_embedding\"\n",
        "    )([token_model.output, char_model.output])\n",
        "\n",
        "# We follow the paper and first pass the sentence embeddings through a dropout\n",
        "z = layers.Dense(256, activation = 'relu')(combined_embeddings)\n",
        "z = layers.Dropout(0.5)(z) #following the paper\n",
        "\n",
        "# Combine z with position embeddings\n",
        "tribrid_embeddings = layers.Concatenate(\n",
        "    name = 'char_token_position_embedding'\n",
        ")([line_number_model.output,\n",
        "   total_line_model.output,\n",
        "   z])\n",
        "\n",
        "output_layer = layers.Dense(\n",
        "    5,\n",
        "    activation = 'softmax',\n",
        "    name = 'output_layer'\n",
        ")(tribrid_embeddings)\n",
        "\n",
        "\n",
        "#Note the order of inputs - this is important\n",
        "model5 = tf.keras.Model(inputs = [line_number_model.input,\n",
        "                                  total_line_model.input,\n",
        "                                  token_model.input,\n",
        "                                  char_model.input],\n",
        "                        outputs = output_layer,\n",
        "                        name = 'model5_tribrid_model')\n",
        "\n",
        "model5.summary()"
      ],
      "metadata": {
        "colab": {
          "base_uri": "https://localhost:8080/"
        },
        "id": "XOGe-rFhdN_v",
        "outputId": "b0594363-811e-4aa7-b64f-587c024ff10a"
      },
      "execution_count": 87,
      "outputs": [
        {
          "output_type": "stream",
          "name": "stdout",
          "text": [
            "Model: \"model5_tribrid_model\"\n",
            "__________________________________________________________________________________________________\n",
            " Layer (type)                   Output Shape         Param #     Connected to                     \n",
            "==================================================================================================\n",
            " char_inputs (InputLayer)       [(None, 1)]          0           []                               \n",
            "                                                                                                  \n",
            " token_inputs (InputLayer)      [(None,)]            0           []                               \n",
            "                                                                                                  \n",
            " char_vectorizer (TextVectoriza  (None, 290)         0           ['char_inputs[0][0]']            \n",
            " tion)                                                                                            \n",
            "                                                                                                  \n",
            " universal_sentence_encoder (Ke  (None, 512)         256797824   ['token_inputs[0][0]']           \n",
            " rasLayer)                                                                                        \n",
            "                                                                                                  \n",
            " char_embed (Embedding)         (None, 290, 28)      1960        ['char_vectorizer[2][0]']        \n",
            "                                                                                                  \n",
            " dense_7 (Dense)                (None, 128)          65664       ['universal_sentence_encoder[1][0\n",
            "                                                                 ]']                              \n",
            "                                                                                                  \n",
            " bidirectional_1 (Bidirectional  (None, 64)          15616       ['char_embed[2][0]']             \n",
            " )                                                                                                \n",
            "                                                                                                  \n",
            " token_char_hybrid_embedding (C  (None, 192)         0           ['dense_7[0][0]',                \n",
            " oncatenate)                                                      'bidirectional_1[0][0]']        \n",
            "                                                                                                  \n",
            " line_number_input (InputLayer)  [(None, 15)]        0           []                               \n",
            "                                                                                                  \n",
            " total_line_inputs (InputLayer)  [(None, 20)]        0           []                               \n",
            "                                                                                                  \n",
            " dense_10 (Dense)               (None, 256)          49408       ['token_char_hybrid_embedding[0][\n",
            "                                                                 0]']                             \n",
            "                                                                                                  \n",
            " dense_8 (Dense)                (None, 32)           512         ['line_number_input[0][0]']      \n",
            "                                                                                                  \n",
            " dense_9 (Dense)                (None, 32)           672         ['total_line_inputs[0][0]']      \n",
            "                                                                                                  \n",
            " dropout_2 (Dropout)            (None, 256)          0           ['dense_10[0][0]']               \n",
            "                                                                                                  \n",
            " char_token_position_embedding   (None, 320)         0           ['dense_8[0][0]',                \n",
            " (Concatenate)                                                    'dense_9[0][0]',                \n",
            "                                                                  'dropout_2[0][0]']              \n",
            "                                                                                                  \n",
            " output_layer (Dense)           (None, 5)            1605        ['char_token_position_embedding[0\n",
            "                                                                 ][0]']                           \n",
            "                                                                                                  \n",
            "==================================================================================================\n",
            "Total params: 256,933,261\n",
            "Trainable params: 135,437\n",
            "Non-trainable params: 256,797,824\n",
            "__________________________________________________________________________________________________\n"
          ]
        }
      ]
    },
    {
      "cell_type": "code",
      "source": [
        "plot_model(model5, show_shapes = True)"
      ],
      "metadata": {
        "colab": {
          "base_uri": "https://localhost:8080/",
          "height": 976
        },
        "id": "IhKitR0Vf42m",
        "outputId": "1531d089-c4d0-4b59-bde6-aed1a5024339"
      },
      "execution_count": 88,
      "outputs": [
        {
          "output_type": "execute_result",
          "data": {
            "image/png": "[encoded data removed]",
            "text/plain": [
              "<IPython.core.display.Image object>"
            ]
          },
          "metadata": {},
          "execution_count": 88
        }
      ]
    },
    {
      "cell_type": "markdown",
      "source": [
        "If our model gets too confident ona. single class, it may get stuck on that class and not consider other classes. Label smoothing assigns some of the value from the highest prediction probability to other classes in turn to improve generalization.\n",
        "\n",
        "> According to tensorflow.org (https://www.tensorflow.org/api_docs/python/tf/keras/losses/CategoricalCrossentropy)\n",
        "\n",
        "When > 0, label values are smoothed, meaning the confidence on label values are relaxed. For example, if 0.1, use 0.1 / num_classes for non-target labels and 0.9 + 0.1 / num_classes for target labels.\n",
        "\n",
        "> Also check out this article: https://pyimagesearch.com/2019/12/30/label-smoothing-with-keras-tensorflow-and-deep-learning/\n"
      ],
      "metadata": {
        "id": "CjRLG4lUhLzQ"
      }
    },
    {
      "cell_type": "code",
      "source": [
        "# Compile token, char and positional embedding model\n",
        "\n",
        "model5.compile(loss=tf.keras.losses.CategoricalCrossentropy(label_smoothing=0.2),\n",
        "               optimizer=tf.keras.optimizers.Adam(),\n",
        "               metrics=['accuracy'])"
      ],
      "metadata": {
        "id": "CcEWnrHQf8Bp"
      },
      "execution_count": 89,
      "outputs": []
    },
    {
      "cell_type": "markdown",
      "source": [
        "### 5.5 Let's create the training and validation datasets using tf.data to optimize dataloading pipeline"
      ],
      "metadata": {
        "id": "ESGOllqYh5mg"
      }
    },
    {
      "cell_type": "code",
      "source": [
        "# Create training and validation dataset with all 4 kinds of input data\n",
        "tribrid_train_data = tf.data.Dataset.from_tensor_slices(\n",
        "    (train_line_numbers_one_hot,\n",
        "     train_total_lines_one_hot,\n",
        "     train_sentences,\n",
        "     train_chars))\n",
        "\n",
        "tribrid_train_labels = tf.data.Dataset.from_tensor_slices(train_labels_one_hot)\n",
        "\n",
        "# Zipping it all together\n",
        "tribrid_train = tf.data.Dataset.zip(\n",
        "    (tribrid_train_data, tribrid_train_labels)).batch(32).prefetch(tf.data.AUTOTUNE)\n",
        "\n",
        "# Val data\n",
        "tribrid_val_data = tf.data.Dataset.from_tensor_slices(\n",
        "    (val_line_numbers_one_hot,\n",
        "     val_total_lines_one_hot,\n",
        "     val_sentences,\n",
        "     val_chars))\n",
        "\n",
        "tribrid_val_labels = tf.data.Dataset.from_tensor_slices(val_labels_one_hot)\n",
        "\n",
        "tribrid_val = tf.data.Dataset.zip(\n",
        "    (tribrid_val_data, tribrid_val_labels)).batch(32).prefetch(tf.data.AUTOTUNE)"
      ],
      "metadata": {
        "id": "faLZgWQHhrD6"
      },
      "execution_count": 90,
      "outputs": []
    },
    {
      "cell_type": "code",
      "source": [
        "tribrid_train, tribrid_val"
      ],
      "metadata": {
        "colab": {
          "base_uri": "https://localhost:8080/"
        },
        "id": "3zrJipBMjLNl",
        "outputId": "e9d6c586-301f-4dbf-a24f-062b0f353a15"
      },
      "execution_count": 91,
      "outputs": [
        {
          "output_type": "execute_result",
          "data": {
            "text/plain": [
              "(<PrefetchDataset element_spec=((TensorSpec(shape=(None, 15), dtype=tf.float32, name=None), TensorSpec(shape=(None, 20), dtype=tf.float32, name=None), TensorSpec(shape=(None,), dtype=tf.string, name=None), TensorSpec(shape=(None,), dtype=tf.string, name=None)), TensorSpec(shape=(None, 5), dtype=tf.float64, name=None))>,\n",
              " <PrefetchDataset element_spec=((TensorSpec(shape=(None, 15), dtype=tf.float32, name=None), TensorSpec(shape=(None, 20), dtype=tf.float32, name=None), TensorSpec(shape=(None,), dtype=tf.string, name=None), TensorSpec(shape=(None,), dtype=tf.string, name=None)), TensorSpec(shape=(None, 5), dtype=tf.float64, name=None))>)"
            ]
          },
          "metadata": {},
          "execution_count": 91
        }
      ]
    },
    {
      "cell_type": "markdown",
      "source": [
        "### 5.6 and 5.7: Fit and evaluate the model"
      ],
      "metadata": {
        "id": "0c6mREj4jxam"
      }
    },
    {
      "cell_type": "code",
      "source": [
        "history5 = model5.fit(\n",
        "    tribrid_train,\n",
        "    steps_per_epoch=int(0.1*len(tribrid_train)),\n",
        "    epochs=3,\n",
        "    validation_data = tribrid_val,\n",
        "    validation_steps = int(0.1*len(tribrid_val))\n",
        ")"
      ],
      "metadata": {
        "colab": {
          "base_uri": "https://localhost:8080/"
        },
        "id": "iExK85eMjtzV",
        "outputId": "7649b6c1-b269-4ff1-da21-604f3b05420d"
      },
      "execution_count": 92,
      "outputs": [
        {
          "output_type": "stream",
          "name": "stdout",
          "text": [
            "Epoch 1/3\n",
            "562/562 [==============================] - 27s 36ms/step - loss: 1.0933 - accuracy: 0.7259 - val_loss: 0.9800 - val_accuracy: 0.8082\n",
            "Epoch 2/3\n",
            "562/562 [==============================] - 19s 34ms/step - loss: 0.9674 - accuracy: 0.8133 - val_loss: 0.9512 - val_accuracy: 0.8271\n",
            "Epoch 3/3\n",
            "562/562 [==============================] - 21s 38ms/step - loss: 0.9530 - accuracy: 0.8200 - val_loss: 0.9404 - val_accuracy: 0.8268\n"
          ]
        }
      ]
    },
    {
      "cell_type": "code",
      "source": [
        "model5_pred_probs = model5.predict(tribrid_val)\n",
        "model5_preds = tf.argmax(model5_pred_probs, axis = 1)\n",
        "model5_results = calculate_results(y_true = val_labels_encoded,\n",
        "                                   y_pred = model5_preds)\n",
        "model5_results"
      ],
      "metadata": {
        "colab": {
          "base_uri": "https://localhost:8080/"
        },
        "id": "-y_3FjJCj_XV",
        "outputId": "b3d629c2-029c-4373-b5cd-ceaec29e9e96"
      },
      "execution_count": 93,
      "outputs": [
        {
          "output_type": "stream",
          "name": "stdout",
          "text": [
            "945/945 [==============================] - 18s 18ms/step\n"
          ]
        },
        {
          "output_type": "execute_result",
          "data": {
            "text/plain": [
              "{'accuracy': 83.0266119422746,\n",
              " 'precision': 0.8290728430261586,\n",
              " 'recall': 0.830266119422746,\n",
              " 'f1': 0.8294208919356248}"
            ]
          },
          "metadata": {},
          "execution_count": 93
        }
      ]
    },
    {
      "cell_type": "markdown",
      "source": [
        "And this is our best model so far! Positional embeddings are a game changer here, and quite possibly the most important feature in this application."
      ],
      "metadata": {
        "id": "aGTmCWmxqGGi"
      }
    },
    {
      "cell_type": "markdown",
      "source": [
        "## Comparing all our model results"
      ],
      "metadata": {
        "id": "mSp0lPDhkZJx"
      }
    },
    {
      "cell_type": "code",
      "source": [
        "all_model_results = pd.DataFrame({\n",
        "    'model0_baseline': baseline_results,\n",
        "    'model1_custom_token_embedding': model1_results,\n",
        "    'model2_pretrained_token_embedding': model2_results,\n",
        "    'model3_custom_char_embedding': model3_results,\n",
        "    'model4_char_token_embeddings': model4_results,\n",
        "    'model5_pos_char_token_embedding': model5_results\n",
        "})\n",
        "\n",
        "all_model_results = all_model_results.transpose()\n",
        "all_model_results"
      ],
      "metadata": {
        "colab": {
          "base_uri": "https://localhost:8080/",
          "height": 238
        },
        "id": "q91sMq8etXnG",
        "outputId": "792d74a2-1548-470b-e1d5-7ac69e791561"
      },
      "execution_count": 94,
      "outputs": [
        {
          "output_type": "execute_result",
          "data": {
            "text/plain": [
              "                                    accuracy  precision    recall        f1\n",
              "model0_baseline                    72.183238   0.718647  0.721832  0.698925\n",
              "model1_custom_token_embedding      79.710049   0.794584  0.797100  0.794870\n",
              "model2_pretrained_token_embedding  71.256454   0.713150  0.712565  0.709689\n",
              "model3_custom_char_embedding       65.172779   0.641709  0.651728  0.642014\n",
              "model4_char_token_embeddings       73.113332   0.733489  0.731133  0.729399\n",
              "model5_pos_char_token_embedding    83.026612   0.829073  0.830266  0.829421"
            ],
            "text/html": [
              "\n",
              "  <div id=\"df-08ce1e09-c05e-4d77-a4fc-829d2116a423\">\n",
              "    <div class=\"colab-df-container\">\n",
              "      <div>\n",
              "<style scoped>\n",
              "    .dataframe tbody tr th:only-of-type {\n",
              "        vertical-align: middle;\n",
              "    }\n",
              "\n",
              "    .dataframe tbody tr th {\n",
              "        vertical-align: top;\n",
              "    }\n",
              "\n",
              "    .dataframe thead th {\n",
              "        text-align: right;\n",
              "    }\n",
              "</style>\n",
              "<table border=\"1\" class=\"dataframe\">\n",
              "  <thead>\n",
              "    <tr style=\"text-align: right;\">\n",
              "      <th></th>\n",
              "      <th>accuracy</th>\n",
              "      <th>precision</th>\n",
              "      <th>recall</th>\n",
              "      <th>f1</th>\n",
              "    </tr>\n",
              "  </thead>\n",
              "  <tbody>\n",
              "    <tr>\n",
              "      <th>model0_baseline</th>\n",
              "      <td>72.183238</td>\n",
              "      <td>0.718647</td>\n",
              "      <td>0.721832</td>\n",
              "      <td>0.698925</td>\n",
              "    </tr>\n",
              "    <tr>\n",
              "      <th>model1_custom_token_embedding</th>\n",
              "      <td>79.710049</td>\n",
              "      <td>0.794584</td>\n",
              "      <td>0.797100</td>\n",
              "      <td>0.794870</td>\n",
              "    </tr>\n",
              "    <tr>\n",
              "      <th>model2_pretrained_token_embedding</th>\n",
              "      <td>71.256454</td>\n",
              "      <td>0.713150</td>\n",
              "      <td>0.712565</td>\n",
              "      <td>0.709689</td>\n",
              "    </tr>\n",
              "    <tr>\n",
              "      <th>model3_custom_char_embedding</th>\n",
              "      <td>65.172779</td>\n",
              "      <td>0.641709</td>\n",
              "      <td>0.651728</td>\n",
              "      <td>0.642014</td>\n",
              "    </tr>\n",
              "    <tr>\n",
              "      <th>model4_char_token_embeddings</th>\n",
              "      <td>73.113332</td>\n",
              "      <td>0.733489</td>\n",
              "      <td>0.731133</td>\n",
              "      <td>0.729399</td>\n",
              "    </tr>\n",
              "    <tr>\n",
              "      <th>model5_pos_char_token_embedding</th>\n",
              "      <td>83.026612</td>\n",
              "      <td>0.829073</td>\n",
              "      <td>0.830266</td>\n",
              "      <td>0.829421</td>\n",
              "    </tr>\n",
              "  </tbody>\n",
              "</table>\n",
              "</div>\n",
              "      <button class=\"colab-df-convert\" onclick=\"convertToInteractive('df-08ce1e09-c05e-4d77-a4fc-829d2116a423')\"\n",
              "              title=\"Convert this dataframe to an interactive table.\"\n",
              "              style=\"display:none;\">\n",
              "        \n",
              "  <svg xmlns=\"http://www.w3.org/2000/svg\" height=\"24px\"viewBox=\"0 0 24 24\"\n",
              "       width=\"24px\">\n",
              "    <path d=\"M0 0h24v24H0V0z\" fill=\"none\"/>\n",
              "    <path d=\"M18.56 5.44l.94 2.06.94-2.06 2.06-.94-2.06-.94-.94-2.06-.94 2.06-2.06.94zm-11 1L8.5 8.5l.94-2.06 2.06-.94-2.06-.94L8.5 2.5l-.94 2.06-2.06.94zm10 10l.94 2.06.94-2.06 2.06-.94-2.06-.94-.94-2.06-.94 2.06-2.06.94z\"/><path d=\"M17.41 7.96l-1.37-1.37c-.4-.4-.92-.59-1.43-.59-.52 0-1.04.2-1.43.59L10.3 9.45l-7.72 7.72c-.78.78-.78 2.05 0 2.83L4 21.41c.39.39.9.59 1.41.59.51 0 1.02-.2 1.41-.59l7.78-7.78 2.81-2.81c.8-.78.8-2.07 0-2.86zM5.41 20L4 18.59l7.72-7.72 1.47 1.35L5.41 20z\"/>\n",
              "  </svg>\n",
              "      </button>\n",
              "      \n",
              "  <style>\n",
              "    .colab-df-container {\n",
              "      display:flex;\n",
              "      flex-wrap:wrap;\n",
              "      gap: 12px;\n",
              "    }\n",
              "\n",
              "    .colab-df-convert {\n",
              "      background-color: #E8F0FE;\n",
              "      border: none;\n",
              "      border-radius: 50%;\n",
              "      cursor: pointer;\n",
              "      display: none;\n",
              "      fill: #1967D2;\n",
              "      height: 32px;\n",
              "      padding: 0 0 0 0;\n",
              "      width: 32px;\n",
              "    }\n",
              "\n",
              "    .colab-df-convert:hover {\n",
              "      background-color: #E2EBFA;\n",
              "      box-shadow: 0px 1px 2px rgba(60, 64, 67, 0.3), 0px 1px 3px 1px rgba(60, 64, 67, 0.15);\n",
              "      fill: #174EA6;\n",
              "    }\n",
              "\n",
              "    [theme=dark] .colab-df-convert {\n",
              "      background-color: #3B4455;\n",
              "      fill: #D2E3FC;\n",
              "    }\n",
              "\n",
              "    [theme=dark] .colab-df-convert:hover {\n",
              "      background-color: #434B5C;\n",
              "      box-shadow: 0px 1px 3px 1px rgba(0, 0, 0, 0.15);\n",
              "      filter: drop-shadow(0px 1px 2px rgba(0, 0, 0, 0.3));\n",
              "      fill: #FFFFFF;\n",
              "    }\n",
              "  </style>\n",
              "\n",
              "      <script>\n",
              "        const buttonEl =\n",
              "          document.querySelector('#df-08ce1e09-c05e-4d77-a4fc-829d2116a423 button.colab-df-convert');\n",
              "        buttonEl.style.display =\n",
              "          google.colab.kernel.accessAllowed ? 'block' : 'none';\n",
              "\n",
              "        async function convertToInteractive(key) {\n",
              "          const element = document.querySelector('#df-08ce1e09-c05e-4d77-a4fc-829d2116a423');\n",
              "          const dataTable =\n",
              "            await google.colab.kernel.invokeFunction('convertToInteractive',\n",
              "                                                     [key], {});\n",
              "          if (!dataTable) return;\n",
              "\n",
              "          const docLinkHtml = 'Like what you see? Visit the ' +\n",
              "            '<a target=\"_blank\" href=https://colab.research.google.com/notebooks/data_table.ipynb>data table notebook</a>'\n",
              "            + ' to learn more about interactive tables.';\n",
              "          element.innerHTML = '';\n",
              "          dataTable['output_type'] = 'display_data';\n",
              "          await google.colab.output.renderOutput(dataTable, element);\n",
              "          const docLink = document.createElement('div');\n",
              "          docLink.innerHTML = docLinkHtml;\n",
              "          element.appendChild(docLink);\n",
              "        }\n",
              "      </script>\n",
              "    </div>\n",
              "  </div>\n",
              "  "
            ]
          },
          "metadata": {},
          "execution_count": 94
        }
      ]
    },
    {
      "cell_type": "code",
      "source": [
        "all_model_results['accuracy'] = all_model_results['accuracy']/100\n",
        "all_model_results.plot(\n",
        "    kind = 'bar',\n",
        "    figsize = (10,7),\n",
        ").legend(bbox_to_anchor=(1.0, 1.0));"
      ],
      "metadata": {
        "colab": {
          "base_uri": "https://localhost:8080/",
          "height": 607
        },
        "id": "WgfwwVHOtuK0",
        "outputId": "b8f465d0-03f9-4fab-a109-f20d6ca44aea"
      },
      "execution_count": 95,
      "outputs": [
        {
          "output_type": "display_data",
          "data": {
            "text/plain": [
              "<Figure size 720x504 with 1 Axes>"
            ],
            "image/png": "[encoded data removed]"
          },
          "metadata": {
            "needs_background": "light"
          }
        }
      ]
    },
    {
      "cell_type": "code",
      "source": [
        "all_model_results.sort_values('f1', ascending=True)['f1'].plot(kind='bar', figsize=(10,7));"
      ],
      "metadata": {
        "colab": {
          "base_uri": "https://localhost:8080/",
          "height": 607
        },
        "id": "Tpb2_MEjuRvj",
        "outputId": "edaf3dfb-51da-473c-bc8f-7ee69c7051d2"
      },
      "execution_count": 96,
      "outputs": [
        {
          "output_type": "display_data",
          "data": {
            "text/plain": [
              "<Figure size 720x504 with 1 Axes>"
            ],
            "image/png": "[encoded data removed]"
          },
          "metadata": {
            "needs_background": "light"
          }
        }
      ]
    },
    {
      "cell_type": "markdown",
      "source": [
        "## Train model 5 on entire training dataset"
      ],
      "metadata": {
        "id": "qalQAGtC5mpE"
      }
    },
    {
      "cell_type": "code",
      "source": [
        "model6 = tf.keras.models.clone_model(model5)\n",
        "model6.summary()"
      ],
      "metadata": {
        "colab": {
          "base_uri": "https://localhost:8080/"
        },
        "id": "SaKkRorl5pIg",
        "outputId": "5b827866-3602-4d31-ebfd-9dedced6c503"
      },
      "execution_count": 99,
      "outputs": [
        {
          "output_type": "stream",
          "name": "stdout",
          "text": [
            "Model: \"model5_tribrid_model\"\n",
            "__________________________________________________________________________________________________\n",
            " Layer (type)                   Output Shape         Param #     Connected to                     \n",
            "==================================================================================================\n",
            " char_inputs (InputLayer)       [(None, 1)]          0           []                               \n",
            "                                                                                                  \n",
            " token_inputs (InputLayer)      [(None,)]            0           []                               \n",
            "                                                                                                  \n",
            " char_vectorizer (TextVectoriza  (None, 290)         0           ['char_inputs[0][0]']            \n",
            " tion)                                                                                            \n",
            "                                                                                                  \n",
            " universal_sentence_encoder (Ke  (None, 512)         256797824   ['token_inputs[0][0]']           \n",
            " rasLayer)                                                                                        \n",
            "                                                                                                  \n",
            " char_embed (Embedding)         (None, 290, 28)      1960        ['char_vectorizer[0][0]']        \n",
            "                                                                                                  \n",
            " dense_7 (Dense)                (None, 128)          65664       ['universal_sentence_encoder[0][0\n",
            "                                                                 ]']                              \n",
            "                                                                                                  \n",
            " bidirectional_1 (Bidirectional  (None, 64)          15616       ['char_embed[0][0]']             \n",
            " )                                                                                                \n",
            "                                                                                                  \n",
            " token_char_hybrid_embedding (C  (None, 192)         0           ['dense_7[0][0]',                \n",
            " oncatenate)                                                      'bidirectional_1[0][0]']        \n",
            "                                                                                                  \n",
            " line_number_input (InputLayer)  [(None, 15)]        0           []                               \n",
            "                                                                                                  \n",
            " total_line_inputs (InputLayer)  [(None, 20)]        0           []                               \n",
            "                                                                                                  \n",
            " dense_10 (Dense)               (None, 256)          49408       ['token_char_hybrid_embedding[0][\n",
            "                                                                 0]']                             \n",
            "                                                                                                  \n",
            " dense_8 (Dense)                (None, 32)           512         ['line_number_input[0][0]']      \n",
            "                                                                                                  \n",
            " dense_9 (Dense)                (None, 32)           672         ['total_line_inputs[0][0]']      \n",
            "                                                                                                  \n",
            " dropout_2 (Dropout)            (None, 256)          0           ['dense_10[0][0]']               \n",
            "                                                                                                  \n",
            " char_token_position_embedding   (None, 320)         0           ['dense_8[0][0]',                \n",
            " (Concatenate)                                                    'dense_9[0][0]',                \n",
            "                                                                  'dropout_2[0][0]']              \n",
            "                                                                                                  \n",
            " output_layer (Dense)           (None, 5)            1605        ['char_token_position_embedding[0\n",
            "                                                                 ][0]']                           \n",
            "                                                                                                  \n",
            "==================================================================================================\n",
            "Total params: 256,933,261\n",
            "Trainable params: 135,437\n",
            "Non-trainable params: 256,797,824\n",
            "__________________________________________________________________________________________________\n"
          ]
        }
      ]
    },
    {
      "cell_type": "code",
      "source": [
        "checkpoint_path = \"training/cp.ckpt\"\n",
        "checkpoint_dir = os.path.dirname(checkpoint_path)\n",
        "\n",
        "# Checkpoint callback\n",
        "cp_callback = tf.keras.callbacks.ModelCheckpoint(filepath=checkpoint_path,\n",
        "                                                 monitor='val_accuracy',\n",
        "                                                 save_weights_only=True,\n",
        "                                                 verbose=1)"
      ],
      "metadata": {
        "id": "QN7QN9UxugnD"
      },
      "execution_count": 102,
      "outputs": []
    },
    {
      "cell_type": "code",
      "source": [
        "model6 = tf.keras.Model(inputs = [line_number_model.input,\n",
        "                                  total_line_model.input,\n",
        "                                  token_model.input,\n",
        "                                  char_model.input],\n",
        "                        outputs = output_layer,\n",
        "                        name = 'model6_tribrid_model')\n",
        "\n",
        "model6.compile(loss=tf.keras.losses.CategoricalCrossentropy(label_smoothing=0.2),\n",
        "               optimizer=tf.keras.optimizers.Adam(),\n",
        "               metrics=['accuracy'])\n",
        "\n",
        "history6 = model6.fit(\n",
        "    tribrid_train,\n",
        "    epochs=5, #train for more epochs\n",
        "    validation_data = tribrid_val,\n",
        "    validation_steps = int(0.1*len(tribrid_val)),\n",
        "    callbacks=[cp_callback]\n",
        ")"
      ],
      "metadata": {
        "colab": {
          "base_uri": "https://localhost:8080/"
        },
        "id": "Wi4LTrN76DjH",
        "outputId": "28f2245d-e833-41dd-a300-b9a9f8941b82"
      },
      "execution_count": 103,
      "outputs": [
        {
          "output_type": "stream",
          "name": "stdout",
          "text": [
            "Epoch 1/5\n",
            "5626/5627 [============================>.] - ETA: 0s - loss: 0.8924 - accuracy: 0.8660\n",
            "Epoch 1: saving model to training/cp.ckpt\n",
            "5627/5627 [==============================] - 188s 32ms/step - loss: 0.8924 - accuracy: 0.8660 - val_loss: 0.8977 - val_accuracy: 0.8521\n",
            "Epoch 2/5\n",
            "5626/5627 [============================>.] - ETA: 0s - loss: 0.8850 - accuracy: 0.8724\n",
            "Epoch 2: saving model to training/cp.ckpt\n",
            "5627/5627 [==============================] - 175s 31ms/step - loss: 0.8850 - accuracy: 0.8724 - val_loss: 0.8996 - val_accuracy: 0.8524\n",
            "Epoch 3/5\n",
            "5627/5627 [==============================] - ETA: 0s - loss: 0.8789 - accuracy: 0.8767\n",
            "Epoch 3: saving model to training/cp.ckpt\n",
            "5627/5627 [==============================] - 178s 32ms/step - loss: 0.8789 - accuracy: 0.8767 - val_loss: 0.8998 - val_accuracy: 0.8511\n",
            "Epoch 4/5\n",
            "5627/5627 [==============================] - ETA: 0s - loss: 0.8731 - accuracy: 0.8806\n",
            "Epoch 4: saving model to training/cp.ckpt\n",
            "5627/5627 [==============================] - 178s 32ms/step - loss: 0.8731 - accuracy: 0.8806 - val_loss: 0.8981 - val_accuracy: 0.8557\n",
            "Epoch 5/5\n",
            "5626/5627 [============================>.] - ETA: 0s - loss: 0.8689 - accuracy: 0.8842\n",
            "Epoch 5: saving model to training/cp.ckpt\n",
            "5627/5627 [==============================] - 179s 32ms/step - loss: 0.8689 - accuracy: 0.8842 - val_loss: 0.9054 - val_accuracy: 0.8501\n"
          ]
        }
      ]
    },
    {
      "cell_type": "code",
      "source": [
        "model6_pred_probs = model6.predict(tribrid_val)\n",
        "model6_preds = tf.argmax(model6_pred_probs, axis = 1)\n",
        "model6_results = calculate_results(y_true = val_labels_encoded,\n",
        "                                   y_pred = model6_preds)\n",
        "model6_results"
      ],
      "metadata": {
        "colab": {
          "base_uri": "https://localhost:8080/"
        },
        "id": "2V6lA39v6XJZ",
        "outputId": "0cfade01-4600-40b1-bbcc-26c15c5948c0"
      },
      "execution_count": 104,
      "outputs": [
        {
          "output_type": "stream",
          "name": "stdout",
          "text": [
            "945/945 [==============================] - 18s 18ms/step\n"
          ]
        },
        {
          "output_type": "execute_result",
          "data": {
            "text/plain": [
              "{'accuracy': 85.19793459552496,\n",
              " 'precision': 0.8543263286467527,\n",
              " 'recall': 0.8519793459552496,\n",
              " 'f1': 0.8497476499624699}"
            ]
          },
          "metadata": {},
          "execution_count": 104
        }
      ]
    },
    {
      "cell_type": "markdown",
      "source": [
        "## Save and load model for testing"
      ],
      "metadata": {
        "id": "4UbWdRFlvZXL"
      }
    },
    {
      "cell_type": "code",
      "source": [
        "def build_model():\n",
        "  # Token model\n",
        "  token_inputs = layers.Input(shape=[],\n",
        "                              dtype=\"string\",\n",
        "                              name=\"token_inputs\")\n",
        "  token_embeddings = sentence_embedding_layer(token_inputs)\n",
        "  token_outputs = layers.Dense(128, activation='relu')(token_embeddings)\n",
        "  token_model = tf.keras.Model(inputs=token_inputs,\n",
        "                            outputs=token_outputs)\n",
        "\n",
        "  # Char model\n",
        "  char_inputs = layers.Input(shape=(1,),\n",
        "                            dtype=\"string\",\n",
        "                            name=\"char_inputs\")\n",
        "  char_vectors = char_vectorizer(char_inputs)\n",
        "  char_embeddings = char_embed(char_vectors)\n",
        "  char_bi_lstm = layers.Bidirectional(\n",
        "      layers.LSTM(32)\n",
        "  )(char_embeddings)\n",
        "  char_model = tf.keras.Model(inputs = char_inputs,\n",
        "                              outputs = char_bi_lstm)\n",
        "\n",
        "  # line_numbers position encoding model\n",
        "  line_number_inputs = layers.Input(\n",
        "      shape = (15,), #matches the depth\n",
        "      dtype = tf.int32,\n",
        "      name = 'line_number_input'\n",
        "  )\n",
        "  x = layers.Dense(32, activation='relu')(line_number_inputs)\n",
        "  line_number_model = tf.keras.Model(inputs = line_number_inputs,\n",
        "                                    outputs = x)\n",
        "\n",
        "  # total_line_numbers position enocding model\n",
        "  total_line_inputs = layers.Input(\n",
        "      shape = (20,),\n",
        "      dtype = tf.int32,\n",
        "      name = 'total_line_inputs'\n",
        "  )\n",
        "  y = layers.Dense(32, activation='relu')(total_line_inputs)\n",
        "  total_line_model = tf.keras.Model(inputs = total_line_inputs,\n",
        "                                    outputs = y)\n",
        "  \n",
        "  combined_embeddings = layers.Concatenate(\n",
        "    name=\"token_char_hybrid_embedding\"\n",
        "    )([token_model.output, char_model.output])\n",
        "\n",
        "  # Sentence embeddings are passed through a dropout\n",
        "  z = layers.Dense(256, activation = 'relu')(combined_embeddings)\n",
        "  z = layers.Dropout(0.5)(z) #following the paper\n",
        "\n",
        "  # Combine z with position embeddings\n",
        "  tribrid_embeddings = layers.Concatenate(\n",
        "      name = 'char_token_position_embedding'\n",
        "  )([line_number_model.output,\n",
        "    total_line_model.output,\n",
        "    z])\n",
        "\n",
        "  output_layer = layers.Dense(\n",
        "      5,\n",
        "      activation = 'softmax',\n",
        "      name = 'output_layer'\n",
        "  )(tribrid_embeddings)\n",
        "\n",
        "  model = tf.keras.Model(inputs = [line_number_model.input,\n",
        "                                  total_line_model.input,\n",
        "                                  token_model.input,\n",
        "                                  char_model.input],\n",
        "                        outputs = output_layer,\n",
        "                        name = 'model_tribrid_model')\n",
        "  \n",
        "  model.compile(\n",
        "      loss=tf.keras.losses.CategoricalCrossentropy(label_smoothing=0.2),\n",
        "      optimizer=tf.keras.optimizers.Adam(),\n",
        "      metrics=['accuracy']\n",
        "      )\n",
        "\n",
        "  return model"
      ],
      "metadata": {
        "id": "-bR0JQm0uoFe"
      },
      "execution_count": 105,
      "outputs": []
    },
    {
      "cell_type": "code",
      "source": [
        "model = build_model()\n",
        "model.summary()"
      ],
      "metadata": {
        "colab": {
          "base_uri": "https://localhost:8080/"
        },
        "id": "miTSdnXWzc8s",
        "outputId": "480bd44a-93fe-4899-e12d-376e0b9e9c08"
      },
      "execution_count": 106,
      "outputs": [
        {
          "output_type": "stream",
          "name": "stdout",
          "text": [
            "Model: \"model_tribrid_model\"\n",
            "__________________________________________________________________________________________________\n",
            " Layer (type)                   Output Shape         Param #     Connected to                     \n",
            "==================================================================================================\n",
            " char_inputs (InputLayer)       [(None, 1)]          0           []                               \n",
            "                                                                                                  \n",
            " token_inputs (InputLayer)      [(None,)]            0           []                               \n",
            "                                                                                                  \n",
            " char_vectorizer (TextVectoriza  (None, 290)         0           ['char_inputs[0][0]']            \n",
            " tion)                                                                                            \n",
            "                                                                                                  \n",
            " universal_sentence_encoder (Ke  (None, 512)         256797824   ['token_inputs[0][0]']           \n",
            " rasLayer)                                                                                        \n",
            "                                                                                                  \n",
            " char_embed (Embedding)         (None, 290, 28)      1960        ['char_vectorizer[3][0]']        \n",
            "                                                                                                  \n",
            " dense_11 (Dense)               (None, 128)          65664       ['universal_sentence_encoder[2][0\n",
            "                                                                 ]']                              \n",
            "                                                                                                  \n",
            " bidirectional_2 (Bidirectional  (None, 64)          15616       ['char_embed[3][0]']             \n",
            " )                                                                                                \n",
            "                                                                                                  \n",
            " token_char_hybrid_embedding (C  (None, 192)         0           ['dense_11[0][0]',               \n",
            " oncatenate)                                                      'bidirectional_2[0][0]']        \n",
            "                                                                                                  \n",
            " line_number_input (InputLayer)  [(None, 15)]        0           []                               \n",
            "                                                                                                  \n",
            " total_line_inputs (InputLayer)  [(None, 20)]        0           []                               \n",
            "                                                                                                  \n",
            " dense_14 (Dense)               (None, 256)          49408       ['token_char_hybrid_embedding[0][\n",
            "                                                                 0]']                             \n",
            "                                                                                                  \n",
            " dense_12 (Dense)               (None, 32)           512         ['line_number_input[0][0]']      \n",
            "                                                                                                  \n",
            " dense_13 (Dense)               (None, 32)           672         ['total_line_inputs[0][0]']      \n",
            "                                                                                                  \n",
            " dropout_3 (Dropout)            (None, 256)          0           ['dense_14[0][0]']               \n",
            "                                                                                                  \n",
            " char_token_position_embedding   (None, 320)         0           ['dense_12[0][0]',               \n",
            " (Concatenate)                                                    'dense_13[0][0]',               \n",
            "                                                                  'dropout_3[0][0]']              \n",
            "                                                                                                  \n",
            " output_layer (Dense)           (None, 5)            1605        ['char_token_position_embedding[0\n",
            "                                                                 ][0]']                           \n",
            "                                                                                                  \n",
            "==================================================================================================\n",
            "Total params: 256,933,261\n",
            "Trainable params: 135,437\n",
            "Non-trainable params: 256,797,824\n",
            "__________________________________________________________________________________________________\n"
          ]
        }
      ]
    },
    {
      "cell_type": "code",
      "source": [
        "latest = tf.train.latest_checkpoint(checkpoint_dir)\n",
        "latest"
      ],
      "metadata": {
        "colab": {
          "base_uri": "https://localhost:8080/",
          "height": 35
        },
        "id": "OflCHZxwzgBu",
        "outputId": "c9c67ee0-db03-4b89-a57d-3ad17029acea"
      },
      "execution_count": 107,
      "outputs": [
        {
          "output_type": "execute_result",
          "data": {
            "text/plain": [
              "'training/cp.ckpt'"
            ],
            "application/vnd.google.colaboratory.intrinsic+json": {
              "type": "string"
            }
          },
          "metadata": {},
          "execution_count": 107
        }
      ]
    },
    {
      "cell_type": "code",
      "source": [
        "model.load_weights(latest)"
      ],
      "metadata": {
        "colab": {
          "base_uri": "https://localhost:8080/"
        },
        "id": "lgTC8F2PzlTx",
        "outputId": "7b9f38ed-0bb3-4cd4-b926-d29241703c63"
      },
      "execution_count": 108,
      "outputs": [
        {
          "output_type": "execute_result",
          "data": {
            "text/plain": [
              "<tensorflow.python.checkpoint.checkpoint.CheckpointLoadStatus at 0x7f9374376a00>"
            ]
          },
          "metadata": {},
          "execution_count": 108
        }
      ]
    },
    {
      "cell_type": "code",
      "source": [
        "model.evaluate(tribrid_val)"
      ],
      "metadata": {
        "colab": {
          "base_uri": "https://localhost:8080/"
        },
        "id": "vlI-SvLazovt",
        "outputId": "035d791b-9d0e-438d-ebcd-738f989cd645"
      },
      "execution_count": 109,
      "outputs": [
        {
          "output_type": "stream",
          "name": "stdout",
          "text": [
            "945/945 [==============================] - 22s 21ms/step - loss: 0.9012 - accuracy: 0.8520\n"
          ]
        },
        {
          "output_type": "execute_result",
          "data": {
            "text/plain": [
              "[0.9011713862419128, 0.8519793748855591]"
            ]
          },
          "metadata": {},
          "execution_count": 109
        }
      ]
    },
    {
      "cell_type": "code",
      "source": [
        "!zip -r /content/model_weights.zip /content/training"
      ],
      "metadata": {
        "colab": {
          "base_uri": "https://localhost:8080/"
        },
        "id": "RJuR1F5dxXhl",
        "outputId": "1808b344-9a65-4a1a-8cd1-41ce010df83e"
      },
      "execution_count": 110,
      "outputs": [
        {
          "output_type": "stream",
          "name": "stdout",
          "text": [
            "  adding: content/training/ (stored 0%)\n",
            "  adding: content/training/cp.ckpt.data-00000-of-00001 (deflated 7%)\n",
            "  adding: content/training/cp.ckpt.index (deflated 77%)\n",
            "  adding: content/training/checkpoint (deflated 38%)\n"
          ]
        }
      ]
    },
    {
      "cell_type": "code",
      "source": [
        "from google.colab import files\n",
        "files.download('model_weights.zip')"
      ],
      "metadata": {
        "colab": {
          "base_uri": "https://localhost:8080/",
          "height": 34
        },
        "id": "LH2OQeN9xx0q",
        "outputId": "f3a428cf-205a-4795-e2d5-e81457afd3d1"
      },
      "execution_count": 111,
      "outputs": [
        {
          "output_type": "display_data",
          "data": {
            "text/plain": [
              "<IPython.core.display.Javascript object>"
            ],
            "application/javascript": [
              "\n",
              "    async function download(id, filename, size) {\n",
              "      if (!google.colab.kernel.accessAllowed) {\n",
              "        return;\n",
              "      }\n",
              "      const div = document.createElement('div');\n",
              "      const label = document.createElement('label');\n",
              "      label.textContent = `Downloading \"${filename}\": `;\n",
              "      div.appendChild(label);\n",
              "      const progress = document.createElement('progress');\n",
              "      progress.max = size;\n",
              "      div.appendChild(progress);\n",
              "      document.body.appendChild(div);\n",
              "\n",
              "      const buffers = [];\n",
              "      let downloaded = 0;\n",
              "\n",
              "      const channel = await google.colab.kernel.comms.open(id);\n",
              "      // Send a message to notify the kernel that we're ready.\n",
              "      channel.send({})\n",
              "\n",
              "      for await (const message of channel.messages) {\n",
              "        // Send a message to notify the kernel that we're ready.\n",
              "        channel.send({})\n",
              "        if (message.buffers) {\n",
              "          for (const buffer of message.buffers) {\n",
              "            buffers.push(buffer);\n",
              "            downloaded += buffer.byteLength;\n",
              "            progress.value = downloaded;\n",
              "          }\n",
              "        }\n",
              "      }\n",
              "      const blob = new Blob(buffers, {type: 'application/binary'});\n",
              "      const a = document.createElement('a');\n",
              "      a.href = window.URL.createObjectURL(blob);\n",
              "      a.download = filename;\n",
              "      div.appendChild(a);\n",
              "      a.click();\n",
              "      div.remove();\n",
              "    }\n",
              "  "
            ]
          },
          "metadata": {}
        },
        {
          "output_type": "display_data",
          "data": {
            "text/plain": [
              "<IPython.core.display.Javascript object>"
            ],
            "application/javascript": [
              "download(\"download_797f42d5-a2f2-48ce-a6c8-c76c0e8cef7d\", \"model_weights.zip\", 959017277)"
            ]
          },
          "metadata": {}
        }
      ]
    },
    {
      "cell_type": "code",
      "source": [
        "files.download('model.png')"
      ],
      "metadata": {
        "colab": {
          "base_uri": "https://localhost:8080/",
          "height": 17
        },
        "id": "flC4ErJl0vOk",
        "outputId": "2f75db3d-90ac-4698-a077-02b4563906eb"
      },
      "execution_count": 120,
      "outputs": [
        {
          "output_type": "display_data",
          "data": {
            "text/plain": [
              "<IPython.core.display.Javascript object>"
            ],
            "application/javascript": [
              "\n",
              "    async function download(id, filename, size) {\n",
              "      if (!google.colab.kernel.accessAllowed) {\n",
              "        return;\n",
              "      }\n",
              "      const div = document.createElement('div');\n",
              "      const label = document.createElement('label');\n",
              "      label.textContent = `Downloading \"${filename}\": `;\n",
              "      div.appendChild(label);\n",
              "      const progress = document.createElement('progress');\n",
              "      progress.max = size;\n",
              "      div.appendChild(progress);\n",
              "      document.body.appendChild(div);\n",
              "\n",
              "      const buffers = [];\n",
              "      let downloaded = 0;\n",
              "\n",
              "      const channel = await google.colab.kernel.comms.open(id);\n",
              "      // Send a message to notify the kernel that we're ready.\n",
              "      channel.send({})\n",
              "\n",
              "      for await (const message of channel.messages) {\n",
              "        // Send a message to notify the kernel that we're ready.\n",
              "        channel.send({})\n",
              "        if (message.buffers) {\n",
              "          for (const buffer of message.buffers) {\n",
              "            buffers.push(buffer);\n",
              "            downloaded += buffer.byteLength;\n",
              "            progress.value = downloaded;\n",
              "          }\n",
              "        }\n",
              "      }\n",
              "      const blob = new Blob(buffers, {type: 'application/binary'});\n",
              "      const a = document.createElement('a');\n",
              "      a.href = window.URL.createObjectURL(blob);\n",
              "      a.download = filename;\n",
              "      div.appendChild(a);\n",
              "      a.click();\n",
              "      div.remove();\n",
              "    }\n",
              "  "
            ]
          },
          "metadata": {}
        },
        {
          "output_type": "display_data",
          "data": {
            "text/plain": [
              "<IPython.core.display.Javascript object>"
            ],
            "application/javascript": [
              "download(\"download_bbbcaea6-b98c-4228-96ec-84b4feba093b\", \"model.png\", 109043)"
            ]
          },
          "metadata": {}
        }
      ]
    },
    {
      "cell_type": "markdown",
      "source": [
        "## Model evaluation on a test dataset"
      ],
      "metadata": {
        "id": "04YqKtKfxs0o"
      }
    },
    {
      "cell_type": "markdown",
      "source": [
        "Here's a reminder of all the test datasets we've defined thus far. Let's create the test dataset for model evaluation."
      ],
      "metadata": {
        "id": "pPo1jQ-50hhk"
      }
    },
    {
      "cell_type": "markdown",
      "source": [
        "```\n",
        "test_samples = preprocess_text(data_dir+'/test.txt')\n",
        "test_df = pd.DataFrame(test_samples)\n",
        "\n",
        "test_labels_encoded = label_encoder.transform(\n",
        "    test_df['target'].to_numpy()\n",
        ")\n",
        "test_labels_one_hot = one_hot_encoder.transform(\n",
        "    test_df['target'].to_numpy().reshape(-1,1)\n",
        ")\n",
        "\n",
        "test_sentences = test_df['text'].tolist()\n",
        "test_dataset = tf.data.Dataset.from_tensor_slices(\n",
        "    (test_sentences, test_labels_one_hot)\n",
        ")\n",
        "test_dataset = test_dataset.batch(32).prefetch(tf.data.AUTOTUNE)\n",
        "test_chars = [split_to_chars(sentence) for sentence in test_sentences]\n",
        "test_line_numbers_one_hot = tf.one_hot(test_df['line_number'].to_numpy(),\n",
        "                                       depth = 15)\n",
        "test_total_lines_one_hot = tf.one_hot(test_df['total_lines'].to_numpy(),\n",
        "                                      depth = 20)\n",
        "````"
      ],
      "metadata": {
        "id": "YRmB3593xdks"
      }
    },
    {
      "cell_type": "code",
      "source": [
        "tribrid_test_data = tf.data.Dataset.from_tensor_slices(\n",
        "    (test_line_numbers_one_hot,\n",
        "     test_total_lines_one_hot,\n",
        "     test_sentences,\n",
        "     test_chars))\n",
        "\n",
        "tribrid_test_labels = tf.data.Dataset.from_tensor_slices(test_labels_one_hot)\n",
        "\n",
        "# Zipping it all together\n",
        "tribrid_test = tf.data.Dataset.zip(\n",
        "    (tribrid_test_data, tribrid_test_labels)).batch(32).prefetch(tf.data.AUTOTUNE)"
      ],
      "metadata": {
        "id": "pHprerkN0kfy"
      },
      "execution_count": 112,
      "outputs": []
    },
    {
      "cell_type": "code",
      "source": [
        "model.evaluate(tribrid_test)"
      ],
      "metadata": {
        "colab": {
          "base_uri": "https://localhost:8080/"
        },
        "id": "c85Orvmt1nLR",
        "outputId": "fa2236ba-0da1-437f-c18b-846612b0aada"
      },
      "execution_count": 113,
      "outputs": [
        {
          "output_type": "stream",
          "name": "stdout",
          "text": [
            "942/942 [==============================] - 20s 22ms/step - loss: 0.9099 - accuracy: 0.8481\n"
          ]
        },
        {
          "output_type": "execute_result",
          "data": {
            "text/plain": [
              "[0.9098861217498779, 0.8480504155158997]"
            ]
          },
          "metadata": {},
          "execution_count": 113
        }
      ]
    },
    {
      "cell_type": "markdown",
      "source": [
        "## Find the most wrong predictions - predictions with the highest prediction probability"
      ],
      "metadata": {
        "id": "-2kJjNJayIJr"
      }
    },
    {
      "cell_type": "code",
      "source": [
        "test_pred_probs = model.predict(tribrid_test)\n",
        "test_preds = tf.argmax(test_pred_probs, axis = 1)\n",
        "test_preds[:10]"
      ],
      "metadata": {
        "colab": {
          "base_uri": "https://localhost:8080/"
        },
        "id": "Wkflk_DI2kf8",
        "outputId": "2d08e26f-b302-4238-fbfc-0cd3c4f33d09"
      },
      "execution_count": 114,
      "outputs": [
        {
          "output_type": "stream",
          "name": "stdout",
          "text": [
            "942/942 [==============================] - 23s 22ms/step\n"
          ]
        },
        {
          "output_type": "execute_result",
          "data": {
            "text/plain": [
              "<tf.Tensor: shape=(10,), dtype=int64, numpy=array([3, 2, 2, 2, 4, 4, 4, 1, 1, 0])>"
            ]
          },
          "metadata": {},
          "execution_count": 114
        }
      ]
    },
    {
      "cell_type": "code",
      "source": [
        "model_test_results = calculate_results(y_true=test_labels_encoded,\n",
        "                                              y_pred=test_preds)\n",
        "model_test_results"
      ],
      "metadata": {
        "colab": {
          "base_uri": "https://localhost:8080/"
        },
        "id": "iF3v9DaF3SY3",
        "outputId": "baf14c33-ec35-4250-8b09-477e6cf42919"
      },
      "execution_count": 115,
      "outputs": [
        {
          "output_type": "execute_result",
          "data": {
            "text/plain": [
              "{'accuracy': 84.80504396880704,\n",
              " 'precision': 0.8489286069355882,\n",
              " 'recall': 0.8480504396880704,\n",
              " 'f1': 0.8456423524117481}"
            ]
          },
          "metadata": {},
          "execution_count": 115
        }
      ]
    },
    {
      "cell_type": "code",
      "source": [
        "test_pred_classes = [label_encoder.classes_[pred] for pred in test_preds]\n",
        "test_pred_classes[:5]"
      ],
      "metadata": {
        "colab": {
          "base_uri": "https://localhost:8080/"
        },
        "id": "X1x_p6FdyMA3",
        "outputId": "656eca17-e3f3-4e9b-bf0d-6f3cf106029b"
      },
      "execution_count": 116,
      "outputs": [
        {
          "output_type": "execute_result",
          "data": {
            "text/plain": [
              "['OBJECTIVE', 'METHODS', 'METHODS', 'METHODS', 'RESULTS']"
            ]
          },
          "metadata": {},
          "execution_count": 116
        }
      ]
    },
    {
      "cell_type": "code",
      "source": [
        "test_df['prediction'] = test_pred_classes\n",
        "test_df['pred_prob'] = tf.reduce_max(test_pred_probs, axis = 1).numpy()\n",
        "test_df['correct'] = test_df['prediction'] == test_df['target']\n",
        "test_df.head(20)"
      ],
      "metadata": {
        "colab": {
          "base_uri": "https://localhost:8080/",
          "height": 677
        },
        "id": "4bXiIen12ZvW",
        "outputId": "08c16e8c-bf78-4f9f-b349-03fcb408c969"
      },
      "execution_count": 117,
      "outputs": [
        {
          "output_type": "execute_result",
          "data": {
            "text/plain": [
              "    line_number       target  \\\n",
              "0             0   BACKGROUND   \n",
              "1             1      RESULTS   \n",
              "2             2      RESULTS   \n",
              "3             3      RESULTS   \n",
              "4             4      RESULTS   \n",
              "5             5      RESULTS   \n",
              "6             6      RESULTS   \n",
              "7             7  CONCLUSIONS   \n",
              "8             8  CONCLUSIONS   \n",
              "9             0   BACKGROUND   \n",
              "10            1   BACKGROUND   \n",
              "11            2      METHODS   \n",
              "12            3      METHODS   \n",
              "13            4      METHODS   \n",
              "14            5      RESULTS   \n",
              "15            6      RESULTS   \n",
              "16            7      RESULTS   \n",
              "17            8      RESULTS   \n",
              "18            9      RESULTS   \n",
              "19           10      RESULTS   \n",
              "\n",
              "                                                 text  total_lines  \\\n",
              "0   this study analyzed liver function abnormaliti...            8   \n",
              "1   a post hoc analysis was conducted with the use...            8   \n",
              "2   liver function tests ( lfts ) were measured at...            8   \n",
              "3   survival analyses were used to assess the asso...            8   \n",
              "4   the percentage of patients with abnormal lfts ...            8   \n",
              "5   when mean hemodynamic profiles were compared i...            8   \n",
              "6   multivariable analyses revealed that patients ...            8   \n",
              "7   abnormal lfts are common in the adhf populatio...            8   \n",
              "8   elevated meld-xi scores are associated with po...            8   \n",
              "9   minimally invasive endovascular aneurysm repai...           12   \n",
              "10  the aim of this study was to analyse the cost-...           12   \n",
              "11  resource use was determined from the amsterdam...           12   \n",
              "12  the analysis was performed from a provider per...           12   \n",
              "13  all costs were calculated as if all patients h...           12   \n",
              "14            a total of @ patients were randomized .           12   \n",
              "15  the @-day mortality rate was @ per cent after ...           12   \n",
              "16  at @months , the total mortality rate for evar...           12   \n",
              "17  the mean cost difference between evar and or w...           12   \n",
              "18  the incremental cost-effectiveness ratio per p...           12   \n",
              "19  there was no significant difference in quality...           12   \n",
              "\n",
              "     prediction  pred_prob  correct  \n",
              "0     OBJECTIVE   0.401908    False  \n",
              "1       METHODS   0.503287    False  \n",
              "2       METHODS   0.852952    False  \n",
              "3       METHODS   0.786151    False  \n",
              "4       RESULTS   0.808469     True  \n",
              "5       RESULTS   0.891641     True  \n",
              "6       RESULTS   0.885331     True  \n",
              "7   CONCLUSIONS   0.682938     True  \n",
              "8   CONCLUSIONS   0.775527     True  \n",
              "9    BACKGROUND   0.652344     True  \n",
              "10    OBJECTIVE   0.508221    False  \n",
              "11      METHODS   0.725531     True  \n",
              "12      METHODS   0.881670     True  \n",
              "13      RESULTS   0.444191    False  \n",
              "14      RESULTS   0.928234     True  \n",
              "15      RESULTS   0.884690     True  \n",
              "16      RESULTS   0.935160     True  \n",
              "17      RESULTS   0.924711     True  \n",
              "18      RESULTS   0.925465     True  \n",
              "19      RESULTS   0.839778     True  "
            ],
            "text/html": [
              "\n",
              "  <div id=\"df-bee0b1dc-bda6-44c8-9d3c-c71b21dbb296\">\n",
              "    <div class=\"colab-df-container\">\n",
              "      <div>\n",
              "<style scoped>\n",
              "    .dataframe tbody tr th:only-of-type {\n",
              "        vertical-align: middle;\n",
              "    }\n",
              "\n",
              "    .dataframe tbody tr th {\n",
              "        vertical-align: top;\n",
              "    }\n",
              "\n",
              "    .dataframe thead th {\n",
              "        text-align: right;\n",
              "    }\n",
              "</style>\n",
              "<table border=\"1\" class=\"dataframe\">\n",
              "  <thead>\n",
              "    <tr style=\"text-align: right;\">\n",
              "      <th></th>\n",
              "      <th>line_number</th>\n",
              "      <th>target</th>\n",
              "      <th>text</th>\n",
              "      <th>total_lines</th>\n",
              "      <th>prediction</th>\n",
              "      <th>pred_prob</th>\n",
              "      <th>correct</th>\n",
              "    </tr>\n",
              "  </thead>\n",
              "  <tbody>\n",
              "    <tr>\n",
              "      <th>0</th>\n",
              "      <td>0</td>\n",
              "      <td>BACKGROUND</td>\n",
              "      <td>this study analyzed liver function abnormaliti...</td>\n",
              "      <td>8</td>\n",
              "      <td>OBJECTIVE</td>\n",
              "      <td>0.401908</td>\n",
              "      <td>False</td>\n",
              "    </tr>\n",
              "    <tr>\n",
              "      <th>1</th>\n",
              "      <td>1</td>\n",
              "      <td>RESULTS</td>\n",
              "      <td>a post hoc analysis was conducted with the use...</td>\n",
              "      <td>8</td>\n",
              "      <td>METHODS</td>\n",
              "      <td>0.503287</td>\n",
              "      <td>False</td>\n",
              "    </tr>\n",
              "    <tr>\n",
              "      <th>2</th>\n",
              "      <td>2</td>\n",
              "      <td>RESULTS</td>\n",
              "      <td>liver function tests ( lfts ) were measured at...</td>\n",
              "      <td>8</td>\n",
              "      <td>METHODS</td>\n",
              "      <td>0.852952</td>\n",
              "      <td>False</td>\n",
              "    </tr>\n",
              "    <tr>\n",
              "      <th>3</th>\n",
              "      <td>3</td>\n",
              "      <td>RESULTS</td>\n",
              "      <td>survival analyses were used to assess the asso...</td>\n",
              "      <td>8</td>\n",
              "      <td>METHODS</td>\n",
              "      <td>0.786151</td>\n",
              "      <td>False</td>\n",
              "    </tr>\n",
              "    <tr>\n",
              "      <th>4</th>\n",
              "      <td>4</td>\n",
              "      <td>RESULTS</td>\n",
              "      <td>the percentage of patients with abnormal lfts ...</td>\n",
              "      <td>8</td>\n",
              "      <td>RESULTS</td>\n",
              "      <td>0.808469</td>\n",
              "      <td>True</td>\n",
              "    </tr>\n",
              "    <tr>\n",
              "      <th>5</th>\n",
              "      <td>5</td>\n",
              "      <td>RESULTS</td>\n",
              "      <td>when mean hemodynamic profiles were compared i...</td>\n",
              "      <td>8</td>\n",
              "      <td>RESULTS</td>\n",
              "      <td>0.891641</td>\n",
              "      <td>True</td>\n",
              "    </tr>\n",
              "    <tr>\n",
              "      <th>6</th>\n",
              "      <td>6</td>\n",
              "      <td>RESULTS</td>\n",
              "      <td>multivariable analyses revealed that patients ...</td>\n",
              "      <td>8</td>\n",
              "      <td>RESULTS</td>\n",
              "      <td>0.885331</td>\n",
              "      <td>True</td>\n",
              "    </tr>\n",
              "    <tr>\n",
              "      <th>7</th>\n",
              "      <td>7</td>\n",
              "      <td>CONCLUSIONS</td>\n",
              "      <td>abnormal lfts are common in the adhf populatio...</td>\n",
              "      <td>8</td>\n",
              "      <td>CONCLUSIONS</td>\n",
              "      <td>0.682938</td>\n",
              "      <td>True</td>\n",
              "    </tr>\n",
              "    <tr>\n",
              "      <th>8</th>\n",
              "      <td>8</td>\n",
              "      <td>CONCLUSIONS</td>\n",
              "      <td>elevated meld-xi scores are associated with po...</td>\n",
              "      <td>8</td>\n",
              "      <td>CONCLUSIONS</td>\n",
              "      <td>0.775527</td>\n",
              "      <td>True</td>\n",
              "    </tr>\n",
              "    <tr>\n",
              "      <th>9</th>\n",
              "      <td>0</td>\n",
              "      <td>BACKGROUND</td>\n",
              "      <td>minimally invasive endovascular aneurysm repai...</td>\n",
              "      <td>12</td>\n",
              "      <td>BACKGROUND</td>\n",
              "      <td>0.652344</td>\n",
              "      <td>True</td>\n",
              "    </tr>\n",
              "    <tr>\n",
              "      <th>10</th>\n",
              "      <td>1</td>\n",
              "      <td>BACKGROUND</td>\n",
              "      <td>the aim of this study was to analyse the cost-...</td>\n",
              "      <td>12</td>\n",
              "      <td>OBJECTIVE</td>\n",
              "      <td>0.508221</td>\n",
              "      <td>False</td>\n",
              "    </tr>\n",
              "    <tr>\n",
              "      <th>11</th>\n",
              "      <td>2</td>\n",
              "      <td>METHODS</td>\n",
              "      <td>resource use was determined from the amsterdam...</td>\n",
              "      <td>12</td>\n",
              "      <td>METHODS</td>\n",
              "      <td>0.725531</td>\n",
              "      <td>True</td>\n",
              "    </tr>\n",
              "    <tr>\n",
              "      <th>12</th>\n",
              "      <td>3</td>\n",
              "      <td>METHODS</td>\n",
              "      <td>the analysis was performed from a provider per...</td>\n",
              "      <td>12</td>\n",
              "      <td>METHODS</td>\n",
              "      <td>0.881670</td>\n",
              "      <td>True</td>\n",
              "    </tr>\n",
              "    <tr>\n",
              "      <th>13</th>\n",
              "      <td>4</td>\n",
              "      <td>METHODS</td>\n",
              "      <td>all costs were calculated as if all patients h...</td>\n",
              "      <td>12</td>\n",
              "      <td>RESULTS</td>\n",
              "      <td>0.444191</td>\n",
              "      <td>False</td>\n",
              "    </tr>\n",
              "    <tr>\n",
              "      <th>14</th>\n",
              "      <td>5</td>\n",
              "      <td>RESULTS</td>\n",
              "      <td>a total of @ patients were randomized .</td>\n",
              "      <td>12</td>\n",
              "      <td>RESULTS</td>\n",
              "      <td>0.928234</td>\n",
              "      <td>True</td>\n",
              "    </tr>\n",
              "    <tr>\n",
              "      <th>15</th>\n",
              "      <td>6</td>\n",
              "      <td>RESULTS</td>\n",
              "      <td>the @-day mortality rate was @ per cent after ...</td>\n",
              "      <td>12</td>\n",
              "      <td>RESULTS</td>\n",
              "      <td>0.884690</td>\n",
              "      <td>True</td>\n",
              "    </tr>\n",
              "    <tr>\n",
              "      <th>16</th>\n",
              "      <td>7</td>\n",
              "      <td>RESULTS</td>\n",
              "      <td>at @months , the total mortality rate for evar...</td>\n",
              "      <td>12</td>\n",
              "      <td>RESULTS</td>\n",
              "      <td>0.935160</td>\n",
              "      <td>True</td>\n",
              "    </tr>\n",
              "    <tr>\n",
              "      <th>17</th>\n",
              "      <td>8</td>\n",
              "      <td>RESULTS</td>\n",
              "      <td>the mean cost difference between evar and or w...</td>\n",
              "      <td>12</td>\n",
              "      <td>RESULTS</td>\n",
              "      <td>0.924711</td>\n",
              "      <td>True</td>\n",
              "    </tr>\n",
              "    <tr>\n",
              "      <th>18</th>\n",
              "      <td>9</td>\n",
              "      <td>RESULTS</td>\n",
              "      <td>the incremental cost-effectiveness ratio per p...</td>\n",
              "      <td>12</td>\n",
              "      <td>RESULTS</td>\n",
              "      <td>0.925465</td>\n",
              "      <td>True</td>\n",
              "    </tr>\n",
              "    <tr>\n",
              "      <th>19</th>\n",
              "      <td>10</td>\n",
              "      <td>RESULTS</td>\n",
              "      <td>there was no significant difference in quality...</td>\n",
              "      <td>12</td>\n",
              "      <td>RESULTS</td>\n",
              "      <td>0.839778</td>\n",
              "      <td>True</td>\n",
              "    </tr>\n",
              "  </tbody>\n",
              "</table>\n",
              "</div>\n",
              "      <button class=\"colab-df-convert\" onclick=\"convertToInteractive('df-bee0b1dc-bda6-44c8-9d3c-c71b21dbb296')\"\n",
              "              title=\"Convert this dataframe to an interactive table.\"\n",
              "              style=\"display:none;\">\n",
              "        \n",
              "  <svg xmlns=\"http://www.w3.org/2000/svg\" height=\"24px\"viewBox=\"0 0 24 24\"\n",
              "       width=\"24px\">\n",
              "    <path d=\"M0 0h24v24H0V0z\" fill=\"none\"/>\n",
              "    <path d=\"M18.56 5.44l.94 2.06.94-2.06 2.06-.94-2.06-.94-.94-2.06-.94 2.06-2.06.94zm-11 1L8.5 8.5l.94-2.06 2.06-.94-2.06-.94L8.5 2.5l-.94 2.06-2.06.94zm10 10l.94 2.06.94-2.06 2.06-.94-2.06-.94-.94-2.06-.94 2.06-2.06.94z\"/><path d=\"M17.41 7.96l-1.37-1.37c-.4-.4-.92-.59-1.43-.59-.52 0-1.04.2-1.43.59L10.3 9.45l-7.72 7.72c-.78.78-.78 2.05 0 2.83L4 21.41c.39.39.9.59 1.41.59.51 0 1.02-.2 1.41-.59l7.78-7.78 2.81-2.81c.8-.78.8-2.07 0-2.86zM5.41 20L4 18.59l7.72-7.72 1.47 1.35L5.41 20z\"/>\n",
              "  </svg>\n",
              "      </button>\n",
              "      \n",
              "  <style>\n",
              "    .colab-df-container {\n",
              "      display:flex;\n",
              "      flex-wrap:wrap;\n",
              "      gap: 12px;\n",
              "    }\n",
              "\n",
              "    .colab-df-convert {\n",
              "      background-color: #E8F0FE;\n",
              "      border: none;\n",
              "      border-radius: 50%;\n",
              "      cursor: pointer;\n",
              "      display: none;\n",
              "      fill: #1967D2;\n",
              "      height: 32px;\n",
              "      padding: 0 0 0 0;\n",
              "      width: 32px;\n",
              "    }\n",
              "\n",
              "    .colab-df-convert:hover {\n",
              "      background-color: #E2EBFA;\n",
              "      box-shadow: 0px 1px 2px rgba(60, 64, 67, 0.3), 0px 1px 3px 1px rgba(60, 64, 67, 0.15);\n",
              "      fill: #174EA6;\n",
              "    }\n",
              "\n",
              "    [theme=dark] .colab-df-convert {\n",
              "      background-color: #3B4455;\n",
              "      fill: #D2E3FC;\n",
              "    }\n",
              "\n",
              "    [theme=dark] .colab-df-convert:hover {\n",
              "      background-color: #434B5C;\n",
              "      box-shadow: 0px 1px 3px 1px rgba(0, 0, 0, 0.15);\n",
              "      filter: drop-shadow(0px 1px 2px rgba(0, 0, 0, 0.3));\n",
              "      fill: #FFFFFF;\n",
              "    }\n",
              "  </style>\n",
              "\n",
              "      <script>\n",
              "        const buttonEl =\n",
              "          document.querySelector('#df-bee0b1dc-bda6-44c8-9d3c-c71b21dbb296 button.colab-df-convert');\n",
              "        buttonEl.style.display =\n",
              "          google.colab.kernel.accessAllowed ? 'block' : 'none';\n",
              "\n",
              "        async function convertToInteractive(key) {\n",
              "          const element = document.querySelector('#df-bee0b1dc-bda6-44c8-9d3c-c71b21dbb296');\n",
              "          const dataTable =\n",
              "            await google.colab.kernel.invokeFunction('convertToInteractive',\n",
              "                                                     [key], {});\n",
              "          if (!dataTable) return;\n",
              "\n",
              "          const docLinkHtml = 'Like what you see? Visit the ' +\n",
              "            '<a target=\"_blank\" href=https://colab.research.google.com/notebooks/data_table.ipynb>data table notebook</a>'\n",
              "            + ' to learn more about interactive tables.';\n",
              "          element.innerHTML = '';\n",
              "          dataTable['output_type'] = 'display_data';\n",
              "          await google.colab.output.renderOutput(dataTable, element);\n",
              "          const docLink = document.createElement('div');\n",
              "          docLink.innerHTML = docLinkHtml;\n",
              "          element.appendChild(docLink);\n",
              "        }\n",
              "      </script>\n",
              "    </div>\n",
              "  </div>\n",
              "  "
            ]
          },
          "metadata": {},
          "execution_count": 117
        }
      ]
    },
    {
      "cell_type": "code",
      "source": [
        "top100_wrong = test_df[test_df['correct'] == False].sort_values(\"pred_prob\", \n",
        "                                                                ascending=False\n",
        "                                                                )[:100]\n",
        "top100_wrong.head(5)"
      ],
      "metadata": {
        "colab": {
          "base_uri": "https://localhost:8080/",
          "height": 206
        },
        "id": "2JxQAEBG4Y1y",
        "outputId": "e067f338-0c45-4bf3-fdfb-82e854259e51"
      },
      "execution_count": 118,
      "outputs": [
        {
          "output_type": "execute_result",
          "data": {
            "text/plain": [
              "       line_number       target  \\\n",
              "8545             1      METHODS   \n",
              "19223            7      METHODS   \n",
              "16780           16      METHODS   \n",
              "1827            18  CONCLUSIONS   \n",
              "6955             0    OBJECTIVE   \n",
              "\n",
              "                                                    text  total_lines  \\\n",
              "8545                                  pretest-posttest .           11   \n",
              "19223  of the @ dogs receiving placebo , @ ( @ % ) vo...           10   \n",
              "16780  we will comply with the consort guidelines and...           19   \n",
              "1827                       nct@ ( clinicaltrials.gov ) .           18   \n",
              "6955   many people consume alcoholic beverages follow...           18   \n",
              "\n",
              "       prediction  pred_prob  correct  \n",
              "8545   BACKGROUND   0.968793    False  \n",
              "19223     RESULTS   0.952176    False  \n",
              "16780  BACKGROUND   0.943906    False  \n",
              "1827   BACKGROUND   0.942076    False  \n",
              "6955   BACKGROUND   0.938732    False  "
            ],
            "text/html": [
              "\n",
              "  <div id=\"df-41ea13fb-1b42-4f98-b5d1-f14c0b58c805\">\n",
              "    <div class=\"colab-df-container\">\n",
              "      <div>\n",
              "<style scoped>\n",
              "    .dataframe tbody tr th:only-of-type {\n",
              "        vertical-align: middle;\n",
              "    }\n",
              "\n",
              "    .dataframe tbody tr th {\n",
              "        vertical-align: top;\n",
              "    }\n",
              "\n",
              "    .dataframe thead th {\n",
              "        text-align: right;\n",
              "    }\n",
              "</style>\n",
              "<table border=\"1\" class=\"dataframe\">\n",
              "  <thead>\n",
              "    <tr style=\"text-align: right;\">\n",
              "      <th></th>\n",
              "      <th>line_number</th>\n",
              "      <th>target</th>\n",
              "      <th>text</th>\n",
              "      <th>total_lines</th>\n",
              "      <th>prediction</th>\n",
              "      <th>pred_prob</th>\n",
              "      <th>correct</th>\n",
              "    </tr>\n",
              "  </thead>\n",
              "  <tbody>\n",
              "    <tr>\n",
              "      <th>8545</th>\n",
              "      <td>1</td>\n",
              "      <td>METHODS</td>\n",
              "      <td>pretest-posttest .</td>\n",
              "      <td>11</td>\n",
              "      <td>BACKGROUND</td>\n",
              "      <td>0.968793</td>\n",
              "      <td>False</td>\n",
              "    </tr>\n",
              "    <tr>\n",
              "      <th>19223</th>\n",
              "      <td>7</td>\n",
              "      <td>METHODS</td>\n",
              "      <td>of the @ dogs receiving placebo , @ ( @ % ) vo...</td>\n",
              "      <td>10</td>\n",
              "      <td>RESULTS</td>\n",
              "      <td>0.952176</td>\n",
              "      <td>False</td>\n",
              "    </tr>\n",
              "    <tr>\n",
              "      <th>16780</th>\n",
              "      <td>16</td>\n",
              "      <td>METHODS</td>\n",
              "      <td>we will comply with the consort guidelines and...</td>\n",
              "      <td>19</td>\n",
              "      <td>BACKGROUND</td>\n",
              "      <td>0.943906</td>\n",
              "      <td>False</td>\n",
              "    </tr>\n",
              "    <tr>\n",
              "      <th>1827</th>\n",
              "      <td>18</td>\n",
              "      <td>CONCLUSIONS</td>\n",
              "      <td>nct@ ( clinicaltrials.gov ) .</td>\n",
              "      <td>18</td>\n",
              "      <td>BACKGROUND</td>\n",
              "      <td>0.942076</td>\n",
              "      <td>False</td>\n",
              "    </tr>\n",
              "    <tr>\n",
              "      <th>6955</th>\n",
              "      <td>0</td>\n",
              "      <td>OBJECTIVE</td>\n",
              "      <td>many people consume alcoholic beverages follow...</td>\n",
              "      <td>18</td>\n",
              "      <td>BACKGROUND</td>\n",
              "      <td>0.938732</td>\n",
              "      <td>False</td>\n",
              "    </tr>\n",
              "  </tbody>\n",
              "</table>\n",
              "</div>\n",
              "      <button class=\"colab-df-convert\" onclick=\"convertToInteractive('df-41ea13fb-1b42-4f98-b5d1-f14c0b58c805')\"\n",
              "              title=\"Convert this dataframe to an interactive table.\"\n",
              "              style=\"display:none;\">\n",
              "        \n",
              "  <svg xmlns=\"http://www.w3.org/2000/svg\" height=\"24px\"viewBox=\"0 0 24 24\"\n",
              "       width=\"24px\">\n",
              "    <path d=\"M0 0h24v24H0V0z\" fill=\"none\"/>\n",
              "    <path d=\"M18.56 5.44l.94 2.06.94-2.06 2.06-.94-2.06-.94-.94-2.06-.94 2.06-2.06.94zm-11 1L8.5 8.5l.94-2.06 2.06-.94-2.06-.94L8.5 2.5l-.94 2.06-2.06.94zm10 10l.94 2.06.94-2.06 2.06-.94-2.06-.94-.94-2.06-.94 2.06-2.06.94z\"/><path d=\"M17.41 7.96l-1.37-1.37c-.4-.4-.92-.59-1.43-.59-.52 0-1.04.2-1.43.59L10.3 9.45l-7.72 7.72c-.78.78-.78 2.05 0 2.83L4 21.41c.39.39.9.59 1.41.59.51 0 1.02-.2 1.41-.59l7.78-7.78 2.81-2.81c.8-.78.8-2.07 0-2.86zM5.41 20L4 18.59l7.72-7.72 1.47 1.35L5.41 20z\"/>\n",
              "  </svg>\n",
              "      </button>\n",
              "      \n",
              "  <style>\n",
              "    .colab-df-container {\n",
              "      display:flex;\n",
              "      flex-wrap:wrap;\n",
              "      gap: 12px;\n",
              "    }\n",
              "\n",
              "    .colab-df-convert {\n",
              "      background-color: #E8F0FE;\n",
              "      border: none;\n",
              "      border-radius: 50%;\n",
              "      cursor: pointer;\n",
              "      display: none;\n",
              "      fill: #1967D2;\n",
              "      height: 32px;\n",
              "      padding: 0 0 0 0;\n",
              "      width: 32px;\n",
              "    }\n",
              "\n",
              "    .colab-df-convert:hover {\n",
              "      background-color: #E2EBFA;\n",
              "      box-shadow: 0px 1px 2px rgba(60, 64, 67, 0.3), 0px 1px 3px 1px rgba(60, 64, 67, 0.15);\n",
              "      fill: #174EA6;\n",
              "    }\n",
              "\n",
              "    [theme=dark] .colab-df-convert {\n",
              "      background-color: #3B4455;\n",
              "      fill: #D2E3FC;\n",
              "    }\n",
              "\n",
              "    [theme=dark] .colab-df-convert:hover {\n",
              "      background-color: #434B5C;\n",
              "      box-shadow: 0px 1px 3px 1px rgba(0, 0, 0, 0.15);\n",
              "      filter: drop-shadow(0px 1px 2px rgba(0, 0, 0, 0.3));\n",
              "      fill: #FFFFFF;\n",
              "    }\n",
              "  </style>\n",
              "\n",
              "      <script>\n",
              "        const buttonEl =\n",
              "          document.querySelector('#df-41ea13fb-1b42-4f98-b5d1-f14c0b58c805 button.colab-df-convert');\n",
              "        buttonEl.style.display =\n",
              "          google.colab.kernel.accessAllowed ? 'block' : 'none';\n",
              "\n",
              "        async function convertToInteractive(key) {\n",
              "          const element = document.querySelector('#df-41ea13fb-1b42-4f98-b5d1-f14c0b58c805');\n",
              "          const dataTable =\n",
              "            await google.colab.kernel.invokeFunction('convertToInteractive',\n",
              "                                                     [key], {});\n",
              "          if (!dataTable) return;\n",
              "\n",
              "          const docLinkHtml = 'Like what you see? Visit the ' +\n",
              "            '<a target=\"_blank\" href=https://colab.research.google.com/notebooks/data_table.ipynb>data table notebook</a>'\n",
              "            + ' to learn more about interactive tables.';\n",
              "          element.innerHTML = '';\n",
              "          dataTable['output_type'] = 'display_data';\n",
              "          await google.colab.output.renderOutput(dataTable, element);\n",
              "          const docLink = document.createElement('div');\n",
              "          docLink.innerHTML = docLinkHtml;\n",
              "          element.appendChild(docLink);\n",
              "        }\n",
              "      </script>\n",
              "    </div>\n",
              "  </div>\n",
              "  "
            ]
          },
          "metadata": {},
          "execution_count": 118
        }
      ]
    },
    {
      "cell_type": "code",
      "source": [
        "for row in top100_wrong[0:5].itertuples():\n",
        "  _, line_number, target, text, total_lines, prediction, pred_prob, _ = row\n",
        "  print(f\"Target: {target}, Prediction: {prediction}, Probability: {pred_prob}, Line number: {line_number}, Total lines: {total_lines}\\n\")\n",
        "  print(f\"Text:\\n{text}\\n\")\n",
        "  print(\"-----\\n\")"
      ],
      "metadata": {
        "colab": {
          "base_uri": "https://localhost:8080/"
        },
        "id": "rEnyoJMd4o9T",
        "outputId": "da02b1ae-9bb2-4875-813a-3cfdfa697abc"
      },
      "execution_count": 119,
      "outputs": [
        {
          "output_type": "stream",
          "name": "stdout",
          "text": [
            "Target: METHODS, Prediction: BACKGROUND, Probability: 0.9687930941581726, Line number: 1, Total lines: 11\n",
            "\n",
            "Text:\n",
            "pretest-posttest .\n",
            "\n",
            "-----\n",
            "\n",
            "Target: METHODS, Prediction: RESULTS, Probability: 0.9521756172180176, Line number: 7, Total lines: 10\n",
            "\n",
            "Text:\n",
            "of the @ dogs receiving placebo , @ ( @ % ) vomited and @ ( @ % ) developed signs of nausea ; overall , @ of @ ( @ % ) dogs in the placebo treatment group vomited or developed signs of nausea .\n",
            "\n",
            "-----\n",
            "\n",
            "Target: METHODS, Prediction: BACKGROUND, Probability: 0.9439062476158142, Line number: 16, Total lines: 19\n",
            "\n",
            "Text:\n",
            "we will comply with the consort guidelines and will disseminate the findings at national and international conferences and in peer-reviewed journals .\n",
            "\n",
            "-----\n",
            "\n",
            "Target: CONCLUSIONS, Prediction: BACKGROUND, Probability: 0.9420761466026306, Line number: 18, Total lines: 18\n",
            "\n",
            "Text:\n",
            "nct@ ( clinicaltrials.gov ) .\n",
            "\n",
            "-----\n",
            "\n",
            "Target: OBJECTIVE, Prediction: BACKGROUND, Probability: 0.9387317299842834, Line number: 0, Total lines: 18\n",
            "\n",
            "Text:\n",
            "many people consume alcoholic beverages following a period of physical activity that results in fluid loss through sweating ( e.g. , after sports , work ) .\n",
            "\n",
            "-----\n",
            "\n"
          ]
        }
      ]
    },
    {
      "cell_type": "markdown",
      "source": [
        "## Testing the model against datasets from the wild"
      ],
      "metadata": {
        "id": "aUUjoarW5RG6"
      }
    },
    {
      "cell_type": "code",
      "source": [
        "import json\n",
        "\n",
        "!wget https://raw.githubusercontent.com/mrdbourke/tensorflow-deep-learning/main/extras/skimlit_example_abstracts.json\n",
        "\n",
        "with open(\"skimlit_example_abstracts.json\", \"r\") as f:\n",
        "  example_abstracts = json.load(f)\n",
        "\n",
        "example_abstracts"
      ],
      "metadata": {
        "colab": {
          "base_uri": "https://localhost:8080/"
        },
        "id": "w99-EyK003W6",
        "outputId": "b317266f-b588-486b-ca9d-6432f95c9916"
      },
      "execution_count": 121,
      "outputs": [
        {
          "output_type": "stream",
          "name": "stdout",
          "text": [
            "--2023-03-05 03:32:27--  https://raw.githubusercontent.com/mrdbourke/tensorflow-deep-learning/main/extras/skimlit_example_abstracts.json\n",
            "Resolving raw.githubusercontent.com (raw.githubusercontent.com)... 185.199.108.133, 185.199.110.133, 185.199.111.133, ...\n",
            "Connecting to raw.githubusercontent.com (raw.githubusercontent.com)|185.199.108.133|:443... connected.\n",
            "HTTP request sent, awaiting response... 200 OK\n",
            "Length: 6737 (6.6K) [text/plain]\n",
            "Saving to: ‘skimlit_example_abstracts.json’\n",
            "\n",
            "skimlit_example_abs 100%[===================>]   6.58K  --.-KB/s    in 0s      \n",
            "\n",
            "2023-03-05 03:32:27 (80.4 MB/s) - ‘skimlit_example_abstracts.json’ saved [6737/6737]\n",
            "\n"
          ]
        },
        {
          "output_type": "execute_result",
          "data": {
            "text/plain": [
              "[{'abstract': 'This RCT examined the efficacy of a manualized social intervention for children with HFASDs. Participants were randomly assigned to treatment or wait-list conditions. Treatment included instruction and therapeutic activities targeting social skills, face-emotion recognition, interest expansion, and interpretation of non-literal language. A response-cost program was applied to reduce problem behaviors and foster skills acquisition. Significant treatment effects were found for five of seven primary outcome measures (parent ratings and direct child measures). Secondary measures based on staff ratings (treatment group only) corroborated gains reported by parents. High levels of parent, child and staff satisfaction were reported, along with high levels of treatment fidelity. Standardized effect size estimates were primarily in the medium and large ranges and favored the treatment group.',\n",
              "  'source': 'https://pubmed.ncbi.nlm.nih.gov/20232240/',\n",
              "  'details': 'RCT of a manualized social treatment for high-functioning autism spectrum disorders'},\n",
              " {'abstract': \"Postpartum depression (PPD) is the most prevalent mood disorder associated with childbirth. No single cause of PPD has been identified, however the increased risk of nutritional deficiencies incurred through the high nutritional requirements of pregnancy may play a role in the pathology of depressive symptoms. Three nutritional interventions have drawn particular interest as possible non-invasive and cost-effective prevention and/or treatment strategies for PPD; omega-3 (n-3) long chain polyunsaturated fatty acids (LCPUFA), vitamin D and overall diet. We searched for meta-analyses of randomised controlled trials (RCT's) of nutritional interventions during the perinatal period with PPD as an outcome, and checked for any trials published subsequently to the meta-analyses. Fish oil: Eleven RCT's of prenatal fish oil supplementation RCT's show null and positive effects on PPD symptoms. Vitamin D: no relevant RCT's were identified, however seven observational studies of maternal vitamin D levels with PPD outcomes showed inconsistent associations. Diet: Two Australian RCT's with dietary advice interventions in pregnancy had a positive and null result on PPD. With the exception of fish oil, few RCT's with nutritional interventions during pregnancy assess PPD. Further research is needed to determine whether nutritional intervention strategies during pregnancy can protect against symptoms of PPD. Given the prevalence of PPD and ease of administering PPD measures, we recommend future prenatal nutritional RCT's include PPD as an outcome.\",\n",
              "  'source': 'https://pubmed.ncbi.nlm.nih.gov/28012571/',\n",
              "  'details': 'Formatting removed (can be used to compare model to actual example)'},\n",
              " {'abstract': 'Mental illness, including depression, anxiety and bipolar disorder, accounts for a significant proportion of global disability and poses a substantial social, economic and heath burden. Treatment is presently dominated by pharmacotherapy, such as antidepressants, and psychotherapy, such as cognitive behavioural therapy; however, such treatments avert less than half of the disease burden, suggesting that additional strategies are needed to prevent and treat mental disorders. There are now consistent mechanistic, observational and interventional data to suggest diet quality may be a modifiable risk factor for mental illness. This review provides an overview of the nutritional psychiatry field. It includes a discussion of the neurobiological mechanisms likely modulated by diet, the use of dietary and nutraceutical interventions in mental disorders, and recommendations for further research. Potential biological pathways related to mental disorders include inflammation, oxidative stress, the gut microbiome, epigenetic modifications and neuroplasticity. Consistent epidemiological evidence, particularly for depression, suggests an association between measures of diet quality and mental health, across multiple populations and age groups; these do not appear to be explained by other demographic, lifestyle factors or reverse causality. Our recently published intervention trial provides preliminary clinical evidence that dietary interventions in clinically diagnosed populations are feasible and can provide significant clinical benefit. Furthermore, nutraceuticals including n-3 fatty acids, folate, S-adenosylmethionine, N-acetyl cysteine and probiotics, among others, are promising avenues for future research. Continued research is now required to investigate the efficacy of intervention studies in large cohorts and within clinically relevant populations, particularly in patients with schizophrenia, bipolar and anxiety disorders.',\n",
              "  'source': 'https://pubmed.ncbi.nlm.nih.gov/28942748/',\n",
              "  'details': 'Effect of nutrition on mental health'},\n",
              " {'abstract': \"Hepatitis C virus (HCV) and alcoholic liver disease (ALD), either alone or in combination, count for more than two thirds of all liver diseases in the Western world. There is no safe level of drinking in HCV-infected patients and the most effective goal for these patients is total abstinence. Baclofen, a GABA(B) receptor agonist, represents a promising pharmacotherapy for alcohol dependence (AD). Previously, we performed a randomized clinical trial (RCT), which demonstrated the safety and efficacy of baclofen in patients affected by AD and cirrhosis. The goal of this post-hoc analysis was to explore baclofen's effect in a subgroup of alcohol-dependent HCV-infected cirrhotic patients. Any patient with HCV infection was selected for this analysis. Among the 84 subjects randomized in the main trial, 24 alcohol-dependent cirrhotic patients had a HCV infection; 12 received baclofen 10mg t.i.d. and 12 received placebo for 12-weeks. With respect to the placebo group (3/12, 25.0%), a significantly higher number of patients who achieved and maintained total alcohol abstinence was found in the baclofen group (10/12, 83.3%; p=0.0123). Furthermore, in the baclofen group, compared to placebo, there was a significantly higher increase in albumin values from baseline (p=0.0132) and a trend toward a significant reduction in INR levels from baseline (p=0.0716). In conclusion, baclofen was safe and significantly more effective than placebo in promoting alcohol abstinence, and improving some Liver Function Tests (LFTs) (i.e. albumin, INR) in alcohol-dependent HCV-infected cirrhotic patients. Baclofen may represent a clinically relevant alcohol pharmacotherapy for these patients.\",\n",
              "  'source': 'https://pubmed.ncbi.nlm.nih.gov/22244707/',\n",
              "  'details': 'Baclofen promotes alcohol abstinence in alcohol dependent cirrhotic patients with hepatitis C virus (HCV) infection'}]"
            ]
          },
          "metadata": {},
          "execution_count": 121
        }
      ]
    },
    {
      "cell_type": "code",
      "source": [
        "abstracts = pd.DataFrame(example_abstracts)\n",
        "abstracts"
      ],
      "metadata": {
        "colab": {
          "base_uri": "https://localhost:8080/",
          "height": 175
        },
        "id": "BxdCbcgs0-lJ",
        "outputId": "834f79c5-d3dc-4c75-ef27-8b3b1ecbe43d"
      },
      "execution_count": 122,
      "outputs": [
        {
          "output_type": "execute_result",
          "data": {
            "text/plain": [
              "                                            abstract  \\\n",
              "0  This RCT examined the efficacy of a manualized...   \n",
              "1  Postpartum depression (PPD) is the most preval...   \n",
              "2  Mental illness, including depression, anxiety ...   \n",
              "3  Hepatitis C virus (HCV) and alcoholic liver di...   \n",
              "\n",
              "                                      source  \\\n",
              "0  https://pubmed.ncbi.nlm.nih.gov/20232240/   \n",
              "1  https://pubmed.ncbi.nlm.nih.gov/28012571/   \n",
              "2  https://pubmed.ncbi.nlm.nih.gov/28942748/   \n",
              "3  https://pubmed.ncbi.nlm.nih.gov/22244707/   \n",
              "\n",
              "                                             details  \n",
              "0  RCT of a manualized social treatment for high-...  \n",
              "1  Formatting removed (can be used to compare mod...  \n",
              "2               Effect of nutrition on mental health  \n",
              "3  Baclofen promotes alcohol abstinence in alcoho...  "
            ],
            "text/html": [
              "\n",
              "  <div id=\"df-5834bb5b-5f68-4076-8d3d-dfa500a9c1dc\">\n",
              "    <div class=\"colab-df-container\">\n",
              "      <div>\n",
              "<style scoped>\n",
              "    .dataframe tbody tr th:only-of-type {\n",
              "        vertical-align: middle;\n",
              "    }\n",
              "\n",
              "    .dataframe tbody tr th {\n",
              "        vertical-align: top;\n",
              "    }\n",
              "\n",
              "    .dataframe thead th {\n",
              "        text-align: right;\n",
              "    }\n",
              "</style>\n",
              "<table border=\"1\" class=\"dataframe\">\n",
              "  <thead>\n",
              "    <tr style=\"text-align: right;\">\n",
              "      <th></th>\n",
              "      <th>abstract</th>\n",
              "      <th>source</th>\n",
              "      <th>details</th>\n",
              "    </tr>\n",
              "  </thead>\n",
              "  <tbody>\n",
              "    <tr>\n",
              "      <th>0</th>\n",
              "      <td>This RCT examined the efficacy of a manualized...</td>\n",
              "      <td>https://pubmed.ncbi.nlm.nih.gov/20232240/</td>\n",
              "      <td>RCT of a manualized social treatment for high-...</td>\n",
              "    </tr>\n",
              "    <tr>\n",
              "      <th>1</th>\n",
              "      <td>Postpartum depression (PPD) is the most preval...</td>\n",
              "      <td>https://pubmed.ncbi.nlm.nih.gov/28012571/</td>\n",
              "      <td>Formatting removed (can be used to compare mod...</td>\n",
              "    </tr>\n",
              "    <tr>\n",
              "      <th>2</th>\n",
              "      <td>Mental illness, including depression, anxiety ...</td>\n",
              "      <td>https://pubmed.ncbi.nlm.nih.gov/28942748/</td>\n",
              "      <td>Effect of nutrition on mental health</td>\n",
              "    </tr>\n",
              "    <tr>\n",
              "      <th>3</th>\n",
              "      <td>Hepatitis C virus (HCV) and alcoholic liver di...</td>\n",
              "      <td>https://pubmed.ncbi.nlm.nih.gov/22244707/</td>\n",
              "      <td>Baclofen promotes alcohol abstinence in alcoho...</td>\n",
              "    </tr>\n",
              "  </tbody>\n",
              "</table>\n",
              "</div>\n",
              "      <button class=\"colab-df-convert\" onclick=\"convertToInteractive('df-5834bb5b-5f68-4076-8d3d-dfa500a9c1dc')\"\n",
              "              title=\"Convert this dataframe to an interactive table.\"\n",
              "              style=\"display:none;\">\n",
              "        \n",
              "  <svg xmlns=\"http://www.w3.org/2000/svg\" height=\"24px\"viewBox=\"0 0 24 24\"\n",
              "       width=\"24px\">\n",
              "    <path d=\"M0 0h24v24H0V0z\" fill=\"none\"/>\n",
              "    <path d=\"M18.56 5.44l.94 2.06.94-2.06 2.06-.94-2.06-.94-.94-2.06-.94 2.06-2.06.94zm-11 1L8.5 8.5l.94-2.06 2.06-.94-2.06-.94L8.5 2.5l-.94 2.06-2.06.94zm10 10l.94 2.06.94-2.06 2.06-.94-2.06-.94-.94-2.06-.94 2.06-2.06.94z\"/><path d=\"M17.41 7.96l-1.37-1.37c-.4-.4-.92-.59-1.43-.59-.52 0-1.04.2-1.43.59L10.3 9.45l-7.72 7.72c-.78.78-.78 2.05 0 2.83L4 21.41c.39.39.9.59 1.41.59.51 0 1.02-.2 1.41-.59l7.78-7.78 2.81-2.81c.8-.78.8-2.07 0-2.86zM5.41 20L4 18.59l7.72-7.72 1.47 1.35L5.41 20z\"/>\n",
              "  </svg>\n",
              "      </button>\n",
              "      \n",
              "  <style>\n",
              "    .colab-df-container {\n",
              "      display:flex;\n",
              "      flex-wrap:wrap;\n",
              "      gap: 12px;\n",
              "    }\n",
              "\n",
              "    .colab-df-convert {\n",
              "      background-color: #E8F0FE;\n",
              "      border: none;\n",
              "      border-radius: 50%;\n",
              "      cursor: pointer;\n",
              "      display: none;\n",
              "      fill: #1967D2;\n",
              "      height: 32px;\n",
              "      padding: 0 0 0 0;\n",
              "      width: 32px;\n",
              "    }\n",
              "\n",
              "    .colab-df-convert:hover {\n",
              "      background-color: #E2EBFA;\n",
              "      box-shadow: 0px 1px 2px rgba(60, 64, 67, 0.3), 0px 1px 3px 1px rgba(60, 64, 67, 0.15);\n",
              "      fill: #174EA6;\n",
              "    }\n",
              "\n",
              "    [theme=dark] .colab-df-convert {\n",
              "      background-color: #3B4455;\n",
              "      fill: #D2E3FC;\n",
              "    }\n",
              "\n",
              "    [theme=dark] .colab-df-convert:hover {\n",
              "      background-color: #434B5C;\n",
              "      box-shadow: 0px 1px 3px 1px rgba(0, 0, 0, 0.15);\n",
              "      filter: drop-shadow(0px 1px 2px rgba(0, 0, 0, 0.3));\n",
              "      fill: #FFFFFF;\n",
              "    }\n",
              "  </style>\n",
              "\n",
              "      <script>\n",
              "        const buttonEl =\n",
              "          document.querySelector('#df-5834bb5b-5f68-4076-8d3d-dfa500a9c1dc button.colab-df-convert');\n",
              "        buttonEl.style.display =\n",
              "          google.colab.kernel.accessAllowed ? 'block' : 'none';\n",
              "\n",
              "        async function convertToInteractive(key) {\n",
              "          const element = document.querySelector('#df-5834bb5b-5f68-4076-8d3d-dfa500a9c1dc');\n",
              "          const dataTable =\n",
              "            await google.colab.kernel.invokeFunction('convertToInteractive',\n",
              "                                                     [key], {});\n",
              "          if (!dataTable) return;\n",
              "\n",
              "          const docLinkHtml = 'Like what you see? Visit the ' +\n",
              "            '<a target=\"_blank\" href=https://colab.research.google.com/notebooks/data_table.ipynb>data table notebook</a>'\n",
              "            + ' to learn more about interactive tables.';\n",
              "          element.innerHTML = '';\n",
              "          dataTable['output_type'] = 'display_data';\n",
              "          await google.colab.output.renderOutput(dataTable, element);\n",
              "          const docLink = document.createElement('div');\n",
              "          docLink.innerHTML = docLinkHtml;\n",
              "          element.appendChild(docLink);\n",
              "        }\n",
              "      </script>\n",
              "    </div>\n",
              "  </div>\n",
              "  "
            ]
          },
          "metadata": {},
          "execution_count": 122
        }
      ]
    },
    {
      "cell_type": "code",
      "source": [
        "# Create sentencizer - Source: https://spacy.io/usage/linguistic-features#sbd \n",
        "from spacy.lang.en import English\n",
        "\n",
        "nlp = English() # setup English sentence parser\n",
        "nlp.add_pipe('sentencizer') # add sentence splitting pipeline object to sentence parser\n",
        "doc = nlp(example_abstracts[0][\"abstract\"]) # create \"doc\" of parsed sequences, change index for a different abstract\n",
        "abstract_lines = [str(sent) for sent in list(doc.sents)] # return detected sentences from doc in string type (not spaCy token type)\n",
        "abstract_lines"
      ],
      "metadata": {
        "colab": {
          "base_uri": "https://localhost:8080/"
        },
        "id": "cFcZcqWl1Cot",
        "outputId": "b3e61ede-0c11-471b-8961-0a60c92e423b"
      },
      "execution_count": 127,
      "outputs": [
        {
          "output_type": "execute_result",
          "data": {
            "text/plain": [
              "['This RCT examined the efficacy of a manualized social intervention for children with HFASDs.',\n",
              " 'Participants were randomly assigned to treatment or wait-list conditions.',\n",
              " 'Treatment included instruction and therapeutic activities targeting social skills, face-emotion recognition, interest expansion, and interpretation of non-literal language.',\n",
              " 'A response-cost program was applied to reduce problem behaviors and foster skills acquisition.',\n",
              " 'Significant treatment effects were found for five of seven primary outcome measures (parent ratings and direct child measures).',\n",
              " 'Secondary measures based on staff ratings (treatment group only) corroborated gains reported by parents.',\n",
              " 'High levels of parent, child and staff satisfaction were reported, along with high levels of treatment fidelity.',\n",
              " 'Standardized effect size estimates were primarily in the medium and large ranges and favored the treatment group.']"
            ]
          },
          "metadata": {},
          "execution_count": 127
        }
      ]
    },
    {
      "cell_type": "code",
      "source": [
        "# Get total number of lines\n",
        "total_lines_in_sample = len(abstract_lines)\n",
        "\n",
        "# Go through each line in abstract and create a list of dictionaries containing features for each line\n",
        "sample_lines = []\n",
        "for i, line in enumerate(abstract_lines):\n",
        "  sample_dict = {}\n",
        "  sample_dict[\"text\"] = str(line)\n",
        "  sample_dict[\"line_number\"] = i\n",
        "  sample_dict[\"total_lines\"] = total_lines_in_sample - 1\n",
        "  sample_lines.append(sample_dict)\n",
        "sample_lines"
      ],
      "metadata": {
        "colab": {
          "base_uri": "https://localhost:8080/"
        },
        "id": "2nCO6Omy1HD5",
        "outputId": "6a1ac756-c621-4597-bb2f-85ea7e998aa5"
      },
      "execution_count": 128,
      "outputs": [
        {
          "output_type": "execute_result",
          "data": {
            "text/plain": [
              "[{'text': 'This RCT examined the efficacy of a manualized social intervention for children with HFASDs.',\n",
              "  'line_number': 0,\n",
              "  'total_lines': 7},\n",
              " {'text': 'Participants were randomly assigned to treatment or wait-list conditions.',\n",
              "  'line_number': 1,\n",
              "  'total_lines': 7},\n",
              " {'text': 'Treatment included instruction and therapeutic activities targeting social skills, face-emotion recognition, interest expansion, and interpretation of non-literal language.',\n",
              "  'line_number': 2,\n",
              "  'total_lines': 7},\n",
              " {'text': 'A response-cost program was applied to reduce problem behaviors and foster skills acquisition.',\n",
              "  'line_number': 3,\n",
              "  'total_lines': 7},\n",
              " {'text': 'Significant treatment effects were found for five of seven primary outcome measures (parent ratings and direct child measures).',\n",
              "  'line_number': 4,\n",
              "  'total_lines': 7},\n",
              " {'text': 'Secondary measures based on staff ratings (treatment group only) corroborated gains reported by parents.',\n",
              "  'line_number': 5,\n",
              "  'total_lines': 7},\n",
              " {'text': 'High levels of parent, child and staff satisfaction were reported, along with high levels of treatment fidelity.',\n",
              "  'line_number': 6,\n",
              "  'total_lines': 7},\n",
              " {'text': 'Standardized effect size estimates were primarily in the medium and large ranges and favored the treatment group.',\n",
              "  'line_number': 7,\n",
              "  'total_lines': 7}]"
            ]
          },
          "metadata": {},
          "execution_count": 128
        }
      ]
    },
    {
      "cell_type": "code",
      "source": [
        "# Get all line_number values from sample abstract\n",
        "test_abstract_line_numbers = [line[\"line_number\"] for line in sample_lines]\n",
        "# One-hot encode to same depth as training data, so model accepts right input shape\n",
        "test_abstract_line_numbers_one_hot = tf.one_hot(test_abstract_line_numbers, depth=15) \n",
        "test_abstract_line_numbers_one_hot"
      ],
      "metadata": {
        "colab": {
          "base_uri": "https://localhost:8080/"
        },
        "id": "vOytmuEH10if",
        "outputId": "4da5400a-b095-4d4d-c5db-23f75512994a"
      },
      "execution_count": 129,
      "outputs": [
        {
          "output_type": "execute_result",
          "data": {
            "text/plain": [
              "<tf.Tensor: shape=(8, 15), dtype=float32, numpy=\n",
              "array([[1., 0., 0., 0., 0., 0., 0., 0., 0., 0., 0., 0., 0., 0., 0.],\n",
              "       [0., 1., 0., 0., 0., 0., 0., 0., 0., 0., 0., 0., 0., 0., 0.],\n",
              "       [0., 0., 1., 0., 0., 0., 0., 0., 0., 0., 0., 0., 0., 0., 0.],\n",
              "       [0., 0., 0., 1., 0., 0., 0., 0., 0., 0., 0., 0., 0., 0., 0.],\n",
              "       [0., 0., 0., 0., 1., 0., 0., 0., 0., 0., 0., 0., 0., 0., 0.],\n",
              "       [0., 0., 0., 0., 0., 1., 0., 0., 0., 0., 0., 0., 0., 0., 0.],\n",
              "       [0., 0., 0., 0., 0., 0., 1., 0., 0., 0., 0., 0., 0., 0., 0.],\n",
              "       [0., 0., 0., 0., 0., 0., 0., 1., 0., 0., 0., 0., 0., 0., 0.]],\n",
              "      dtype=float32)>"
            ]
          },
          "metadata": {},
          "execution_count": 129
        }
      ]
    },
    {
      "cell_type": "code",
      "source": [
        "# Get all total_lines values from sample abstract\n",
        "test_abstract_total_lines = [line[\"total_lines\"] for line in sample_lines]\n",
        "# One-hot encode to same depth as training data, so model accepts right input shape\n",
        "test_abstract_total_lines_one_hot = tf.one_hot(test_abstract_total_lines, depth=20)\n",
        "test_abstract_total_lines_one_hot"
      ],
      "metadata": {
        "colab": {
          "base_uri": "https://localhost:8080/"
        },
        "id": "76ja24gZ13eH",
        "outputId": "ea6cf6e9-d74a-4202-f7ed-fbca10c9a19e"
      },
      "execution_count": 130,
      "outputs": [
        {
          "output_type": "execute_result",
          "data": {
            "text/plain": [
              "<tf.Tensor: shape=(8, 20), dtype=float32, numpy=\n",
              "array([[0., 0., 0., 0., 0., 0., 0., 1., 0., 0., 0., 0., 0., 0., 0., 0.,\n",
              "        0., 0., 0., 0.],\n",
              "       [0., 0., 0., 0., 0., 0., 0., 1., 0., 0., 0., 0., 0., 0., 0., 0.,\n",
              "        0., 0., 0., 0.],\n",
              "       [0., 0., 0., 0., 0., 0., 0., 1., 0., 0., 0., 0., 0., 0., 0., 0.,\n",
              "        0., 0., 0., 0.],\n",
              "       [0., 0., 0., 0., 0., 0., 0., 1., 0., 0., 0., 0., 0., 0., 0., 0.,\n",
              "        0., 0., 0., 0.],\n",
              "       [0., 0., 0., 0., 0., 0., 0., 1., 0., 0., 0., 0., 0., 0., 0., 0.,\n",
              "        0., 0., 0., 0.],\n",
              "       [0., 0., 0., 0., 0., 0., 0., 1., 0., 0., 0., 0., 0., 0., 0., 0.,\n",
              "        0., 0., 0., 0.],\n",
              "       [0., 0., 0., 0., 0., 0., 0., 1., 0., 0., 0., 0., 0., 0., 0., 0.,\n",
              "        0., 0., 0., 0.],\n",
              "       [0., 0., 0., 0., 0., 0., 0., 1., 0., 0., 0., 0., 0., 0., 0., 0.,\n",
              "        0., 0., 0., 0.]], dtype=float32)>"
            ]
          },
          "metadata": {},
          "execution_count": 130
        }
      ]
    },
    {
      "cell_type": "code",
      "source": [
        "# Split abstract lines into characters\n",
        "abstract_chars = [split_to_chars(sentence) for sentence in abstract_lines]\n",
        "abstract_chars"
      ],
      "metadata": {
        "colab": {
          "base_uri": "https://localhost:8080/"
        },
        "id": "eBVF4Mk-15zZ",
        "outputId": "aeca79ab-9400-4232-b356-7df1ab70d931"
      },
      "execution_count": 132,
      "outputs": [
        {
          "output_type": "execute_result",
          "data": {
            "text/plain": [
              "['T h i s   R C T   e x a m i n e d   t h e   e f f i c a c y   o f   a   m a n u a l i z e d   s o c i a l   i n t e r v e n t i o n   f o r   c h i l d r e n   w i t h   H F A S D s .',\n",
              " 'P a r t i c i p a n t s   w e r e   r a n d o m l y   a s s i g n e d   t o   t r e a t m e n t   o r   w a i t - l i s t   c o n d i t i o n s .',\n",
              " 'T r e a t m e n t   i n c l u d e d   i n s t r u c t i o n   a n d   t h e r a p e u t i c   a c t i v i t i e s   t a r g e t i n g   s o c i a l   s k i l l s ,   f a c e - e m o t i o n   r e c o g n i t i o n ,   i n t e r e s t   e x p a n s i o n ,   a n d   i n t e r p r e t a t i o n   o f   n o n - l i t e r a l   l a n g u a g e .',\n",
              " 'A   r e s p o n s e - c o s t   p r o g r a m   w a s   a p p l i e d   t o   r e d u c e   p r o b l e m   b e h a v i o r s   a n d   f o s t e r   s k i l l s   a c q u i s i t i o n .',\n",
              " 'S i g n i f i c a n t   t r e a t m e n t   e f f e c t s   w e r e   f o u n d   f o r   f i v e   o f   s e v e n   p r i m a r y   o u t c o m e   m e a s u r e s   ( p a r e n t   r a t i n g s   a n d   d i r e c t   c h i l d   m e a s u r e s ) .',\n",
              " 'S e c o n d a r y   m e a s u r e s   b a s e d   o n   s t a f f   r a t i n g s   ( t r e a t m e n t   g r o u p   o n l y )   c o r r o b o r a t e d   g a i n s   r e p o r t e d   b y   p a r e n t s .',\n",
              " 'H i g h   l e v e l s   o f   p a r e n t ,   c h i l d   a n d   s t a f f   s a t i s f a c t i o n   w e r e   r e p o r t e d ,   a l o n g   w i t h   h i g h   l e v e l s   o f   t r e a t m e n t   f i d e l i t y .',\n",
              " 'S t a n d a r d i z e d   e f f e c t   s i z e   e s t i m a t e s   w e r e   p r i m a r i l y   i n   t h e   m e d i u m   a n d   l a r g e   r a n g e s   a n d   f a v o r e d   t h e   t r e a t m e n t   g r o u p .']"
            ]
          },
          "metadata": {},
          "execution_count": 132
        }
      ]
    },
    {
      "cell_type": "code",
      "source": [
        "# Make predictions on sample abstract features\n",
        "%%time\n",
        "test_abstract_pred_probs = model.predict(x=(test_abstract_line_numbers_one_hot,\n",
        "                                            test_abstract_total_lines_one_hot,\n",
        "                                            tf.constant(abstract_lines),\n",
        "                                            tf.constant(abstract_chars)))\n",
        "test_abstract_pred_probs"
      ],
      "metadata": {
        "colab": {
          "base_uri": "https://localhost:8080/"
        },
        "id": "sT5PxfVg18du",
        "outputId": "933f2fbc-c68d-4f5f-fbd5-4b335bd2ca22"
      },
      "execution_count": 134,
      "outputs": [
        {
          "output_type": "stream",
          "name": "stdout",
          "text": [
            "1/1 [==============================] - 2s 2s/step\n",
            "CPU times: user 1.96 s, sys: 26.9 ms, total: 1.99 s\n",
            "Wall time: 2.09 s\n"
          ]
        },
        {
          "output_type": "execute_result",
          "data": {
            "text/plain": [
              "array([[0.3539962 , 0.09886955, 0.05459634, 0.45247555, 0.04006235],\n",
              "       [0.09687404, 0.04400753, 0.69923455, 0.11033773, 0.04954607],\n",
              "       [0.05452731, 0.02529541, 0.8165025 , 0.06141916, 0.0422556 ],\n",
              "       [0.08474278, 0.16555925, 0.5567454 , 0.07625996, 0.11669263],\n",
              "       [0.05405024, 0.08814576, 0.20546225, 0.04507188, 0.6072698 ],\n",
              "       [0.03094934, 0.06092443, 0.612075  , 0.04105238, 0.25499886],\n",
              "       [0.01478845, 0.04355629, 0.02826444, 0.02272507, 0.89066577],\n",
              "       [0.01028181, 0.06543637, 0.038164  , 0.0171633 , 0.86895454]],\n",
              "      dtype=float32)"
            ]
          },
          "metadata": {},
          "execution_count": 134
        }
      ]
    },
    {
      "cell_type": "code",
      "source": [
        "# Turn prediction probabilities into prediction classes\n",
        "test_abstract_preds = tf.argmax(test_abstract_pred_probs, axis=1)\n",
        "                                \n",
        "# Turn prediction class integers into string class names\n",
        "test_abstract_pred_classes = [label_encoder.classes_[i] for i in test_abstract_preds]\n",
        "\n",
        "# Visualize abstract lines and predicted sequence labels\n",
        "for i, line in enumerate(abstract_lines):\n",
        "  print(f\"{test_abstract_pred_classes[i]}: {line}\")"
      ],
      "metadata": {
        "colab": {
          "base_uri": "https://localhost:8080/"
        },
        "id": "xgg8r-HP2Kre",
        "outputId": "e822fa1b-0546-4576-d5ef-3c0ad7f59247"
      },
      "execution_count": 135,
      "outputs": [
        {
          "output_type": "stream",
          "name": "stdout",
          "text": [
            "OBJECTIVE: This RCT examined the efficacy of a manualized social intervention for children with HFASDs.\n",
            "METHODS: Participants were randomly assigned to treatment or wait-list conditions.\n",
            "METHODS: Treatment included instruction and therapeutic activities targeting social skills, face-emotion recognition, interest expansion, and interpretation of non-literal language.\n",
            "METHODS: A response-cost program was applied to reduce problem behaviors and foster skills acquisition.\n",
            "RESULTS: Significant treatment effects were found for five of seven primary outcome measures (parent ratings and direct child measures).\n",
            "METHODS: Secondary measures based on staff ratings (treatment group only) corroborated gains reported by parents.\n",
            "RESULTS: High levels of parent, child and staff satisfaction were reported, along with high levels of treatment fidelity.\n",
            "RESULTS: Standardized effect size estimates were primarily in the medium and large ranges and favored the treatment group.\n"
          ]
        }
      ]
    }
  ]
}